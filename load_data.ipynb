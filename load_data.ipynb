{
 "cells": [
  {
   "metadata": {
    "ExecuteTime": {
     "end_time": "2025-04-07T19:16:58.939912Z",
     "start_time": "2025-04-07T19:16:58.936464Z"
    }
   },
   "cell_type": "code",
   "source": [
    "import pandas as pd\n",
    "import json"
   ],
   "id": "a4dc2c33ce5ecf50",
   "outputs": [],
   "execution_count": 1
  },
  {
   "metadata": {
    "ExecuteTime": {
     "end_time": "2025-04-07T19:17:24.579982Z",
     "start_time": "2025-04-07T19:16:58.948502Z"
    }
   },
   "cell_type": "code",
   "source": [
    "chunk_size = 10000  # Process 10,000 records at a time\n",
    "chunks = []\n",
    "\n",
    "with open('data/yelp_dataset/yelp_academic_dataset_review.json', 'r') as f:\n",
    "    reviews = []\n",
    "    for i, line in enumerate(f):\n",
    "        reviews.append(json.loads(line))\n",
    "        \n",
    "        # When chunk_size is reached, convert to DataFrame and store\n",
    "        if (i + 1) % chunk_size == 0:\n",
    "            chunks.append(pd.DataFrame(reviews))\n",
    "            reviews = []  # Clear memory for next chunk\n",
    "    \n",
    "    # Handle any remaining records (less than a full chunk)\n",
    "    if reviews:\n",
    "        chunks.append(pd.DataFrame(reviews))\n",
    "\n",
    "# Combine all chunks into final DataFrame\n",
    "reviews_df = pd.concat(chunks, ignore_index=True)"
   ],
   "id": "initial_id",
   "outputs": [],
   "execution_count": 2
  },
  {
   "metadata": {
    "ExecuteTime": {
     "end_time": "2025-04-07T19:17:25.163174Z",
     "start_time": "2025-04-07T19:17:24.581263Z"
    }
   },
   "cell_type": "code",
   "source": [
    "# Create a new sentiment column based on star ratings\n",
    "reviews_df.loc[:, 'sentiment'] = reviews_df['stars'].apply(lambda x: \n",
    "    \"negative\" if x <= 2 else \n",
    "    \"neutral\" if x == 3 else \n",
    "    \"positive\")"
   ],
   "id": "25f9085fd5060c2b",
   "outputs": [],
   "execution_count": 3
  },
  {
   "metadata": {
    "ExecuteTime": {
     "end_time": "2025-04-07T19:17:25.242778Z",
     "start_time": "2025-04-07T19:17:25.163945Z"
    }
   },
   "cell_type": "code",
   "source": [
    "# Get 5 random reviews\n",
    "random_reviews = reviews_df.sample(n=5)\n",
    "\n",
    "# Print each review text\n",
    "for i, (index, row) in enumerate(random_reviews.iterrows()):\n",
    "    print(f\"\\nRandom review #{i+1} (index {index}):\")\n",
    "    print(f\"Rating: {row['stars']} stars\")\n",
    "    print(f\"Sentiment: {row['sentiment']}\")\n",
    "    print(row['text'])\n",
    "    print(\"-\" * 50)"
   ],
   "id": "30200e05797c97f2",
   "outputs": [
    {
     "name": "stdout",
     "output_type": "stream",
     "text": [
      "\n",
      "Random review #1 (index 6490664):\n",
      "Rating: 3.0 stars\n",
      "Sentiment: neutral\n",
      "Historical and a good burger. The service was quick and friendly. Locals eat here worth the trolley ride to go eat here.\n",
      "--------------------------------------------------\n",
      "\n",
      "Random review #2 (index 1668098):\n",
      "Rating: 4.0 stars\n",
      "Sentiment: positive\n",
      "Wow, Shawn and Lakeview Movers are really amazing. \n",
      "I got his name from the Brown Elephant, a thrift store where I bought my couch. \n",
      "When he saw my apartment and the size of my couch, Shawn and his coworker doubted whether the couch would fit. \n",
      "Well, to my surprise, he got it in and he was very friendly and efficient as well. They were very kind and though there were only 2 of them there, I felt like I had 4 movers helping with that couch! \n",
      "I highly recommend them.\n",
      "--------------------------------------------------\n",
      "\n",
      "Random review #3 (index 5969170):\n",
      "Rating: 5.0 stars\n",
      "Sentiment: positive\n",
      "I have been taking my car to Tiger for the past 10 years. They have helped me multiple times with my Honda Civic. Every time I've needed them, they've  bent over backwards to get me back on the road.  Each repair has held and the price is always surprising affordable. Tiger also has a family feel when you walk in. They're patient when explaining a solution and they've always had my car done in a day. I highly recommend this place.\n",
      "--------------------------------------------------\n",
      "\n",
      "Random review #4 (index 5221747):\n",
      "Rating: 5.0 stars\n",
      "Sentiment: positive\n",
      "I love placing orders using the app, fast and convenient. \n",
      "They great chicken , biscuits or healthier choices.\n",
      "--------------------------------------------------\n",
      "\n",
      "Random review #5 (index 1188992):\n",
      "Rating: 1.0 stars\n",
      "Sentiment: negative\n",
      "I come here quite a lot, but I was really disappointed when I found hair on my food and the server weren't even willing to give me a discount or remove the item from my bill. Disgusted. Wont ever be back. This was actually my girl's first time trying indian food.\n",
      "--------------------------------------------------\n"
     ]
    }
   ],
   "execution_count": 4
  },
  {
   "metadata": {
    "ExecuteTime": {
     "end_time": "2025-04-07T19:17:41.851Z",
     "start_time": "2025-04-07T19:17:25.244275Z"
    }
   },
   "cell_type": "code",
   "source": [
    "chunk_size = 5000 \n",
    "chunks = []\n",
    "\n",
    "with open('data/yelp_dataset/yelp_academic_dataset_user.json', 'r') as f:\n",
    "    users = []\n",
    "    for i, line in enumerate(f):\n",
    "        users.append(json.loads(line))\n",
    "        \n",
    "        if (i + 1) % chunk_size == 0:\n",
    "            chunks.append(pd.DataFrame(users))\n",
    "            users = []  # Reset for next chunk\n",
    "    \n",
    "    # Add any remaining users\n",
    "    if users:\n",
    "        chunks.append(pd.DataFrame(users))\n",
    "\n",
    "# Concatenate all chunks\n",
    "user_df = pd.concat(chunks, ignore_index=True)\n",
    "\n",
    "# Preview the DataFrame\n",
    "print(user_df.shape)\n",
    "print(user_df.columns)"
   ],
   "id": "c39069d313b600fe",
   "outputs": [
    {
     "name": "stdout",
     "output_type": "stream",
     "text": [
      "(1987897, 22)\n",
      "Index(['user_id', 'name', 'review_count', 'yelping_since', 'useful', 'funny',\n",
      "       'cool', 'elite', 'friends', 'fans', 'average_stars', 'compliment_hot',\n",
      "       'compliment_more', 'compliment_profile', 'compliment_cute',\n",
      "       'compliment_list', 'compliment_note', 'compliment_plain',\n",
      "       'compliment_cool', 'compliment_funny', 'compliment_writer',\n",
      "       'compliment_photos'],\n",
      "      dtype='object')\n"
     ]
    }
   ],
   "execution_count": 5
  },
  {
   "metadata": {
    "ExecuteTime": {
     "end_time": "2025-04-07T19:17:42.919534Z",
     "start_time": "2025-04-07T19:17:41.851860Z"
    }
   },
   "cell_type": "code",
   "source": [
    "chunk_size = 5000 \n",
    "chunks = []\n",
    "\n",
    "with open('data/yelp_dataset/yelp_academic_dataset_business.json', 'r') as f:\n",
    "    businesses = []\n",
    "    for i, line in enumerate(f):\n",
    "        businesses.append(json.loads(line))\n",
    "        \n",
    "        if (i + 1) % chunk_size == 0:\n",
    "            chunks.append(pd.DataFrame(businesses))\n",
    "            businesses = []  # Reset for next chunk\n",
    "    \n",
    "    # Add any remaining businesses\n",
    "    if businesses:\n",
    "        chunks.append(pd.DataFrame(businesses))\n",
    "\n",
    "# Concatenate all chunks\n",
    "business_df = pd.concat(chunks, ignore_index=True)\n",
    "\n",
    "# Preview the DataFrame\n",
    "print(business_df.head())\n",
    "print(business_df.columns)"
   ],
   "id": "c4fe34408d9a315e",
   "outputs": [
    {
     "name": "stdout",
     "output_type": "stream",
     "text": [
      "              business_id                      name  \\\n",
      "0  Pns2l4eNsfO8kk83dixA6A  Abby Rappoport, LAC, CMQ   \n",
      "1  mpf3x-BjTdTEA3yCZrAYPw             The UPS Store   \n",
      "2  tUFrWirKiKi_TAnsVWINQQ                    Target   \n",
      "3  MTSW4McQd7CbVtyjqoe9mw        St Honore Pastries   \n",
      "4  mWMc6_wTdE0EUBKIGXDVfA  Perkiomen Valley Brewery   \n",
      "\n",
      "                           address           city state postal_code  \\\n",
      "0           1616 Chapala St, Ste 2  Santa Barbara    CA       93101   \n",
      "1  87 Grasso Plaza Shopping Center         Affton    MO       63123   \n",
      "2             5255 E Broadway Blvd         Tucson    AZ       85711   \n",
      "3                      935 Race St   Philadelphia    PA       19107   \n",
      "4                    101 Walnut St     Green Lane    PA       18054   \n",
      "\n",
      "    latitude   longitude  stars  review_count  is_open  \\\n",
      "0  34.426679 -119.711197    5.0             7        0   \n",
      "1  38.551126  -90.335695    3.0            15        1   \n",
      "2  32.223236 -110.880452    3.5            22        0   \n",
      "3  39.955505  -75.155564    4.0            80        1   \n",
      "4  40.338183  -75.471659    4.5            13        1   \n",
      "\n",
      "                                          attributes  \\\n",
      "0                      {'ByAppointmentOnly': 'True'}   \n",
      "1             {'BusinessAcceptsCreditCards': 'True'}   \n",
      "2  {'BikeParking': 'True', 'BusinessAcceptsCredit...   \n",
      "3  {'RestaurantsDelivery': 'False', 'OutdoorSeati...   \n",
      "4  {'BusinessAcceptsCreditCards': 'True', 'Wheelc...   \n",
      "\n",
      "                                          categories  \\\n",
      "0  Doctors, Traditional Chinese Medicine, Naturop...   \n",
      "1  Shipping Centers, Local Services, Notaries, Ma...   \n",
      "2  Department Stores, Shopping, Fashion, Home & G...   \n",
      "3  Restaurants, Food, Bubble Tea, Coffee & Tea, B...   \n",
      "4                          Brewpubs, Breweries, Food   \n",
      "\n",
      "                                               hours  \n",
      "0                                               None  \n",
      "1  {'Monday': '0:0-0:0', 'Tuesday': '8:0-18:30', ...  \n",
      "2  {'Monday': '8:0-22:0', 'Tuesday': '8:0-22:0', ...  \n",
      "3  {'Monday': '7:0-20:0', 'Tuesday': '7:0-20:0', ...  \n",
      "4  {'Wednesday': '14:0-22:0', 'Thursday': '16:0-2...  \n",
      "Index(['business_id', 'name', 'address', 'city', 'state', 'postal_code',\n",
      "       'latitude', 'longitude', 'stars', 'review_count', 'is_open',\n",
      "       'attributes', 'categories', 'hours'],\n",
      "      dtype='object')\n"
     ]
    }
   ],
   "execution_count": 6
  },
  {
   "metadata": {
    "ExecuteTime": {
     "end_time": "2025-04-07T19:17:42.942853Z",
     "start_time": "2025-04-07T19:17:42.920216Z"
    }
   },
   "cell_type": "code",
   "source": [
    "# Count the number of unique cities\n",
    "city_counts = business_df['city'].value_counts()\n",
    "print(city_counts.head(10))"
   ],
   "id": "202c44c5a5fe128d",
   "outputs": [
    {
     "name": "stdout",
     "output_type": "stream",
     "text": [
      "city\n",
      "Philadelphia     14569\n",
      "Tucson            9250\n",
      "Tampa             9050\n",
      "Indianapolis      7540\n",
      "Nashville         6971\n",
      "New Orleans       6209\n",
      "Reno              5935\n",
      "Edmonton          5054\n",
      "Saint Louis       4827\n",
      "Santa Barbara     3829\n",
      "Name: count, dtype: int64\n"
     ]
    }
   ],
   "execution_count": 7
  },
  {
   "metadata": {
    "ExecuteTime": {
     "end_time": "2025-04-07T19:17:44.544031Z",
     "start_time": "2025-04-07T19:17:42.943503Z"
    }
   },
   "cell_type": "code",
   "source": [
    "city = 'Nashville'\n",
    "# Filter businesses in city\n",
    "city_businesses = business_df[business_df['city'] == city]\n",
    "\n",
    "# Preview the filtered DataFrame\n",
    "print(f\"Number of {city} businesses: {len(city_businesses)}\")\n",
    "\n",
    "# Filter for businesses where 'Restaurants' appears in the categories\n",
    "city_businesses_with_categories = city_businesses.dropna(subset=['categories'])\n",
    "city_restaurants = city_businesses_with_categories[\n",
    "    city_businesses_with_categories['categories'].str.contains('Restaurants', case=False, na=False)\n",
    "]\n",
    "\n",
    "# Preview the filtered restaurants\n",
    "print(f\"Number of restaurants in {city}: {len(city_restaurants)}\")\n",
    "\n",
    "# Get the business IDs for city restaurants\n",
    "city_restaurants_ids = set(city_restaurants['business_id'].values)\n",
    "\n",
    "# Get the business IDs for all city businesses\n",
    "city_businesses_ids = set(city_businesses['business_id'].values)\n",
    "\n",
    "# Filter reviews for only city restaurants\n",
    "city_restaurant_reviews = reviews_df[reviews_df['business_id'].isin(city_restaurants_ids)].copy()\n",
    "print(f\"Number of reviews for city restaurants: {len(city_restaurant_reviews)}\")\n",
    "\n",
    "# Filter reviews for all businesses in the city\n",
    "city_reviews = reviews_df[reviews_df['business_id'].isin(city_businesses_ids)].copy()\n",
    "print(f\"Number of reviews for city: {len(city_reviews)}\")"
   ],
   "id": "cef5d36e26d4006",
   "outputs": [
    {
     "name": "stdout",
     "output_type": "stream",
     "text": [
      "Number of Nashville businesses: 6971\n",
      "Number of restaurants in Nashville: 2502\n",
      "Number of reviews for city restaurants: 325726\n",
      "Number of reviews for city: 451571\n"
     ]
    }
   ],
   "execution_count": 8
  },
  {
   "metadata": {
    "ExecuteTime": {
     "end_time": "2025-04-07T19:17:44.551912Z",
     "start_time": "2025-04-07T19:17:44.544915Z"
    }
   },
   "cell_type": "code",
   "source": "city_reviews.head()",
   "id": "928088f1dd328e86",
   "outputs": [
    {
     "data": {
      "text/plain": [
       "                 review_id                 user_id             business_id  \\\n",
       "29  elqRpX9T3YwL07uLNtN3Bg  -sryo4gDYxbZ1T5Bz4l5Bw  ltBBYdNzkeKdCNPDAsxwAA   \n",
       "34  p198qZsKOMCUhgdtRWsOKQ  3MpDvy5gEdsbZh9-p92dHg  8QnuWGVNBhzyYXGSeRdi4g   \n",
       "39  E9AB7V4z8xrt2uPF7T55FQ  iYY5Ii1LGpZCpXFkHlMefw  Zx7n8mdt8OzLRXVzolXNhQ   \n",
       "43  qGQvUHmC02PAZW3H1WTIfw  RRTQpg8hutdimzAYuP_Hbw  eaJCpC6IhYphj7bwCDHTwQ   \n",
       "63  67cGcRrS0jTvB8p7rpaPew  8YSxVaD203mE_9FR4nCEVA  oQ5CPRt0R3AzFvcjNOqB1w   \n",
       "\n",
       "    stars  useful  funny  cool  \\\n",
       "29    2.0       0      0     0   \n",
       "34    4.0       0      0     0   \n",
       "39    5.0       0      0     0   \n",
       "43    5.0       0      0     0   \n",
       "63    3.0       1      0     0   \n",
       "\n",
       "                                                 text                 date  \\\n",
       "29  I at least have to give this restaurant two st...  2015-02-02 04:29:13   \n",
       "34  After my ROTD  yesterday of a different Sweet ...  2013-10-24 19:24:33   \n",
       "39  Amazing biscuits and (fill in the blank). Grea...  2018-04-27 23:03:21   \n",
       "43  Stopped by after a Sunday morning walk in the ...  2015-08-30 13:41:47   \n",
       "63  Honestly the food doesn't knock my socks off b...  2016-01-17 13:26:19   \n",
       "\n",
       "   sentiment  \n",
       "29  negative  \n",
       "34  positive  \n",
       "39  positive  \n",
       "43  positive  \n",
       "63   neutral  "
      ],
      "text/html": [
       "<div>\n",
       "<style scoped>\n",
       "    .dataframe tbody tr th:only-of-type {\n",
       "        vertical-align: middle;\n",
       "    }\n",
       "\n",
       "    .dataframe tbody tr th {\n",
       "        vertical-align: top;\n",
       "    }\n",
       "\n",
       "    .dataframe thead th {\n",
       "        text-align: right;\n",
       "    }\n",
       "</style>\n",
       "<table border=\"1\" class=\"dataframe\">\n",
       "  <thead>\n",
       "    <tr style=\"text-align: right;\">\n",
       "      <th></th>\n",
       "      <th>review_id</th>\n",
       "      <th>user_id</th>\n",
       "      <th>business_id</th>\n",
       "      <th>stars</th>\n",
       "      <th>useful</th>\n",
       "      <th>funny</th>\n",
       "      <th>cool</th>\n",
       "      <th>text</th>\n",
       "      <th>date</th>\n",
       "      <th>sentiment</th>\n",
       "    </tr>\n",
       "  </thead>\n",
       "  <tbody>\n",
       "    <tr>\n",
       "      <th>29</th>\n",
       "      <td>elqRpX9T3YwL07uLNtN3Bg</td>\n",
       "      <td>-sryo4gDYxbZ1T5Bz4l5Bw</td>\n",
       "      <td>ltBBYdNzkeKdCNPDAsxwAA</td>\n",
       "      <td>2.0</td>\n",
       "      <td>0</td>\n",
       "      <td>0</td>\n",
       "      <td>0</td>\n",
       "      <td>I at least have to give this restaurant two st...</td>\n",
       "      <td>2015-02-02 04:29:13</td>\n",
       "      <td>negative</td>\n",
       "    </tr>\n",
       "    <tr>\n",
       "      <th>34</th>\n",
       "      <td>p198qZsKOMCUhgdtRWsOKQ</td>\n",
       "      <td>3MpDvy5gEdsbZh9-p92dHg</td>\n",
       "      <td>8QnuWGVNBhzyYXGSeRdi4g</td>\n",
       "      <td>4.0</td>\n",
       "      <td>0</td>\n",
       "      <td>0</td>\n",
       "      <td>0</td>\n",
       "      <td>After my ROTD  yesterday of a different Sweet ...</td>\n",
       "      <td>2013-10-24 19:24:33</td>\n",
       "      <td>positive</td>\n",
       "    </tr>\n",
       "    <tr>\n",
       "      <th>39</th>\n",
       "      <td>E9AB7V4z8xrt2uPF7T55FQ</td>\n",
       "      <td>iYY5Ii1LGpZCpXFkHlMefw</td>\n",
       "      <td>Zx7n8mdt8OzLRXVzolXNhQ</td>\n",
       "      <td>5.0</td>\n",
       "      <td>0</td>\n",
       "      <td>0</td>\n",
       "      <td>0</td>\n",
       "      <td>Amazing biscuits and (fill in the blank). Grea...</td>\n",
       "      <td>2018-04-27 23:03:21</td>\n",
       "      <td>positive</td>\n",
       "    </tr>\n",
       "    <tr>\n",
       "      <th>43</th>\n",
       "      <td>qGQvUHmC02PAZW3H1WTIfw</td>\n",
       "      <td>RRTQpg8hutdimzAYuP_Hbw</td>\n",
       "      <td>eaJCpC6IhYphj7bwCDHTwQ</td>\n",
       "      <td>5.0</td>\n",
       "      <td>0</td>\n",
       "      <td>0</td>\n",
       "      <td>0</td>\n",
       "      <td>Stopped by after a Sunday morning walk in the ...</td>\n",
       "      <td>2015-08-30 13:41:47</td>\n",
       "      <td>positive</td>\n",
       "    </tr>\n",
       "    <tr>\n",
       "      <th>63</th>\n",
       "      <td>67cGcRrS0jTvB8p7rpaPew</td>\n",
       "      <td>8YSxVaD203mE_9FR4nCEVA</td>\n",
       "      <td>oQ5CPRt0R3AzFvcjNOqB1w</td>\n",
       "      <td>3.0</td>\n",
       "      <td>1</td>\n",
       "      <td>0</td>\n",
       "      <td>0</td>\n",
       "      <td>Honestly the food doesn't knock my socks off b...</td>\n",
       "      <td>2016-01-17 13:26:19</td>\n",
       "      <td>neutral</td>\n",
       "    </tr>\n",
       "  </tbody>\n",
       "</table>\n",
       "</div>"
      ]
     },
     "execution_count": 9,
     "metadata": {},
     "output_type": "execute_result"
    }
   ],
   "execution_count": 9
  },
  {
   "metadata": {
    "ExecuteTime": {
     "end_time": "2025-04-07T19:17:44.647487Z",
     "start_time": "2025-04-07T19:17:44.552583Z"
    }
   },
   "cell_type": "code",
   "source": [
    "city_restaurant_reviews.head()\n",
    "print(f\"Average review length: {city_restaurant_reviews['text'].str.len().mean()}\")"
   ],
   "id": "743f7aab176f5a56",
   "outputs": [
    {
     "name": "stdout",
     "output_type": "stream",
     "text": [
      "Average review length: 540.8182951314909\n"
     ]
    }
   ],
   "execution_count": 10
  },
  {
   "metadata": {
    "ExecuteTime": {
     "end_time": "2025-04-07T19:17:44.650965Z",
     "start_time": "2025-04-07T19:17:44.649383Z"
    }
   },
   "cell_type": "code",
   "source": [
    "# pickle dataframes (uncomment if you want to save as pickle file)\n",
    "#city_restaurant_reviews.to_pickle('data/city_restaurant_reviews.pkl')\n",
    "#city_reviews.to_pickle('data/city_all_reviews.pkl')"
   ],
   "id": "761158837e75003c",
   "outputs": [],
   "execution_count": 11
  },
  {
   "metadata": {
    "ExecuteTime": {
     "end_time": "2025-04-07T19:17:44.655999Z",
     "start_time": "2025-04-07T19:17:44.651623Z"
    }
   },
   "cell_type": "code",
   "source": [
    "star_distribution = city_reviews['stars'].value_counts().sort_index()\n",
    "print(\"Original star rating distribution for city:\")\n",
    "print(star_distribution)"
   ],
   "id": "4d07afd951c52096",
   "outputs": [
    {
     "name": "stdout",
     "output_type": "stream",
     "text": [
      "Original star rating distribution for city:\n",
      "stars\n",
      "1.0     60410\n",
      "2.0     34377\n",
      "3.0     46373\n",
      "4.0     96165\n",
      "5.0    214246\n",
      "Name: count, dtype: int64\n"
     ]
    }
   ],
   "execution_count": 12
  },
  {
   "metadata": {
    "ExecuteTime": {
     "end_time": "2025-04-07T19:17:44.660613Z",
     "start_time": "2025-04-07T19:17:44.656712Z"
    }
   },
   "cell_type": "code",
   "source": [
    "star_distribution = city_restaurant_reviews['stars'].value_counts().sort_index()\n",
    "print(\"Original star rating distribution for city restaurants:\")\n",
    "print(star_distribution)"
   ],
   "id": "c55a33c9744534d9",
   "outputs": [
    {
     "name": "stdout",
     "output_type": "stream",
     "text": [
      "Original star rating distribution for city restaurants:\n",
      "stars\n",
      "1.0     34955\n",
      "2.0     26276\n",
      "3.0     37067\n",
      "4.0     76512\n",
      "5.0    150916\n",
      "Name: count, dtype: int64\n"
     ]
    }
   ],
   "execution_count": 13
  },
  {
   "metadata": {
    "ExecuteTime": {
     "end_time": "2025-04-07T19:17:44.703930Z",
     "start_time": "2025-04-07T19:17:44.661214Z"
    }
   },
   "cell_type": "code",
   "source": [
    "# Sample 1000 reviews for each star rating\n",
    "balanced_reviews = []\n",
    "\n",
    "for star in range(1, 6):  # 1 to 5 stars\n",
    "    star_reviews = city_restaurant_reviews[city_restaurant_reviews['stars'] == star]\n",
    "    \n",
    "    if len(star_reviews) >= 1000:\n",
    "        sampled_reviews = star_reviews.sample(n=1000, random_state=42)\n",
    "    else:\n",
    "        sampled_reviews = star_reviews\n",
    "        print(f\"Warning: Only {len(star_reviews)} reviews available for {star} star rating.\")\n",
    "    \n",
    "    balanced_reviews.append(sampled_reviews)\n",
    "\n",
    "# Combine all sampled reviews into a single DataFrame\n",
    "balanced_reviews_df = pd.concat(balanced_reviews, ignore_index=True)\n",
    "# Shuffle\n",
    "balanced_reviews_df = balanced_reviews_df.sample(frac=1, random_state=42)\n",
    "# Verify the distribution in the new DataFrame\n",
    "balanced_distribution = balanced_reviews_df['stars'].value_counts().sort_index()\n",
    "print(\"\\nBalanced star rating distribution:\")\n",
    "print(balanced_distribution)\n",
    "\n",
    "# Total number of reviews in the balanced dataset\n",
    "print(f\"\\nTotal reviews in balanced dataset: {len(balanced_reviews_df)}\")"
   ],
   "id": "f7c9466f09ca8b22",
   "outputs": [
    {
     "name": "stdout",
     "output_type": "stream",
     "text": [
      "\n",
      "Balanced star rating distribution:\n",
      "stars\n",
      "1.0    1000\n",
      "2.0    1000\n",
      "3.0    1000\n",
      "4.0    1000\n",
      "5.0    1000\n",
      "Name: count, dtype: int64\n",
      "\n",
      "Total reviews in balanced dataset: 5000\n"
     ]
    }
   ],
   "execution_count": 14
  },
  {
   "metadata": {
    "ExecuteTime": {
     "end_time": "2025-04-07T19:17:44.706269Z",
     "start_time": "2025-04-07T19:17:44.704674Z"
    }
   },
   "cell_type": "code",
   "source": "#balanced_reviews_df.to_pickle('data/balanced_resto_reviews.pkl')",
   "id": "ee81980281055fec",
   "outputs": [],
   "execution_count": 15
  },
  {
   "metadata": {
    "ExecuteTime": {
     "end_time": "2025-04-07T19:17:44.772627Z",
     "start_time": "2025-04-07T19:17:44.707082Z"
    }
   },
   "cell_type": "code",
   "source": [
    "# Sample 1000 restaurant reviews for each sentiment\n",
    "sentiment_restaurant_reviews = []\n",
    "\n",
    "for s in ['positive', 'neutral', 'negative']:  \n",
    "    s_reviews = city_restaurant_reviews[city_restaurant_reviews['sentiment'] == s]\n",
    "    \n",
    "    if len(s_reviews) >= 5000:\n",
    "        sampled_reviews = s_reviews.sample(n=5000, random_state=1234)\n",
    "    else:\n",
    "        sampled_reviews = s_reviews\n",
    "        print(f\"Warning: Only {len(s_reviews)} reviews available for {s} star rating.\")\n",
    "    \n",
    "    sentiment_restaurant_reviews.append(sampled_reviews)\n",
    "\n",
    "# Combine all sampled reviews into a single DataFrame\n",
    "sentiment_restaurant_reviews_df = pd.concat(sentiment_restaurant_reviews, ignore_index=True)\n",
    "# Shuffle\n",
    "sentiment_restaurant_reviews_df = sentiment_restaurant_reviews_df.sample(frac=1, random_state=42)\n",
    "# Verify the distribution in the new DataFrame\n",
    "sentiment_distribution = sentiment_restaurant_reviews_df['sentiment'].value_counts().sort_index()\n",
    "print(\"\\nSentiment distribution:\")\n",
    "print(sentiment_distribution)\n",
    "\n",
    "# Total number of reviews in the sentiment dataset\n",
    "print(f\"\\nTotal reviews in sentiment dataset: {len(sentiment_restaurant_reviews_df)}\")\n",
    "star_distribution = sentiment_restaurant_reviews_df['stars'].value_counts().sort_index()\n",
    "print(\"Star rating distribution:\")\n",
    "print(star_distribution)\n"
   ],
   "id": "d9579fa71cb30674",
   "outputs": [
    {
     "name": "stdout",
     "output_type": "stream",
     "text": [
      "\n",
      "Sentiment distribution:\n",
      "sentiment\n",
      "negative    5000\n",
      "neutral     5000\n",
      "positive    5000\n",
      "Name: count, dtype: int64\n",
      "\n",
      "Total reviews in sentiment dataset: 15000\n",
      "Star rating distribution:\n",
      "stars\n",
      "1.0    2873\n",
      "2.0    2127\n",
      "3.0    5000\n",
      "4.0    1697\n",
      "5.0    3303\n",
      "Name: count, dtype: int64\n"
     ]
    }
   ],
   "execution_count": 16
  },
  {
   "metadata": {
    "ExecuteTime": {
     "end_time": "2025-04-07T19:17:44.789376Z",
     "start_time": "2025-04-07T19:17:44.773410Z"
    }
   },
   "cell_type": "code",
   "source": "sentiment_restaurant_reviews_df.to_pickle('data/resto_reviews_3classes_15k.pkl')",
   "id": "261628962e1ae5d0",
   "outputs": [],
   "execution_count": 17
  },
  {
   "metadata": {
    "ExecuteTime": {
     "end_time": "2025-04-07T19:17:44.882473Z",
     "start_time": "2025-04-07T19:17:44.790066Z"
    }
   },
   "cell_type": "code",
   "source": [
    "# Sample 1000 business reviews for each sentiment\n",
    "sentiment_reviews = []\n",
    "\n",
    "for s in ['positive', 'neutral', 'negative']:  \n",
    "    s_reviews = city_reviews[city_reviews['sentiment'] == s]\n",
    "    \n",
    "    if len(s_reviews) >= 1000:\n",
    "        sampled_reviews = s_reviews.sample(n=1000, random_state=42)\n",
    "    else:\n",
    "        sampled_reviews = s_reviews\n",
    "        print(f\"Warning: Only {len(s_reviews)} reviews available for {s} star rating.\")\n",
    "    \n",
    "    sentiment_reviews.append(sampled_reviews)\n",
    "\n",
    "# Combine all sampled reviews into a single DataFrame\n",
    "sentiment_reviews_df = pd.concat(sentiment_reviews, ignore_index=True)\n",
    "# Shuffle\n",
    "sentiment_reviews_df = sentiment_reviews_df.sample(frac=1, random_state=42)\n",
    "# Verify the distribution in the new DataFrame\n",
    "sentiment_distribution = sentiment_reviews_df['sentiment'].value_counts().sort_index()\n",
    "print(\"\\nSentiment distribution:\")\n",
    "print(sentiment_distribution)\n",
    "\n",
    "# Total number of reviews in the sentiment dataset\n",
    "print(f\"\\nTotal reviews in sentiment dataset: {len(sentiment_reviews_df)}\")\n",
    "star_distribution = sentiment_reviews_df['stars'].value_counts().sort_index()\n",
    "print(\"Star rating distribution:\")\n",
    "print(star_distribution)\n",
    "\n",
    "print(f\"Average review length: {sentiment_reviews_df['text'].str.len().mean()}\")"
   ],
   "id": "9a941b8e27e41145",
   "outputs": [
    {
     "name": "stdout",
     "output_type": "stream",
     "text": [
      "\n",
      "Sentiment distribution:\n",
      "sentiment\n",
      "negative    1000\n",
      "neutral     1000\n",
      "positive    1000\n",
      "Name: count, dtype: int64\n",
      "\n",
      "Total reviews in sentiment dataset: 3000\n",
      "Star rating distribution:\n",
      "stars\n",
      "1.0     639\n",
      "2.0     361\n",
      "3.0    1000\n",
      "4.0     313\n",
      "5.0     687\n",
      "Name: count, dtype: int64\n",
      "Average review length: 638.736\n"
     ]
    }
   ],
   "execution_count": 18
  },
  {
   "metadata": {
    "ExecuteTime": {
     "end_time": "2025-04-07T19:17:44.884673Z",
     "start_time": "2025-04-07T19:17:44.883192Z"
    }
   },
   "cell_type": "code",
   "source": "#sentiment_reviews_df.to_pickle('data/all_reviews_3classes.pkl')",
   "id": "c03e64dfb37cb32",
   "outputs": [],
   "execution_count": 19
  }
 ],
 "metadata": {
  "kernelspec": {
   "display_name": "Python 3",
   "language": "python",
   "name": "python3"
  },
  "language_info": {
   "codemirror_mode": {
    "name": "ipython",
    "version": 2
   },
   "file_extension": ".py",
   "mimetype": "text/x-python",
   "name": "python",
   "nbconvert_exporter": "python",
   "pygments_lexer": "ipython2",
   "version": "2.7.6"
  }
 },
 "nbformat": 4,
 "nbformat_minor": 5
}
