{
 "cells": [
  {
   "metadata": {
    "ExecuteTime": {
     "end_time": "2025-04-02T17:38:24.746097Z",
     "start_time": "2025-04-02T17:38:24.483568Z"
    }
   },
   "cell_type": "code",
   "source": [
    "import pandas as pd\n",
    "import json"
   ],
   "id": "a4dc2c33ce5ecf50",
   "outputs": [],
   "execution_count": 1
  },
  {
   "metadata": {
    "ExecuteTime": {
     "end_time": "2025-04-02T17:38:46.484045Z",
     "start_time": "2025-04-02T17:38:24.754941Z"
    }
   },
   "cell_type": "code",
   "source": [
    "chunk_size = 10000  # Process 10,000 records at a time\n",
    "chunks = []\n",
    "\n",
    "with open('data/yelp_dataset/yelp_academic_dataset_review.json', 'r') as f:\n",
    "    reviews = []\n",
    "    for i, line in enumerate(f):\n",
    "        reviews.append(json.loads(line))\n",
    "        \n",
    "        # When chunk_size is reached, convert to DataFrame and store\n",
    "        if (i + 1) % chunk_size == 0:\n",
    "            chunks.append(pd.DataFrame(reviews))\n",
    "            reviews = []  # Clear memory for next chunk\n",
    "    \n",
    "    # Handle any remaining records (less than a full chunk)\n",
    "    if reviews:\n",
    "        chunks.append(pd.DataFrame(reviews))\n",
    "\n",
    "# Combine all chunks into final DataFrame\n",
    "reviews_df = pd.concat(chunks, ignore_index=True)"
   ],
   "id": "initial_id",
   "outputs": [],
   "execution_count": 2
  },
  {
   "metadata": {
    "ExecuteTime": {
     "end_time": "2025-04-02T17:38:46.574038Z",
     "start_time": "2025-04-02T17:38:46.484862Z"
    }
   },
   "cell_type": "code",
   "source": [
    "# Get 5 random reviews\n",
    "random_reviews = reviews_df.sample(n=5)\n",
    "\n",
    "# Print each review text\n",
    "for i, (index, row) in enumerate(random_reviews.iterrows()):\n",
    "    print(f\"\\nRandom review #{i+1} (index {index}):\")\n",
    "    print(f\"Rating: {row['stars']} stars\")\n",
    "    print(row['text'])\n",
    "    print(\"-\" * 50)"
   ],
   "id": "30200e05797c97f2",
   "outputs": [
    {
     "name": "stdout",
     "output_type": "stream",
     "text": [
      "\n",
      "Random review #1 (index 5317509):\n",
      "Rating: 4.0 stars\n",
      "Very good lunch type food.  L I'll Bartendar was not very atentative on my last visit in Tampa\n",
      "--------------------------------------------------\n",
      "\n",
      "Random review #2 (index 2984221):\n",
      "Rating: 5.0 stars\n",
      "Somehow in a five day trip to New Orleans, I've managed to show up at Sucre for four of them. The first visit was just a pop in to kill some time before dinner, but the subsequent three, as you can imagine, were all about how great it was. \n",
      "\n",
      "It's a very cute, very comfortable, French style cafe that serves gelato, macarons, king cake, assorted pastries, and freshly brewed teas. In my many visits I sampled macarons, king cake, gelato, an eclair, and every one of their teas. \n",
      "\n",
      "I really enjoyed the macarons and the tea, and even more than that I enjoyed the fact that they frequently (early in the day) put out samples of macarons (whole macarons) and king cake. Also, on one occasion when my boyfriend and I were the only two in the cafe, the manager brought out a complimentary (huge) slice of king cake and also brought out the remainder of our teas (because they brew it themselves, you normally just get a cup of it). \n",
      "\n",
      "It was always such a great break when we stopped in, and I highly recommend you go!\n",
      "--------------------------------------------------\n",
      "\n",
      "Random review #3 (index 2876033):\n",
      "Rating: 1.0 stars\n",
      "They are the worst. I've been 3 times and every single time they mess up the order. This is by far the worst Mc Donalds in the valley.\n",
      "--------------------------------------------------\n",
      "\n",
      "Random review #4 (index 6145791):\n",
      "Rating: 4.0 stars\n",
      "Last Tuesday morning, I went through the drive-thru to grab something before work. I ordered a vanilla bean cold brew and pumpkin scone. Drink was made perfectly and the woman at the window was friendly. The car line was long, but moved quickly despite that; it was about a 15-20 minute wait. I would come back again.\n",
      "--------------------------------------------------\n",
      "\n",
      "Random review #5 (index 5611453):\n",
      "Rating: 4.0 stars\n",
      "Been here twice. Would say some dishes are very good. Some are good. Slightly overpriced but nothing out of Wayne Normal. The goat has been very good.\n",
      "--------------------------------------------------\n"
     ]
    }
   ],
   "execution_count": 3
  },
  {
   "metadata": {
    "ExecuteTime": {
     "end_time": "2025-04-02T17:39:00.766377Z",
     "start_time": "2025-04-02T17:38:46.574747Z"
    }
   },
   "cell_type": "code",
   "source": [
    "chunk_size = 5000 \n",
    "chunks = []\n",
    "\n",
    "with open('data/yelp_dataset/yelp_academic_dataset_user.json', 'r') as f:\n",
    "    users = []\n",
    "    for i, line in enumerate(f):\n",
    "        users.append(json.loads(line))\n",
    "        \n",
    "        if (i + 1) % chunk_size == 0:\n",
    "            chunks.append(pd.DataFrame(users))\n",
    "            users = []  # Reset for next chunk\n",
    "    \n",
    "    # Add any remaining users\n",
    "    if users:\n",
    "        chunks.append(pd.DataFrame(users))\n",
    "\n",
    "# Concatenate all chunks\n",
    "user_df = pd.concat(chunks, ignore_index=True)\n",
    "\n",
    "# Preview the DataFrame\n",
    "print(user_df.shape)\n",
    "print(user_df.columns)"
   ],
   "id": "c39069d313b600fe",
   "outputs": [
    {
     "name": "stdout",
     "output_type": "stream",
     "text": [
      "(1987897, 22)\n",
      "Index(['user_id', 'name', 'review_count', 'yelping_since', 'useful', 'funny',\n",
      "       'cool', 'elite', 'friends', 'fans', 'average_stars', 'compliment_hot',\n",
      "       'compliment_more', 'compliment_profile', 'compliment_cute',\n",
      "       'compliment_list', 'compliment_note', 'compliment_plain',\n",
      "       'compliment_cool', 'compliment_funny', 'compliment_writer',\n",
      "       'compliment_photos'],\n",
      "      dtype='object')\n"
     ]
    }
   ],
   "execution_count": 4
  },
  {
   "metadata": {
    "ExecuteTime": {
     "end_time": "2025-04-02T17:39:01.712306Z",
     "start_time": "2025-04-02T17:39:00.768183Z"
    }
   },
   "cell_type": "code",
   "source": [
    "chunk_size = 5000 \n",
    "chunks = []\n",
    "\n",
    "with open('data/yelp_dataset/yelp_academic_dataset_business.json', 'r') as f:\n",
    "    businesses = []\n",
    "    for i, line in enumerate(f):\n",
    "        businesses.append(json.loads(line))\n",
    "        \n",
    "        if (i + 1) % chunk_size == 0:\n",
    "            chunks.append(pd.DataFrame(businesses))\n",
    "            businesses = []  # Reset for next chunk\n",
    "    \n",
    "    # Add any remaining businesses\n",
    "    if businesses:\n",
    "        chunks.append(pd.DataFrame(businesses))\n",
    "\n",
    "# Concatenate all chunks\n",
    "business_df = pd.concat(chunks, ignore_index=True)\n",
    "\n",
    "# Preview the DataFrame\n",
    "print(business_df.head())\n",
    "print(business_df.columns)"
   ],
   "id": "c4fe34408d9a315e",
   "outputs": [
    {
     "name": "stdout",
     "output_type": "stream",
     "text": [
      "              business_id                      name  \\\n",
      "0  Pns2l4eNsfO8kk83dixA6A  Abby Rappoport, LAC, CMQ   \n",
      "1  mpf3x-BjTdTEA3yCZrAYPw             The UPS Store   \n",
      "2  tUFrWirKiKi_TAnsVWINQQ                    Target   \n",
      "3  MTSW4McQd7CbVtyjqoe9mw        St Honore Pastries   \n",
      "4  mWMc6_wTdE0EUBKIGXDVfA  Perkiomen Valley Brewery   \n",
      "\n",
      "                           address           city state postal_code  \\\n",
      "0           1616 Chapala St, Ste 2  Santa Barbara    CA       93101   \n",
      "1  87 Grasso Plaza Shopping Center         Affton    MO       63123   \n",
      "2             5255 E Broadway Blvd         Tucson    AZ       85711   \n",
      "3                      935 Race St   Philadelphia    PA       19107   \n",
      "4                    101 Walnut St     Green Lane    PA       18054   \n",
      "\n",
      "    latitude   longitude  stars  review_count  is_open  \\\n",
      "0  34.426679 -119.711197    5.0             7        0   \n",
      "1  38.551126  -90.335695    3.0            15        1   \n",
      "2  32.223236 -110.880452    3.5            22        0   \n",
      "3  39.955505  -75.155564    4.0            80        1   \n",
      "4  40.338183  -75.471659    4.5            13        1   \n",
      "\n",
      "                                          attributes  \\\n",
      "0                      {'ByAppointmentOnly': 'True'}   \n",
      "1             {'BusinessAcceptsCreditCards': 'True'}   \n",
      "2  {'BikeParking': 'True', 'BusinessAcceptsCredit...   \n",
      "3  {'RestaurantsDelivery': 'False', 'OutdoorSeati...   \n",
      "4  {'BusinessAcceptsCreditCards': 'True', 'Wheelc...   \n",
      "\n",
      "                                          categories  \\\n",
      "0  Doctors, Traditional Chinese Medicine, Naturop...   \n",
      "1  Shipping Centers, Local Services, Notaries, Ma...   \n",
      "2  Department Stores, Shopping, Fashion, Home & G...   \n",
      "3  Restaurants, Food, Bubble Tea, Coffee & Tea, B...   \n",
      "4                          Brewpubs, Breweries, Food   \n",
      "\n",
      "                                               hours  \n",
      "0                                               None  \n",
      "1  {'Monday': '0:0-0:0', 'Tuesday': '8:0-18:30', ...  \n",
      "2  {'Monday': '8:0-22:0', 'Tuesday': '8:0-22:0', ...  \n",
      "3  {'Monday': '7:0-20:0', 'Tuesday': '7:0-20:0', ...  \n",
      "4  {'Wednesday': '14:0-22:0', 'Thursday': '16:0-2...  \n",
      "Index(['business_id', 'name', 'address', 'city', 'state', 'postal_code',\n",
      "       'latitude', 'longitude', 'stars', 'review_count', 'is_open',\n",
      "       'attributes', 'categories', 'hours'],\n",
      "      dtype='object')\n"
     ]
    }
   ],
   "execution_count": 5
  },
  {
   "metadata": {
    "ExecuteTime": {
     "end_time": "2025-04-02T17:39:01.737591Z",
     "start_time": "2025-04-02T17:39:01.713114Z"
    }
   },
   "cell_type": "code",
   "source": [
    "# Count the number of unique cities\n",
    "city_counts = business_df['city'].value_counts()\n",
    "print(city_counts.head(10))"
   ],
   "id": "202c44c5a5fe128d",
   "outputs": [
    {
     "name": "stdout",
     "output_type": "stream",
     "text": [
      "city\n",
      "Philadelphia     14569\n",
      "Tucson            9250\n",
      "Tampa             9050\n",
      "Indianapolis      7540\n",
      "Nashville         6971\n",
      "New Orleans       6209\n",
      "Reno              5935\n",
      "Edmonton          5054\n",
      "Saint Louis       4827\n",
      "Santa Barbara     3829\n",
      "Name: count, dtype: int64\n"
     ]
    }
   ],
   "execution_count": 6
  },
  {
   "metadata": {
    "ExecuteTime": {
     "end_time": "2025-04-02T17:39:04.063920Z",
     "start_time": "2025-04-02T17:39:01.738263Z"
    }
   },
   "cell_type": "code",
   "source": [
    "# Filter businesses in Philadelphia\n",
    "philly_businesses = business_df[business_df['city'] == 'Philadelphia']\n",
    "\n",
    "# Preview the filtered DataFrame\n",
    "print(f\"Number of Philadelphia businesses: {len(philly_businesses)}\")\n",
    "print(philly_businesses.head())\n",
    "\n",
    "# Filter for businesses where 'Restaurants' appears in the categories\n",
    "philly_businesses_with_categories = philly_businesses.dropna(subset=['categories'])\n",
    "philly_restaurants = philly_businesses_with_categories[\n",
    "    philly_businesses_with_categories['categories'].str.contains('Restaurants', case=False, na=False)\n",
    "]\n",
    "\n",
    "# Preview the filtered restaurants\n",
    "print(f\"Number of restaurants in Philadelphia: {len(philly_restaurants)}\")\n",
    "\n",
    "# Get the business IDs for Philadelphia restaurants\n",
    "philly_restaurant_ids = set(philly_restaurants['business_id'].values)\n",
    "\n",
    "# Filter reviews for only Philadelphia restaurants\n",
    "philly_restaurant_reviews = reviews_df[reviews_df['business_id'].isin(philly_restaurant_ids)]\n",
    "print(f\"Number of reviews for Philadelphia restaurants: {len(philly_restaurant_reviews)}\")"
   ],
   "id": "cef5d36e26d4006",
   "outputs": [
    {
     "name": "stdout",
     "output_type": "stream",
     "text": [
      "Number of Philadelphia businesses: 14569\n",
      "               business_id                name        address          city  \\\n",
      "3   MTSW4McQd7CbVtyjqoe9mw  St Honore Pastries    935 Race St  Philadelphia   \n",
      "15  MUTTqe8uqyMdBl186RmNeA            Tuna Bar    205 Race St  Philadelphia   \n",
      "19  ROeacJQwBeh05Rqg7F6TCg                 BAP  1224 South St  Philadelphia   \n",
      "28  QdN72BWoyFypdGJhhI5r7g             Bar One   767 S 9th St  Philadelphia   \n",
      "31  Mjboz24M9NlBeiOJKLEd_Q    DeSandro on Main   4105 Main St  Philadelphia   \n",
      "\n",
      "   state postal_code   latitude  longitude  stars  review_count  is_open  \\\n",
      "3     PA       19107  39.955505 -75.155564    4.0            80        1   \n",
      "15    PA       19106  39.953949 -75.143226    4.0           245        1   \n",
      "19    PA       19147  39.943223 -75.162568    4.5           205        1   \n",
      "28    PA       19147  39.939825 -75.157447    4.0            65        0   \n",
      "31    PA       19127  40.022466 -75.218314    3.0            41        0   \n",
      "\n",
      "                                           attributes  \\\n",
      "3   {'RestaurantsDelivery': 'False', 'OutdoorSeati...   \n",
      "15  {'RestaurantsReservations': 'True', 'Restauran...   \n",
      "19  {'NoiseLevel': 'u'quiet'', 'GoodForMeal': '{'d...   \n",
      "28  {'Smoking': 'u'no'', 'NoiseLevel': 'u'average'...   \n",
      "31  {'RestaurantsReservations': 'False', 'Caters':...   \n",
      "\n",
      "                                           categories  \\\n",
      "3   Restaurants, Food, Bubble Tea, Coffee & Tea, B...   \n",
      "15                  Sushi Bars, Restaurants, Japanese   \n",
      "19                                Korean, Restaurants   \n",
      "28  Cocktail Bars, Bars, Italian, Nightlife, Resta...   \n",
      "31                    Pizza, Restaurants, Salad, Soup   \n",
      "\n",
      "                                                hours  \n",
      "3   {'Monday': '7:0-20:0', 'Tuesday': '7:0-20:0', ...  \n",
      "15  {'Tuesday': '13:30-22:0', 'Wednesday': '13:30-...  \n",
      "19  {'Monday': '11:30-20:30', 'Tuesday': '11:30-20...  \n",
      "28  {'Monday': '16:0-0:0', 'Tuesday': '16:0-0:0', ...  \n",
      "31  {'Tuesday': '17:0-21:30', 'Wednesday': '17:0-1...  \n",
      "Number of restaurants in Philadelphia: 5852\n",
      "Number of reviews for Philadelphia restaurants: 687289\n"
     ]
    }
   ],
   "execution_count": 7
  },
  {
   "metadata": {
    "ExecuteTime": {
     "end_time": "2025-04-02T17:39:04.068095Z",
     "start_time": "2025-04-02T17:39:04.064904Z"
    }
   },
   "cell_type": "code",
   "source": "print(philly_restaurant_reviews.head())",
   "id": "743f7aab176f5a56",
   "outputs": [
    {
     "name": "stdout",
     "output_type": "stream",
     "text": [
      "                 review_id                 user_id             business_id  \\\n",
      "3   AqPFMleE6RsU23_auESxiA  _7bHUi9Uuf5__HHc_Q8guQ  kxX2SOes4o-D3ZQBkiMRfA   \n",
      "5   JrIxlS1TzJ-iCu79ul40cQ  eUta8W_HdHMXPzLBBZhL1A  04UD14gamNjLY0IDYVhHJg   \n",
      "13  8JFGBuHMoiNDyfcxuWNtrA  smOvOajNG0lS4Pq7d8g4JQ  RZtGWDLCAtuipwaZ-UfjmQ   \n",
      "16  oyaMhzBSwfGgemSGuZCdwQ  Dd1jQj7S-BFGqRbApFzCFw  YtSqYv1Q_pOltsVPSx54SA   \n",
      "19  Xs8Z8lmKkosqW5mw_sVAoA  IQsF3Rc6IgCzjVV9DE8KXg  eFvzHawVJofxSnD7TgbZtg   \n",
      "\n",
      "    stars  useful  funny  cool  \\\n",
      "3     5.0       1      0     1   \n",
      "5     1.0       1      2     1   \n",
      "13    4.0       0      0     0   \n",
      "16    5.0       0      0     0   \n",
      "19    5.0       0      0     0   \n",
      "\n",
      "                                                 text                 date  \n",
      "3   Wow!  Yummy, different,  delicious.   Our favo...  2015-01-04 00:01:03  \n",
      "5   I am a long term frequent customer of this est...  2015-09-23 23:10:31  \n",
      "13  Good food--loved the gnocchi with marinara\\nth...  2009-10-14 19:57:14  \n",
      "16  Tremendous service (Big shout out to Douglas) ...  2013-06-24 11:21:25  \n",
      "19  My absolute favorite cafe in the city. Their b...  2014-11-12 15:30:27  \n"
     ]
    }
   ],
   "execution_count": 8
  },
  {
   "metadata": {
    "ExecuteTime": {
     "end_time": "2025-04-02T17:39:04.859832Z",
     "start_time": "2025-04-02T17:39:04.068655Z"
    }
   },
   "cell_type": "code",
   "source": "philly_restaurant_reviews.to_pickle('data/philly_restaurant_reviews.pkl')",
   "id": "761158837e75003c",
   "outputs": [],
   "execution_count": 9
  },
  {
   "metadata": {
    "ExecuteTime": {
     "end_time": "2025-04-02T17:39:04.865427Z",
     "start_time": "2025-04-02T17:39:04.860577Z"
    }
   },
   "cell_type": "code",
   "source": [
    "star_distribution = philly_restaurant_reviews['stars'].value_counts().sort_index()\n",
    "print(\"Original star rating distribution:\")\n",
    "print(star_distribution)"
   ],
   "id": "c55a33c9744534d9",
   "outputs": [
    {
     "name": "stdout",
     "output_type": "stream",
     "text": [
      "Original star rating distribution:\n",
      "stars\n",
      "1.0     66624\n",
      "2.0     57480\n",
      "3.0     91702\n",
      "4.0    194366\n",
      "5.0    277117\n",
      "Name: count, dtype: int64\n"
     ]
    }
   ],
   "execution_count": 10
  },
  {
   "metadata": {
    "ExecuteTime": {
     "end_time": "2025-04-02T17:39:05.043220Z",
     "start_time": "2025-04-02T17:39:04.866008Z"
    }
   },
   "cell_type": "code",
   "source": [
    "# Sample 400 reviews for each star rating\n",
    "balanced_reviews = []\n",
    "\n",
    "for star in range(1, 6):  # 1 to 5 stars\n",
    "    star_reviews = philly_restaurant_reviews[philly_restaurant_reviews['stars'] == star]\n",
    "    \n",
    "    # Check if we have at least 400 reviews for this star rating\n",
    "    if len(star_reviews) >= 400:\n",
    "        sampled_reviews = star_reviews.sample(n=400, random_state=42)\n",
    "    else:\n",
    "        # If less than 400 reviews, take all available and warn\n",
    "        sampled_reviews = star_reviews\n",
    "        print(f\"Warning: Only {len(star_reviews)} reviews available for {star} star rating.\")\n",
    "    \n",
    "    balanced_reviews.append(sampled_reviews)\n",
    "\n",
    "# Combine all sampled reviews into a single DataFrame\n",
    "balanced_reviews_df = pd.concat(balanced_reviews, ignore_index=True)\n",
    "\n",
    "# Verify the distribution in the new DataFrame\n",
    "balanced_distribution = balanced_reviews_df['stars'].value_counts().sort_index()\n",
    "print(\"\\nBalanced star rating distribution:\")\n",
    "print(balanced_distribution)\n",
    "\n",
    "# Total number of reviews in the balanced dataset\n",
    "print(f\"\\nTotal reviews in balanced dataset: {len(balanced_reviews_df)}\")"
   ],
   "id": "f7c9466f09ca8b22",
   "outputs": [
    {
     "name": "stdout",
     "output_type": "stream",
     "text": [
      "\n",
      "Balanced star rating distribution:\n",
      "stars\n",
      "1.0    400\n",
      "2.0    400\n",
      "3.0    400\n",
      "4.0    400\n",
      "5.0    400\n",
      "Name: count, dtype: int64\n",
      "\n",
      "Total reviews in balanced dataset: 2000\n"
     ]
    }
   ],
   "execution_count": 11
  },
  {
   "metadata": {
    "ExecuteTime": {
     "end_time": "2025-04-02T17:39:05.055037Z",
     "start_time": "2025-04-02T17:39:05.046908Z"
    }
   },
   "cell_type": "code",
   "source": "balanced_reviews_df.to_pickle('data/balanced_philly_resto_reviews.pkl')",
   "id": "ee81980281055fec",
   "outputs": [],
   "execution_count": 12
  }
 ],
 "metadata": {
  "kernelspec": {
   "display_name": "Python 3",
   "language": "python",
   "name": "python3"
  },
  "language_info": {
   "codemirror_mode": {
    "name": "ipython",
    "version": 2
   },
   "file_extension": ".py",
   "mimetype": "text/x-python",
   "name": "python",
   "nbconvert_exporter": "python",
   "pygments_lexer": "ipython2",
   "version": "2.7.6"
  }
 },
 "nbformat": 4,
 "nbformat_minor": 5
}
