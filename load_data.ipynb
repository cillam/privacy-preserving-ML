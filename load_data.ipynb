{
 "cells": [
  {
   "metadata": {
    "ExecuteTime": {
     "end_time": "2025-04-01T04:09:04.425070Z",
     "start_time": "2025-04-01T04:09:04.205375Z"
    }
   },
   "cell_type": "code",
   "source": [
    "import pandas as pd\n",
    "import json"
   ],
   "id": "a4dc2c33ce5ecf50",
   "outputs": [],
   "execution_count": 1
  },
  {
   "metadata": {
    "ExecuteTime": {
     "end_time": "2025-04-01T04:12:26.113790Z",
     "start_time": "2025-04-01T04:12:09.495467Z"
    }
   },
   "cell_type": "code",
   "source": [
    "chunk_size = 10000  # Process 10,000 records at a time\n",
    "chunks = []\n",
    "\n",
    "with open('yelp_academic_dataset_review.json', 'r') as f:\n",
    "    reviews = []\n",
    "    for i, line in enumerate(f):\n",
    "        reviews.append(json.loads(line))\n",
    "        \n",
    "        # When chunk_size is reached, convert to DataFrame and store\n",
    "        if (i + 1) % chunk_size == 0:\n",
    "            chunks.append(pd.DataFrame(reviews))\n",
    "            reviews = []  # Clear memory for next chunk\n",
    "    \n",
    "    # Handle any remaining records (less than a full chunk)\n",
    "    if reviews:\n",
    "        chunks.append(pd.DataFrame(reviews))\n",
    "\n",
    "# Combine all chunks into final DataFrame\n",
    "reviews_df = pd.concat(chunks, ignore_index=True)"
   ],
   "id": "initial_id",
   "outputs": [],
   "execution_count": 5
  },
  {
   "metadata": {
    "ExecuteTime": {
     "end_time": "2025-04-01T04:13:40.846411Z",
     "start_time": "2025-04-01T04:13:33.637619Z"
    }
   },
   "cell_type": "code",
   "source": [
    "# Convert to DataFrame\n",
    "reviews_df = pd.DataFrame(reviews)\n"
   ],
   "id": "964367c0724a7ee4",
   "outputs": [
    {
     "name": "stdout",
     "output_type": "stream",
     "text": [
      "                review_id                 user_id             business_id  \\\n",
      "0  KU_O5udG6zpxOg-VcAEodg  mh_-eMZ6K5RLWhZyISBhwA  XQfwVwDr-v0ZS3_CbbE5Xw   \n",
      "1  BiTunyQ73aT9WBnpR9DZGw  OyoGAe7OKpv6SyGZT5g77Q  7ATYjTIgM3jUlt4UM3IypQ   \n",
      "2  saUsX_uimxRlCVr67Z4Jig  8g_iMtfSiwikVnbP2etR0A  YjUWPpI6HXG530lwP-fb2A   \n",
      "3  AqPFMleE6RsU23_auESxiA  _7bHUi9Uuf5__HHc_Q8guQ  kxX2SOes4o-D3ZQBkiMRfA   \n",
      "4  Sx8TMOWLNuJBWer-0pcmoA  bcjbaE6dDog4jkNY91ncLQ  e4Vwtrqf-wpJfwesgvdgxQ   \n",
      "\n",
      "   stars  useful  funny  cool  \\\n",
      "0    3.0       0      0     0   \n",
      "1    5.0       1      0     1   \n",
      "2    3.0       0      0     0   \n",
      "3    5.0       1      0     1   \n",
      "4    4.0       1      0     1   \n",
      "\n",
      "                                                text                 date  \n",
      "0  If you decide to eat here, just be aware it is...  2018-07-07 22:09:11  \n",
      "1  I've taken a lot of spin classes over the year...  2012-01-03 15:28:18  \n",
      "2  Family diner. Had the buffet. Eclectic assortm...  2014-02-05 20:30:30  \n",
      "3  Wow!  Yummy, different,  delicious.   Our favo...  2015-01-04 00:01:03  \n",
      "4  Cute interior and owner (?) gave us tour of up...  2017-01-14 20:54:15  \n",
      "6990280\n"
     ]
    }
   ],
   "execution_count": 7
  },
  {
   "metadata": {
    "ExecuteTime": {
     "end_time": "2025-04-01T04:54:21.883064Z",
     "start_time": "2025-04-01T04:54:21.877036Z"
    }
   },
   "cell_type": "code",
   "source": [
    "# Get 5 random reviews\n",
    "random_reviews = balanced_reviews_df.sample(n=5)\n",
    "\n",
    "# Print each review text\n",
    "for i, (index, row) in enumerate(random_reviews.iterrows()):\n",
    "    print(f\"\\nRandom review #{i+1} (index {index}):\")\n",
    "    print(f\"Rating: {row['stars']} stars\")\n",
    "    print(row['text'])\n",
    "    print(\"-\" * 50)"
   ],
   "id": "30200e05797c97f2",
   "outputs": [
    {
     "name": "stdout",
     "output_type": "stream",
     "text": [
      "\n",
      "Random review #1 (index 941):\n",
      "Rating: 3.0 stars\n",
      "2 or 3 stars....hmmmm....\n",
      "\n",
      "Ate their food and drank their coffee maaaaany times. And I liked it. I think I would do it more often if it wasn't for the super long wait.... If I want a Bfast Sandwich & Coffed in the morning on my way to work I'd like it to be out and ready to go in a reasonable time. If I want it from Rocket Cat then I have to plan to add at least 30min extra for then to prepare it. And that barely ever happens these days with all the other places in the hood providing faster service. \n",
      "\n",
      "The other thing is the service and the atmosphere. They are either miserable working there or they all undergo never ending personal issues, bc they are not very friendly or nice and at times they can be very rude. What's up with that???\n",
      "\n",
      "Rocket Cat, thought you wanted to be the cool cat?\n",
      "--------------------------------------------------\n",
      "\n",
      "Random review #2 (index 685):\n",
      "Rating: 2.0 stars\n",
      "Took forever to get our BBQ tacos and chicken burrito.  Mediocre, overpriced food.  I will stick to Chipotle.  Better food for less money.\n",
      "--------------------------------------------------\n",
      "\n",
      "Random review #3 (index 1602):\n",
      "Rating: 5.0 stars\n",
      "An absolutely amazingly quaint, shabby chic place for amazing brunch.\n",
      "\n",
      "Their housemade bloody mix is amazing! Lots of spice and horseradish.\n",
      "\n",
      "Ordered the brown rice kimchi bowl, thinking it was going to be less watery, because it was actually a porridge. It was the most homey, comforting, hearty, organic, fresh thing I think I have ever ordered anywhere in any restaurant. It comes with a poached egg, lentils, avocado.....all the goods for an excellent breakfast. \n",
      "\n",
      "Service was also really hands on and lovely.\n",
      "\n",
      "Definitely a go to\n",
      "--------------------------------------------------\n",
      "\n",
      "Random review #4 (index 1447):\n",
      "Rating: 4.0 stars\n",
      "Really good garlic chicken dish. Would recommend . Not too pricey either and their beer is cheap.\n",
      "--------------------------------------------------\n",
      "\n",
      "Random review #5 (index 1452):\n",
      "Rating: 4.0 stars\n",
      "Something I have learned about Philadelphia is that it's a good idea to have one or two go-to places in every neighborhood for the categories of: booze, brunch, coffee, and a quick, cheap meal. The one I struggle with the most is brunch, because if there's one thing Philadelphia loves, it is brunch. This makes it hard to find a spot where you can go on short notice, not have to wait for hours to be seated, and still get consistently good food. EGG is a godsend of a brunch spot for me - in my neighborhood and therefore easily walkable, accessible (see: not waiting for a seat for days), good food, and good prices. EGG was my Room of Requirement: I needed it one day, and it was there. Definitely going to have to go back for this dollar oyster night I have heard so much about!\n",
      "--------------------------------------------------\n"
     ]
    }
   ],
   "execution_count": 24
  },
  {
   "metadata": {},
   "cell_type": "code",
   "outputs": [],
   "execution_count": null,
   "source": [
    "chunk_size = 5000  # Adjust based on your system's memory\n",
    "chunks = []\n",
    "\n",
    "with open('../data/Yelp_JSON/yelp_dataset/yelp_academic_dataset_user.json', 'r') as f:\n",
    "    users = []\n",
    "    for i, line in enumerate(f):\n",
    "        users.append(json.loads(line))\n",
    "        \n",
    "        # When we reach chunk_size, add to chunks and reset users\n",
    "        if (i + 1) % chunk_size == 0:\n",
    "            chunks.append(pd.DataFrame(users))\n",
    "            users = []  # Reset for next chunk\n",
    "    \n",
    "    # Add any remaining users\n",
    "    if users:\n",
    "        chunks.append(pd.DataFrame(users))\n",
    "\n",
    "# Concatenate all chunks\n",
    "user_df = pd.concat(chunks, ignore_index=True)\n",
    "\n",
    "# Preview the DataFrame\n",
    "print(user_df.shape)\n",
    "print(user_df.columns)"
   ],
   "id": "c39069d313b600fe"
  },
  {
   "metadata": {
    "ExecuteTime": {
     "end_time": "2025-04-01T04:31:16.262925Z",
     "start_time": "2025-04-01T04:31:14.726275Z"
    }
   },
   "cell_type": "code",
   "source": [
    "chunk_size = 5000  # Adjust based on your system's memory\n",
    "chunks = []\n",
    "\n",
    "with open('../data/Yelp_JSON/yelp_dataset/yelp_academic_dataset_business.json', 'r') as f:\n",
    "    businesses = []\n",
    "    for i, line in enumerate(f):\n",
    "        businesses.append(json.loads(line))\n",
    "        \n",
    "        # When we reach chunk_size, add to chunks and reset businesses\n",
    "        if (i + 1) % chunk_size == 0:\n",
    "            chunks.append(pd.DataFrame(businesses))\n",
    "            businesses = []  # Reset for next chunk\n",
    "    \n",
    "    # Add any remaining businesses\n",
    "    if businesses:\n",
    "        chunks.append(pd.DataFrame(businesses))\n",
    "\n",
    "# Concatenate all chunks\n",
    "business_df = pd.concat(chunks, ignore_index=True)\n",
    "\n",
    "# Preview the DataFrame\n",
    "print(business_df.head())\n",
    "print(business_df.columns)"
   ],
   "id": "c4fe34408d9a315e",
   "outputs": [
    {
     "name": "stdout",
     "output_type": "stream",
     "text": [
      "              business_id                      name  \\\n",
      "0  Pns2l4eNsfO8kk83dixA6A  Abby Rappoport, LAC, CMQ   \n",
      "1  mpf3x-BjTdTEA3yCZrAYPw             The UPS Store   \n",
      "2  tUFrWirKiKi_TAnsVWINQQ                    Target   \n",
      "3  MTSW4McQd7CbVtyjqoe9mw        St Honore Pastries   \n",
      "4  mWMc6_wTdE0EUBKIGXDVfA  Perkiomen Valley Brewery   \n",
      "\n",
      "                           address           city state postal_code  \\\n",
      "0           1616 Chapala St, Ste 2  Santa Barbara    CA       93101   \n",
      "1  87 Grasso Plaza Shopping Center         Affton    MO       63123   \n",
      "2             5255 E Broadway Blvd         Tucson    AZ       85711   \n",
      "3                      935 Race St   Philadelphia    PA       19107   \n",
      "4                    101 Walnut St     Green Lane    PA       18054   \n",
      "\n",
      "    latitude   longitude  stars  review_count  is_open  \\\n",
      "0  34.426679 -119.711197    5.0             7        0   \n",
      "1  38.551126  -90.335695    3.0            15        1   \n",
      "2  32.223236 -110.880452    3.5            22        0   \n",
      "3  39.955505  -75.155564    4.0            80        1   \n",
      "4  40.338183  -75.471659    4.5            13        1   \n",
      "\n",
      "                                          attributes  \\\n",
      "0                      {'ByAppointmentOnly': 'True'}   \n",
      "1             {'BusinessAcceptsCreditCards': 'True'}   \n",
      "2  {'BikeParking': 'True', 'BusinessAcceptsCredit...   \n",
      "3  {'RestaurantsDelivery': 'False', 'OutdoorSeati...   \n",
      "4  {'BusinessAcceptsCreditCards': 'True', 'Wheelc...   \n",
      "\n",
      "                                          categories  \\\n",
      "0  Doctors, Traditional Chinese Medicine, Naturop...   \n",
      "1  Shipping Centers, Local Services, Notaries, Ma...   \n",
      "2  Department Stores, Shopping, Fashion, Home & G...   \n",
      "3  Restaurants, Food, Bubble Tea, Coffee & Tea, B...   \n",
      "4                          Brewpubs, Breweries, Food   \n",
      "\n",
      "                                               hours  \n",
      "0                                               None  \n",
      "1  {'Monday': '0:0-0:0', 'Tuesday': '8:0-18:30', ...  \n",
      "2  {'Monday': '8:0-22:0', 'Tuesday': '8:0-22:0', ...  \n",
      "3  {'Monday': '7:0-20:0', 'Tuesday': '7:0-20:0', ...  \n",
      "4  {'Wednesday': '14:0-22:0', 'Thursday': '16:0-2...  \n",
      "Index(['business_id', 'name', 'address', 'city', 'state', 'postal_code',\n",
      "       'latitude', 'longitude', 'stars', 'review_count', 'is_open',\n",
      "       'attributes', 'categories', 'hours'],\n",
      "      dtype='object')\n"
     ]
    }
   ],
   "execution_count": 11
  },
  {
   "metadata": {
    "ExecuteTime": {
     "end_time": "2025-04-01T04:31:59.990428Z",
     "start_time": "2025-04-01T04:31:59.883402Z"
    }
   },
   "cell_type": "code",
   "source": [
    "# Filter businesses in San Francisco\n",
    "sf_businesses = business_df[business_df['state'] == 'CA']\n",
    "\n",
    "# Preview the filtered DataFrame\n",
    "print(f\"Number of San Francisco businesses: {len(sf_businesses)}\")\n",
    "print(sf_businesses.head())"
   ],
   "id": "3bb9da964aedac1f",
   "outputs": [
    {
     "name": "stdout",
     "output_type": "stream",
     "text": [
      "Number of San Francisco businesses: 5203\n",
      "                business_id                         name  \\\n",
      "0    Pns2l4eNsfO8kk83dixA6A     Abby Rappoport, LAC, CMQ   \n",
      "26   noByYNtDLQAra9ccqxdfDw                          H&M   \n",
      "85   IDtLPgUrqorrpqSLdfMhZQ         Helena Avenue Bakery   \n",
      "91   nUqrF-h9S7myCcvNDecOvw         Iron Horse Auto Body   \n",
      "120  bYjnX_J1bHZob10DoSFkqQ  Tinkle Belle Diaper Service   \n",
      "\n",
      "                    address           city state postal_code   latitude  \\\n",
      "0    1616 Chapala St, Ste 2  Santa Barbara    CA       93101  34.426679   \n",
      "26         827-833 State St  Santa Barbara    CA       93101  34.420209   \n",
      "85    131 Anacapa St, Ste C  Santa Barbara    CA       93101  34.414445   \n",
      "91           825 Cacique St  Santa Barbara    CA       93103  34.419620   \n",
      "120                          Santa Barbara    CA       93101  34.420334   \n",
      "\n",
      "      longitude  stars  review_count  is_open  \\\n",
      "0   -119.711197    5.0             7        0   \n",
      "26  -119.700460    3.0            24        1   \n",
      "85  -119.690672    4.0           389        1   \n",
      "91  -119.677032    4.5            32        1   \n",
      "120 -119.710749    5.0            17        1   \n",
      "\n",
      "                                            attributes  \\\n",
      "0                        {'ByAppointmentOnly': 'True'}   \n",
      "26   {'BusinessAcceptsCreditCards': 'True', 'BikePa...   \n",
      "85   {'RestaurantsTakeOut': 'True', 'NoiseLevel': '...   \n",
      "91   {'BusinessAcceptsCreditCards': 'True', 'WiFi':...   \n",
      "120  {'BusinessAcceptsCreditCards': 'True', 'ByAppo...   \n",
      "\n",
      "                                            categories  \\\n",
      "0    Doctors, Traditional Chinese Medicine, Naturop...   \n",
      "26   Women's Clothing, Accessories, Children's Clot...   \n",
      "85   Food, Restaurants, Salad, Coffee & Tea, Breakf...   \n",
      "91                      Towing, Automotive, Body Shops   \n",
      "120  Parenting Classes, Maternity Wear, Fashion, Ed...   \n",
      "\n",
      "                                                 hours  \n",
      "0                                                 None  \n",
      "26   {'Monday': '11:0-18:0', 'Tuesday': '11:0-18:0'...  \n",
      "85   {'Monday': '0:0-0:0', 'Tuesday': '8:0-14:0', '...  \n",
      "91   {'Monday': '0:0-0:0', 'Tuesday': '8:0-17:0', '...  \n",
      "120  {'Monday': '0:0-0:0', 'Tuesday': '10:0-18:0', ...  \n"
     ]
    }
   ],
   "execution_count": 12
  },
  {
   "metadata": {
    "ExecuteTime": {
     "end_time": "2025-04-01T04:38:09.389841Z",
     "start_time": "2025-04-01T04:38:09.362241Z"
    }
   },
   "cell_type": "code",
   "source": [
    "# Count the number of unique cities\n",
    "city_counts = business_df['city'].value_counts()\n",
    "print(city_counts.head(10))"
   ],
   "id": "202c44c5a5fe128d",
   "outputs": [
    {
     "name": "stdout",
     "output_type": "stream",
     "text": [
      "city\n",
      "Philadelphia     14569\n",
      "Tucson            9250\n",
      "Tampa             9050\n",
      "Indianapolis      7540\n",
      "Nashville         6971\n",
      "New Orleans       6209\n",
      "Reno              5935\n",
      "Edmonton          5054\n",
      "Saint Louis       4827\n",
      "Santa Barbara     3829\n",
      "Name: count, dtype: int64\n"
     ]
    }
   ],
   "execution_count": 17
  },
  {
   "metadata": {
    "ExecuteTime": {
     "end_time": "2025-04-01T04:43:42.512625Z",
     "start_time": "2025-04-01T04:43:41.224044Z"
    }
   },
   "cell_type": "code",
   "source": [
    "# Filter businesses in Philadelphia\n",
    "philly_businesses = business_df[business_df['city'] == 'Philadelphia']\n",
    "\n",
    "# Preview the filtered DataFrame\n",
    "print(f\"Number of Philadelphia businesses: {len(philly_businesses)}\")\n",
    "print(philly_businesses.head())\n",
    "\n",
    "# Filter for businesses where 'Restaurants' appears in the categories\n",
    "philly_businesses_with_categories = philly_businesses.dropna(subset=['categories'])\n",
    "philly_restaurants = philly_businesses_with_categories[\n",
    "    philly_businesses_with_categories['categories'].str.contains('Restaurants', case=False, na=False)\n",
    "]\n",
    "\n",
    "# Preview the filtered restaurants\n",
    "print(f\"Number of restaurants in Philadelphia: {len(philly_restaurants)}\")\n",
    "print(philly_restaurants.head())\n",
    "\n",
    "# Get the business IDs for Philadelphia restaurants\n",
    "philly_restaurant_ids = set(philly_restaurants['business_id'].values)\n",
    "\n",
    "# Filter reviews for only Philadelphia restaurants\n",
    "philly_restaurant_reviews = reviews_df[reviews_df['business_id'].isin(philly_restaurant_ids)]\n",
    "\n",
    "print(f\"Number of reviews for Philadelphia restaurants: {len(philly_restaurant_reviews)}\")"
   ],
   "id": "cef5d36e26d4006",
   "outputs": [
    {
     "name": "stdout",
     "output_type": "stream",
     "text": [
      "Number of Philadelphia businesses: 14569\n",
      "               business_id                name        address          city  \\\n",
      "3   MTSW4McQd7CbVtyjqoe9mw  St Honore Pastries    935 Race St  Philadelphia   \n",
      "15  MUTTqe8uqyMdBl186RmNeA            Tuna Bar    205 Race St  Philadelphia   \n",
      "19  ROeacJQwBeh05Rqg7F6TCg                 BAP  1224 South St  Philadelphia   \n",
      "28  QdN72BWoyFypdGJhhI5r7g             Bar One   767 S 9th St  Philadelphia   \n",
      "31  Mjboz24M9NlBeiOJKLEd_Q    DeSandro on Main   4105 Main St  Philadelphia   \n",
      "\n",
      "   state postal_code   latitude  longitude  stars  review_count  is_open  \\\n",
      "3     PA       19107  39.955505 -75.155564    4.0            80        1   \n",
      "15    PA       19106  39.953949 -75.143226    4.0           245        1   \n",
      "19    PA       19147  39.943223 -75.162568    4.5           205        1   \n",
      "28    PA       19147  39.939825 -75.157447    4.0            65        0   \n",
      "31    PA       19127  40.022466 -75.218314    3.0            41        0   \n",
      "\n",
      "                                           attributes  \\\n",
      "3   {'RestaurantsDelivery': 'False', 'OutdoorSeati...   \n",
      "15  {'RestaurantsReservations': 'True', 'Restauran...   \n",
      "19  {'NoiseLevel': 'u'quiet'', 'GoodForMeal': '{'d...   \n",
      "28  {'Smoking': 'u'no'', 'NoiseLevel': 'u'average'...   \n",
      "31  {'RestaurantsReservations': 'False', 'Caters':...   \n",
      "\n",
      "                                           categories  \\\n",
      "3   Restaurants, Food, Bubble Tea, Coffee & Tea, B...   \n",
      "15                  Sushi Bars, Restaurants, Japanese   \n",
      "19                                Korean, Restaurants   \n",
      "28  Cocktail Bars, Bars, Italian, Nightlife, Resta...   \n",
      "31                    Pizza, Restaurants, Salad, Soup   \n",
      "\n",
      "                                                hours  \n",
      "3   {'Monday': '7:0-20:0', 'Tuesday': '7:0-20:0', ...  \n",
      "15  {'Tuesday': '13:30-22:0', 'Wednesday': '13:30-...  \n",
      "19  {'Monday': '11:30-20:30', 'Tuesday': '11:30-20...  \n",
      "28  {'Monday': '16:0-0:0', 'Tuesday': '16:0-0:0', ...  \n",
      "31  {'Tuesday': '17:0-21:30', 'Wednesday': '17:0-1...  \n",
      "Number of restaurants in Philadelphia: 5852\n",
      "               business_id                name        address          city  \\\n",
      "3   MTSW4McQd7CbVtyjqoe9mw  St Honore Pastries    935 Race St  Philadelphia   \n",
      "15  MUTTqe8uqyMdBl186RmNeA            Tuna Bar    205 Race St  Philadelphia   \n",
      "19  ROeacJQwBeh05Rqg7F6TCg                 BAP  1224 South St  Philadelphia   \n",
      "28  QdN72BWoyFypdGJhhI5r7g             Bar One   767 S 9th St  Philadelphia   \n",
      "31  Mjboz24M9NlBeiOJKLEd_Q    DeSandro on Main   4105 Main St  Philadelphia   \n",
      "\n",
      "   state postal_code   latitude  longitude  stars  review_count  is_open  \\\n",
      "3     PA       19107  39.955505 -75.155564    4.0            80        1   \n",
      "15    PA       19106  39.953949 -75.143226    4.0           245        1   \n",
      "19    PA       19147  39.943223 -75.162568    4.5           205        1   \n",
      "28    PA       19147  39.939825 -75.157447    4.0            65        0   \n",
      "31    PA       19127  40.022466 -75.218314    3.0            41        0   \n",
      "\n",
      "                                           attributes  \\\n",
      "3   {'RestaurantsDelivery': 'False', 'OutdoorSeati...   \n",
      "15  {'RestaurantsReservations': 'True', 'Restauran...   \n",
      "19  {'NoiseLevel': 'u'quiet'', 'GoodForMeal': '{'d...   \n",
      "28  {'Smoking': 'u'no'', 'NoiseLevel': 'u'average'...   \n",
      "31  {'RestaurantsReservations': 'False', 'Caters':...   \n",
      "\n",
      "                                           categories  \\\n",
      "3   Restaurants, Food, Bubble Tea, Coffee & Tea, B...   \n",
      "15                  Sushi Bars, Restaurants, Japanese   \n",
      "19                                Korean, Restaurants   \n",
      "28  Cocktail Bars, Bars, Italian, Nightlife, Resta...   \n",
      "31                    Pizza, Restaurants, Salad, Soup   \n",
      "\n",
      "                                                hours  \n",
      "3   {'Monday': '7:0-20:0', 'Tuesday': '7:0-20:0', ...  \n",
      "15  {'Tuesday': '13:30-22:0', 'Wednesday': '13:30-...  \n",
      "19  {'Monday': '11:30-20:30', 'Tuesday': '11:30-20...  \n",
      "28  {'Monday': '16:0-0:0', 'Tuesday': '16:0-0:0', ...  \n",
      "31  {'Tuesday': '17:0-21:30', 'Wednesday': '17:0-1...  \n",
      "Number of reviews for Philadelphia restaurants: 687289\n"
     ]
    }
   ],
   "execution_count": 19
  },
  {
   "metadata": {
    "ExecuteTime": {
     "end_time": "2025-04-01T04:44:24.226525Z",
     "start_time": "2025-04-01T04:44:24.222078Z"
    }
   },
   "cell_type": "code",
   "source": "print(philly_restaurant_reviews.head())",
   "id": "743f7aab176f5a56",
   "outputs": [
    {
     "name": "stdout",
     "output_type": "stream",
     "text": [
      "                 review_id                 user_id             business_id  \\\n",
      "3   AqPFMleE6RsU23_auESxiA  _7bHUi9Uuf5__HHc_Q8guQ  kxX2SOes4o-D3ZQBkiMRfA   \n",
      "5   JrIxlS1TzJ-iCu79ul40cQ  eUta8W_HdHMXPzLBBZhL1A  04UD14gamNjLY0IDYVhHJg   \n",
      "13  8JFGBuHMoiNDyfcxuWNtrA  smOvOajNG0lS4Pq7d8g4JQ  RZtGWDLCAtuipwaZ-UfjmQ   \n",
      "16  oyaMhzBSwfGgemSGuZCdwQ  Dd1jQj7S-BFGqRbApFzCFw  YtSqYv1Q_pOltsVPSx54SA   \n",
      "19  Xs8Z8lmKkosqW5mw_sVAoA  IQsF3Rc6IgCzjVV9DE8KXg  eFvzHawVJofxSnD7TgbZtg   \n",
      "\n",
      "    stars  useful  funny  cool  \\\n",
      "3     5.0       1      0     1   \n",
      "5     1.0       1      2     1   \n",
      "13    4.0       0      0     0   \n",
      "16    5.0       0      0     0   \n",
      "19    5.0       0      0     0   \n",
      "\n",
      "                                                 text                 date  \n",
      "3   Wow!  Yummy, different,  delicious.   Our favo...  2015-01-04 00:01:03  \n",
      "5   I am a long term frequent customer of this est...  2015-09-23 23:10:31  \n",
      "13  Good food--loved the gnocchi with marinara\\nth...  2009-10-14 19:57:14  \n",
      "16  Tremendous service (Big shout out to Douglas) ...  2013-06-24 11:21:25  \n",
      "19  My absolute favorite cafe in the city. Their b...  2014-11-12 15:30:27  \n"
     ]
    }
   ],
   "execution_count": 20
  },
  {
   "metadata": {
    "ExecuteTime": {
     "end_time": "2025-04-01T04:47:35.223386Z",
     "start_time": "2025-04-01T04:47:33.051986Z"
    }
   },
   "cell_type": "code",
   "source": "philly_restaurant_reviews.to_pickle('philly_restaurant_reviews.pkl')",
   "id": "761158837e75003c",
   "outputs": [],
   "execution_count": 21
  },
  {
   "metadata": {
    "ExecuteTime": {
     "end_time": "2025-04-01T04:49:35.219202Z",
     "start_time": "2025-04-01T04:49:35.210240Z"
    }
   },
   "cell_type": "code",
   "source": [
    "star_distribution = philly_restaurant_reviews['stars'].value_counts().sort_index()\n",
    "print(\"Original star rating distribution:\")\n",
    "print(star_distribution)\n"
   ],
   "id": "c55a33c9744534d9",
   "outputs": [
    {
     "name": "stdout",
     "output_type": "stream",
     "text": [
      "Original star rating distribution:\n",
      "stars\n",
      "1.0     66624\n",
      "2.0     57480\n",
      "3.0     91702\n",
      "4.0    194366\n",
      "5.0    277117\n",
      "Name: count, dtype: int64\n"
     ]
    }
   ],
   "execution_count": 22
  },
  {
   "metadata": {
    "ExecuteTime": {
     "end_time": "2025-04-01T04:49:55.278920Z",
     "start_time": "2025-04-01T04:49:53.452554Z"
    }
   },
   "cell_type": "code",
   "source": [
    "# Sample 400 reviews for each star rating\n",
    "balanced_reviews = []\n",
    "\n",
    "for star in range(1, 6):  # 1 to 5 stars\n",
    "    star_reviews = philly_restaurant_reviews[philly_restaurant_reviews['stars'] == star]\n",
    "    \n",
    "    # Check if we have at least 400 reviews for this star rating\n",
    "    if len(star_reviews) >= 400:\n",
    "        sampled_reviews = star_reviews.sample(n=400, random_state=42)  # For reproducibility\n",
    "    else:\n",
    "        # If less than 400 reviews, take all available and warn\n",
    "        sampled_reviews = star_reviews\n",
    "        print(f\"Warning: Only {len(star_reviews)} reviews available for {star} star rating.\")\n",
    "    \n",
    "    balanced_reviews.append(sampled_reviews)\n",
    "\n",
    "# Combine all sampled reviews into a single DataFrame\n",
    "balanced_reviews_df = pd.concat(balanced_reviews, ignore_index=True)\n",
    "\n",
    "# Verify the distribution in the new DataFrame\n",
    "balanced_distribution = balanced_reviews_df['stars'].value_counts().sort_index()\n",
    "print(\"\\nBalanced star rating distribution:\")\n",
    "print(balanced_distribution)\n",
    "\n",
    "# Total number of reviews in the balanced dataset\n",
    "print(f\"\\nTotal reviews in balanced dataset: {len(balanced_reviews_df)}\")"
   ],
   "id": "f7c9466f09ca8b22",
   "outputs": [
    {
     "name": "stdout",
     "output_type": "stream",
     "text": [
      "\n",
      "Balanced star rating distribution:\n",
      "stars\n",
      "1.0    400\n",
      "2.0    400\n",
      "3.0    400\n",
      "4.0    400\n",
      "5.0    400\n",
      "Name: count, dtype: int64\n",
      "\n",
      "Total reviews in balanced dataset: 2000\n"
     ]
    }
   ],
   "execution_count": 23
  },
  {
   "metadata": {},
   "cell_type": "code",
   "outputs": [],
   "execution_count": null,
   "source": "",
   "id": "9771c8e667b19ec1"
  },
  {
   "metadata": {
    "ExecuteTime": {
     "end_time": "2025-04-01T04:55:26.825794Z",
     "start_time": "2025-04-01T04:55:26.799581Z"
    }
   },
   "cell_type": "code",
   "source": "balanced_reviews_df.to_pickle('balanced_philly_resto_reviews.pkl')",
   "id": "ee81980281055fec",
   "outputs": [],
   "execution_count": 25
  },
  {
   "metadata": {},
   "cell_type": "code",
   "outputs": [],
   "execution_count": null,
   "source": "",
   "id": "a6c910fac5cd722"
  }
 ],
 "metadata": {
  "kernelspec": {
   "display_name": "Python 3",
   "language": "python",
   "name": "python3"
  },
  "language_info": {
   "codemirror_mode": {
    "name": "ipython",
    "version": 2
   },
   "file_extension": ".py",
   "mimetype": "text/x-python",
   "name": "python",
   "nbconvert_exporter": "python",
   "pygments_lexer": "ipython2",
   "version": "2.7.6"
  }
 },
 "nbformat": 4,
 "nbformat_minor": 5
}
