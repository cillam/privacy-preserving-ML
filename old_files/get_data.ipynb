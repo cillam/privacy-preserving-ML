{
 "cells": [
  {
   "metadata": {},
   "cell_type": "code",
   "source": [
    "import psycopg2\n",
    "import pandas as pd\n"
   ],
   "id": "509d5490b9139092",
   "outputs": [],
   "execution_count": null
  },
  {
   "metadata": {},
   "cell_type": "code",
   "source": "DATABASE_URL=\"postgres://u2bbja15c4igeb:pedd96ce18167a13cc8d49f93dc8db09b97790d992dfcf068d16b08f4d0edbd0b@c4c161t4pf58h3.cluster-czrs8kj4isg7.us-east-1.rds.amazonaws.com:5432/d421pu93ggcr06\"\n",
   "id": "3a8392f8f5305202",
   "outputs": [],
   "execution_count": null
  },
  {
   "metadata": {},
   "cell_type": "code",
   "source": [
    "def execute_sql(sql, return_all=False, commit=False):\n",
    "    try:\n",
    "\n",
    "        con = psycopg2.connect(DATABASE_URL, sslmode='require')\n",
    "        cursor = con.cursor()\n",
    "        cursor.execute(sql)\n",
    "\n",
    "        if commit:\n",
    "            con.commit()\n",
    "\n",
    "        if return_all:\n",
    "            out = cursor.fetchall()\n",
    "            con.close()\n",
    "            return out\n",
    "\n",
    "        con.close()\n",
    "\n",
    "    except psycopg2.OperationalError as e:\n",
    "        try:\n",
    "            print(e)\n",
    "            con.close()\n",
    "        except Exception:\n",
    "            pass\n",
    "\n",
    "# List all tables in the database\n",
    "tables = execute_sql(\"\"\"\n",
    "    SELECT table_schema, table_name \n",
    "    FROM information_schema.tables \n",
    "    WHERE table_schema NOT IN ('pg_catalog', 'information_schema')\n",
    "    ORDER BY table_schema, table_name\n",
    "\"\"\", return_all=True)\n",
    "\n",
    "print(\"Available tables:\")\n",
    "for schema, table in tables:\n",
    "    print(f\"{schema}.{table}\")"
   ],
   "id": "5135ec944a7c75ca",
   "outputs": [],
   "execution_count": null
  },
  {
   "metadata": {},
   "cell_type": "code",
   "source": [
    "# retreives 10 rows with all columns from the review table\n",
    "data = execute_sql(\"SELECT * FROM reviews LIMIT 200\", return_all=True)\n"
   ],
   "id": "5bc5e54203d39b5a",
   "outputs": [],
   "execution_count": null
  },
  {
   "metadata": {},
   "cell_type": "code",
   "source": [
    "def tuples_to_dataframe(data_tuples_list):\n",
    "    # Create list of dictionaries\n",
    "    data_dicts = []\n",
    "    \n",
    "    for tup in data_tuples_list:\n",
    "        data_dict = {\n",
    "            'user_id': tup[0],\n",
    "            'business_id': tup[1],\n",
    "            'rating': tup[2],\n",
    "            'review': tup[3],\n",
    "            'date': tup[4]\n",
    "        }\n",
    "        data_dicts.append(data_dict)\n",
    "    \n",
    "    # Create DataFrame from the list of dictionaries\n",
    "    df = pd.DataFrame(data_dicts)\n",
    "    \n",
    "    # Convert date string to datetime object (optional)\n",
    "    df['date'] = pd.to_datetime(df['date'])\n",
    "    \n",
    "    return df\n",
    "\n",
    "\n",
    "reviews = tuples_to_dataframe(data)\n",
    "\n",
    "reviews.to_pickle('reviews.pkl')"
   ],
   "id": "fa6c676eeefff27c",
   "outputs": [],
   "execution_count": null
  },
  {
   "metadata": {},
   "cell_type": "code",
   "outputs": [],
   "execution_count": null,
   "source": "",
   "id": "a45a6b0ded66e194"
  }
 ],
 "metadata": {
  "kernelspec": {
   "display_name": "Python 3",
   "language": "python",
   "name": "python3"
  },
  "language_info": {
   "codemirror_mode": {
    "name": "ipython",
    "version": 2
   },
   "file_extension": ".py",
   "mimetype": "text/x-python",
   "name": "python",
   "nbconvert_exporter": "python",
   "pygments_lexer": "ipython2",
   "version": "2.7.6"
  }
 },
 "nbformat": 4,
 "nbformat_minor": 5
}
