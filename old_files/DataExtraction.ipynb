{
 "cells": [
  {
   "cell_type": "code",
   "id": "0574e032-c9ee-411f-a325-88988b4a2879",
   "metadata": {
    "ExecuteTime": {
     "end_time": "2025-04-01T04:01:17.015137Z",
     "start_time": "2025-04-01T03:56:36.262271Z"
    }
   },
   "source": [
    "import psycopg2\n",
    "import pandas as pd\n",
    "\n",
    "DATABASE_URL=\"postgres://u2bbja15c4igeb:pedd96ce18167a13cc8d49f93dc8db09b97790d992dfcf068d16b08f4d0edbd0b@c4c161t4pf58h3.cluster-czrs8kj4isg7.us-east-1.rds.amazonaws.com:5432/d421pu93ggcr06\"\n",
    "\n",
    "def execute_sql(sql, return_all=False, commit=False):\n",
    "    try:\n",
    "        con = psycopg2.connect(DATABASE_URL, sslmode='require')\n",
    "        cursor = con.cursor()\n",
    "        cursor.execute(sql)\n",
    "        \n",
    "        if commit:\n",
    "            con.commit()\n",
    "\n",
    "        if return_all:\n",
    "            out = cursor.fetchall()\n",
    "            con.close()\n",
    "            return out\n",
    "\n",
    "        con.close()\n",
    "\n",
    "    except psycopg2.OperationalError as e:\n",
    "        try:\n",
    "            print(\"Error:\", e)\n",
    "            con.close()\n",
    "        except Exception:\n",
    "            pass\n",
    "\n",
    "# This query uses a window function to assign a row number per star rating.\n",
    "# It then filters for the first 400 reviews per star rating.\n",
    "query = \"\"\"\n",
    "SELECT user_id, business_id, stars, text, date\n",
    "FROM (\n",
    "    SELECT \n",
    "        user_id, \n",
    "        business_id, \n",
    "        stars, \n",
    "        text, \n",
    "        date,\n",
    "        ROW_NUMBER() OVER (PARTITION BY stars ORDER BY date DESC) AS rn\n",
    "    FROM reviews\n",
    ") AS subquery\n",
    "WHERE rn <= 400;\n",
    "\"\"\"\n",
    "\n",
    "# Execute the query and get the data\n",
    "data = execute_sql(query, return_all=True)\n",
    "\n",
    "# Convert the data into a DataFrame for easier manipulation\n",
    "reviews_df = pd.DataFrame(data, columns=['user_id', 'business_id', 'stars', 'text', 'date'])\n",
    "print(reviews_df.head())\n",
    "\n",
    "reviews_df.to_pickle('reviews_df.pkl')"
   ],
   "outputs": [
    {
     "ename": "KeyboardInterrupt",
     "evalue": "",
     "output_type": "error",
     "traceback": [
      "\u001B[31m---------------------------------------------------------------------------\u001B[39m",
      "\u001B[31mKeyboardInterrupt\u001B[39m                         Traceback (most recent call last)",
      "\u001B[36mCell\u001B[39m\u001B[36m \u001B[39m\u001B[32mIn[1]\u001B[39m\u001B[32m, line 47\u001B[39m\n\u001B[32m     31\u001B[39m query = \u001B[33m\"\"\"\u001B[39m\n\u001B[32m     32\u001B[39m \u001B[33mSELECT user_id, business_id, stars, text, date\u001B[39m\n\u001B[32m     33\u001B[39m \u001B[33mFROM (\u001B[39m\n\u001B[32m   (...)\u001B[39m\u001B[32m     43\u001B[39m \u001B[33mWHERE rn <= 400;\u001B[39m\n\u001B[32m     44\u001B[39m \u001B[33m\"\"\"\u001B[39m\n\u001B[32m     46\u001B[39m \u001B[38;5;66;03m# Execute the query and get the data\u001B[39;00m\n\u001B[32m---> \u001B[39m\u001B[32m47\u001B[39m data = \u001B[43mexecute_sql\u001B[49m\u001B[43m(\u001B[49m\u001B[43mquery\u001B[49m\u001B[43m,\u001B[49m\u001B[43m \u001B[49m\u001B[43mreturn_all\u001B[49m\u001B[43m=\u001B[49m\u001B[38;5;28;43;01mTrue\u001B[39;49;00m\u001B[43m)\u001B[49m\n\u001B[32m     49\u001B[39m \u001B[38;5;66;03m# Convert the data into a DataFrame for easier manipulation\u001B[39;00m\n\u001B[32m     50\u001B[39m reviews_df = pd.DataFrame(data, columns=[\u001B[33m'\u001B[39m\u001B[33muser_id\u001B[39m\u001B[33m'\u001B[39m, \u001B[33m'\u001B[39m\u001B[33mbusiness_id\u001B[39m\u001B[33m'\u001B[39m, \u001B[33m'\u001B[39m\u001B[33mstars\u001B[39m\u001B[33m'\u001B[39m, \u001B[33m'\u001B[39m\u001B[33mtext\u001B[39m\u001B[33m'\u001B[39m, \u001B[33m'\u001B[39m\u001B[33mdate\u001B[39m\u001B[33m'\u001B[39m])\n",
      "\u001B[36mCell\u001B[39m\u001B[36m \u001B[39m\u001B[32mIn[1]\u001B[39m\u001B[32m, line 10\u001B[39m, in \u001B[36mexecute_sql\u001B[39m\u001B[34m(sql, return_all, commit)\u001B[39m\n\u001B[32m      8\u001B[39m con = psycopg2.connect(DATABASE_URL, sslmode=\u001B[33m'\u001B[39m\u001B[33mrequire\u001B[39m\u001B[33m'\u001B[39m)\n\u001B[32m      9\u001B[39m cursor = con.cursor()\n\u001B[32m---> \u001B[39m\u001B[32m10\u001B[39m \u001B[43mcursor\u001B[49m\u001B[43m.\u001B[49m\u001B[43mexecute\u001B[49m\u001B[43m(\u001B[49m\u001B[43msql\u001B[49m\u001B[43m)\u001B[49m\n\u001B[32m     12\u001B[39m \u001B[38;5;28;01mif\u001B[39;00m commit:\n\u001B[32m     13\u001B[39m     con.commit()\n",
      "\u001B[36mFile \u001B[39m\u001B[32m/Library/Frameworks/Python.framework/Versions/3.11/lib/python3.11/encodings/utf_8.py:15\u001B[39m, in \u001B[36mdecode\u001B[39m\u001B[34m(input, errors)\u001B[39m\n\u001B[32m     11\u001B[39m \u001B[38;5;66;03m### Codec APIs\u001B[39;00m\n\u001B[32m     13\u001B[39m encode = codecs.utf_8_encode\n\u001B[32m---> \u001B[39m\u001B[32m15\u001B[39m \u001B[38;5;28;01mdef\u001B[39;00m\u001B[38;5;250m \u001B[39m\u001B[34mdecode\u001B[39m(\u001B[38;5;28minput\u001B[39m, errors=\u001B[33m'\u001B[39m\u001B[33mstrict\u001B[39m\u001B[33m'\u001B[39m):\n\u001B[32m     16\u001B[39m     \u001B[38;5;28;01mreturn\u001B[39;00m codecs.utf_8_decode(\u001B[38;5;28minput\u001B[39m, errors, \u001B[38;5;28;01mTrue\u001B[39;00m)\n\u001B[32m     18\u001B[39m \u001B[38;5;28;01mclass\u001B[39;00m\u001B[38;5;250m \u001B[39m\u001B[34;01mIncrementalEncoder\u001B[39;00m(codecs.IncrementalEncoder):\n",
      "\u001B[31mKeyboardInterrupt\u001B[39m: "
     ]
    }
   ],
   "execution_count": 1
  }
 ],
 "metadata": {
  "kernelspec": {
   "display_name": "Python 3 (ipykernel)",
   "language": "python",
   "name": "python3"
  },
  "language_info": {
   "codemirror_mode": {
    "name": "ipython",
    "version": 3
   },
   "file_extension": ".py",
   "mimetype": "text/x-python",
   "name": "python",
   "nbconvert_exporter": "python",
   "pygments_lexer": "ipython3",
   "version": "3.11.11"
  }
 },
 "nbformat": 4,
 "nbformat_minor": 5
}
