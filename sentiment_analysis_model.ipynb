{
 "cells": [
  {
   "metadata": {
    "ExecuteTime": {
     "end_time": "2025-03-30T21:55:39.085567Z",
     "start_time": "2025-03-30T21:55:36.387530Z"
    }
   },
   "cell_type": "code",
   "source": [
    "# import libraries/modules\n",
    "\n",
    "import pandas as pd\n",
    "import numpy as np\n",
    "\n",
    "\n",
    "import tensorflow as tf\n",
    "import tensorflow_privacy as tfp\n",
    "from tensorflow_privacy.privacy.optimizers import dp_optimizer_keras\n",
    "from keras.layers import Input, Dense, Dropout\n",
    "from keras.models import Model\n",
    "from keras.optimizers import Adam\n",
    "from transformers import TFBertModel, BertTokenizer\n",
    "\n",
    "from sklearn.model_selection import train_test_split\n",
    "from sklearn.preprocessing import LabelEncoder\n",
    "from sklearn.utils import class_weight\n",
    "from sklearn.metrics import precision_recall_fscore_support, classification_report as sk_classification_report, accuracy_score, f1_score\n",
    "import matplotlib.pyplot as plt\n",
    "import math\n"
   ],
   "id": "initial_id",
   "execution_count": 1,
   "outputs": []
  },
  {
   "metadata": {
    "ExecuteTime": {
     "end_time": "2025-03-30T21:55:39.087986Z",
     "start_time": "2025-03-30T21:55:39.086504Z"
    }
   },
   "cell_type": "code",
   "source": [
    "MAX_LENGTH = 512\n",
    "EPOCHS = 3\n",
    "BATCH_SIZE = 32\n"
   ],
   "id": "6c034bf52ca668ee",
   "outputs": [],
   "execution_count": 2
  },
  {
   "metadata": {
    "ExecuteTime": {
     "end_time": "2025-03-30T21:55:39.090628Z",
     "start_time": "2025-03-30T21:55:39.088524Z"
    }
   },
   "cell_type": "code",
   "source": [
    "# load dataset\n",
    "reviews_df = pd.read_pickle('reviews.pkl')"
   ],
   "id": "8482f4150c580251",
   "outputs": [],
   "execution_count": 3
  },
  {
   "metadata": {
    "ExecuteTime": {
     "end_time": "2025-03-30T21:55:39.098217Z",
     "start_time": "2025-03-30T21:55:39.091707Z"
    }
   },
   "cell_type": "code",
   "source": "display(reviews_df)",
   "id": "ceae08293524ca92",
   "execution_count": 4,
   "outputs": [
    {
     "data": {
      "text/plain": [
       "                    user_id             business_id  rating  \\\n",
       "0    mh_-eMZ6K5RLWhZyISBhwA  XQfwVwDr-v0ZS3_CbbE5Xw     3.0   \n",
       "1    OyoGAe7OKpv6SyGZT5g77Q  7ATYjTIgM3jUlt4UM3IypQ     5.0   \n",
       "2    8g_iMtfSiwikVnbP2etR0A  YjUWPpI6HXG530lwP-fb2A     3.0   \n",
       "3    _7bHUi9Uuf5__HHc_Q8guQ  kxX2SOes4o-D3ZQBkiMRfA     5.0   \n",
       "4    bcjbaE6dDog4jkNY91ncLQ  e4Vwtrqf-wpJfwesgvdgxQ     4.0   \n",
       "..                      ...                     ...     ...   \n",
       "195  pR4DDFXqNylSNAcmTaPMyQ  hRHhP3fhMy3LktPyQa3s_A     3.0   \n",
       "196  nbVYXmDUO6XH-wvhY62uvg  XMGjDIAFbu9VSmWDs-Ev5w     4.0   \n",
       "197  YRFeRq--jTV6G3HMgesSEg  wqj6JquckEOs1h7rs376kQ     4.0   \n",
       "198  6M7PMBWbBcp5VZ84AY3EFA  mLNSOU8Ki0Fm09xd6ZKkcA     2.0   \n",
       "199  0XmgOinrZWNO15DlimRQeg  PpZqlVUAP2i8_hNfpQyKhg     5.0   \n",
       "\n",
       "                                                review                date  \n",
       "0    If you decide to eat here, just be aware it is... 2018-07-07 22:09:11  \n",
       "1    I've taken a lot of spin classes over the year... 2012-01-03 15:28:18  \n",
       "2    Family diner. Had the buffet. Eclectic assortm... 2014-02-05 20:30:30  \n",
       "3    Wow!  Yummy, different,  delicious.   Our favo... 2015-01-04 00:01:03  \n",
       "4    Cute interior and owner (?) gave us tour of up... 2017-01-14 20:54:15  \n",
       "..                                                 ...                 ...  \n",
       "195  We ran in for a late night dinner last night. ... 2018-01-21 14:07:35  \n",
       "196  Stopped by to munch a burger during today's Se... 2011-01-08 23:52:22  \n",
       "197  I can only comment on the vermicelli bowls bec... 2013-01-27 18:10:56  \n",
       "198  I had the Chicken Marsala recommended by our w... 2015-01-18 19:04:28  \n",
       "199  Buckingham Pizza makes the best pizza around, ... 2012-03-01 02:28:24  \n",
       "\n",
       "[200 rows x 5 columns]"
      ],
      "text/html": [
       "<div>\n",
       "<style scoped>\n",
       "    .dataframe tbody tr th:only-of-type {\n",
       "        vertical-align: middle;\n",
       "    }\n",
       "\n",
       "    .dataframe tbody tr th {\n",
       "        vertical-align: top;\n",
       "    }\n",
       "\n",
       "    .dataframe thead th {\n",
       "        text-align: right;\n",
       "    }\n",
       "</style>\n",
       "<table border=\"1\" class=\"dataframe\">\n",
       "  <thead>\n",
       "    <tr style=\"text-align: right;\">\n",
       "      <th></th>\n",
       "      <th>user_id</th>\n",
       "      <th>business_id</th>\n",
       "      <th>rating</th>\n",
       "      <th>review</th>\n",
       "      <th>date</th>\n",
       "    </tr>\n",
       "  </thead>\n",
       "  <tbody>\n",
       "    <tr>\n",
       "      <th>0</th>\n",
       "      <td>mh_-eMZ6K5RLWhZyISBhwA</td>\n",
       "      <td>XQfwVwDr-v0ZS3_CbbE5Xw</td>\n",
       "      <td>3.0</td>\n",
       "      <td>If you decide to eat here, just be aware it is...</td>\n",
       "      <td>2018-07-07 22:09:11</td>\n",
       "    </tr>\n",
       "    <tr>\n",
       "      <th>1</th>\n",
       "      <td>OyoGAe7OKpv6SyGZT5g77Q</td>\n",
       "      <td>7ATYjTIgM3jUlt4UM3IypQ</td>\n",
       "      <td>5.0</td>\n",
       "      <td>I've taken a lot of spin classes over the year...</td>\n",
       "      <td>2012-01-03 15:28:18</td>\n",
       "    </tr>\n",
       "    <tr>\n",
       "      <th>2</th>\n",
       "      <td>8g_iMtfSiwikVnbP2etR0A</td>\n",
       "      <td>YjUWPpI6HXG530lwP-fb2A</td>\n",
       "      <td>3.0</td>\n",
       "      <td>Family diner. Had the buffet. Eclectic assortm...</td>\n",
       "      <td>2014-02-05 20:30:30</td>\n",
       "    </tr>\n",
       "    <tr>\n",
       "      <th>3</th>\n",
       "      <td>_7bHUi9Uuf5__HHc_Q8guQ</td>\n",
       "      <td>kxX2SOes4o-D3ZQBkiMRfA</td>\n",
       "      <td>5.0</td>\n",
       "      <td>Wow!  Yummy, different,  delicious.   Our favo...</td>\n",
       "      <td>2015-01-04 00:01:03</td>\n",
       "    </tr>\n",
       "    <tr>\n",
       "      <th>4</th>\n",
       "      <td>bcjbaE6dDog4jkNY91ncLQ</td>\n",
       "      <td>e4Vwtrqf-wpJfwesgvdgxQ</td>\n",
       "      <td>4.0</td>\n",
       "      <td>Cute interior and owner (?) gave us tour of up...</td>\n",
       "      <td>2017-01-14 20:54:15</td>\n",
       "    </tr>\n",
       "    <tr>\n",
       "      <th>...</th>\n",
       "      <td>...</td>\n",
       "      <td>...</td>\n",
       "      <td>...</td>\n",
       "      <td>...</td>\n",
       "      <td>...</td>\n",
       "    </tr>\n",
       "    <tr>\n",
       "      <th>195</th>\n",
       "      <td>pR4DDFXqNylSNAcmTaPMyQ</td>\n",
       "      <td>hRHhP3fhMy3LktPyQa3s_A</td>\n",
       "      <td>3.0</td>\n",
       "      <td>We ran in for a late night dinner last night. ...</td>\n",
       "      <td>2018-01-21 14:07:35</td>\n",
       "    </tr>\n",
       "    <tr>\n",
       "      <th>196</th>\n",
       "      <td>nbVYXmDUO6XH-wvhY62uvg</td>\n",
       "      <td>XMGjDIAFbu9VSmWDs-Ev5w</td>\n",
       "      <td>4.0</td>\n",
       "      <td>Stopped by to munch a burger during today's Se...</td>\n",
       "      <td>2011-01-08 23:52:22</td>\n",
       "    </tr>\n",
       "    <tr>\n",
       "      <th>197</th>\n",
       "      <td>YRFeRq--jTV6G3HMgesSEg</td>\n",
       "      <td>wqj6JquckEOs1h7rs376kQ</td>\n",
       "      <td>4.0</td>\n",
       "      <td>I can only comment on the vermicelli bowls bec...</td>\n",
       "      <td>2013-01-27 18:10:56</td>\n",
       "    </tr>\n",
       "    <tr>\n",
       "      <th>198</th>\n",
       "      <td>6M7PMBWbBcp5VZ84AY3EFA</td>\n",
       "      <td>mLNSOU8Ki0Fm09xd6ZKkcA</td>\n",
       "      <td>2.0</td>\n",
       "      <td>I had the Chicken Marsala recommended by our w...</td>\n",
       "      <td>2015-01-18 19:04:28</td>\n",
       "    </tr>\n",
       "    <tr>\n",
       "      <th>199</th>\n",
       "      <td>0XmgOinrZWNO15DlimRQeg</td>\n",
       "      <td>PpZqlVUAP2i8_hNfpQyKhg</td>\n",
       "      <td>5.0</td>\n",
       "      <td>Buckingham Pizza makes the best pizza around, ...</td>\n",
       "      <td>2012-03-01 02:28:24</td>\n",
       "    </tr>\n",
       "  </tbody>\n",
       "</table>\n",
       "<p>200 rows × 5 columns</p>\n",
       "</div>"
      ]
     },
     "metadata": {},
     "output_type": "display_data"
    }
   ]
  },
  {
   "metadata": {
    "ExecuteTime": {
     "end_time": "2025-03-30T21:55:39.160593Z",
     "start_time": "2025-03-30T21:55:39.098879Z"
    }
   },
   "cell_type": "code",
   "source": [
    "# Label encode forms\n",
    "# Initialize LabelEncoder\n",
    "le = LabelEncoder()\n",
    "\n",
    "# Fit and transform the column\n",
    "reviews_df['rating_encoded'] = le.fit_transform(reviews_df['rating'])\n",
    "\n",
    "# Split data into training, validation, and test sets\n",
    "x_train, x_val, y_train, y_val = train_test_split(reviews_df['review'], reviews_df['rating_encoded'], test_size=0.40, random_state=42)\n",
    "x_val, x_test, y_val, y_test = train_test_split(reviews_df['review'], reviews_df['rating_encoded'], test_size=0.50, random_state=1234)\n",
    "\n",
    "# apply one-hot encoding to labels\n",
    "y_train_one_hot = tf.one_hot(y_train, depth=5)\n",
    "y_val_one_hot = tf.one_hot(y_val, depth=5)\n",
    "y_test_one_hot = tf.one_hot(y_test, depth=5)"
   ],
   "id": "be0645df82cc8",
   "outputs": [
    {
     "name": "stderr",
     "output_type": "stream",
     "text": [
      "2025-03-30 14:55:39.101836: I metal_plugin/src/device/metal_device.cc:1154] Metal device set to: Apple M3 Max\n",
      "2025-03-30 14:55:39.101856: I metal_plugin/src/device/metal_device.cc:296] systemMemory: 36.00 GB\n",
      "2025-03-30 14:55:39.101860: I metal_plugin/src/device/metal_device.cc:313] maxCacheSize: 13.50 GB\n",
      "2025-03-30 14:55:39.101883: I tensorflow/core/common_runtime/pluggable_device/pluggable_device_factory.cc:306] Could not identify NUMA node of platform GPU ID 0, defaulting to 0. Your kernel may not have been built with NUMA support.\n",
      "2025-03-30 14:55:39.101898: I tensorflow/core/common_runtime/pluggable_device/pluggable_device_factory.cc:272] Created TensorFlow device (/job:localhost/replica:0/task:0/device:GPU:0 with 0 MB memory) -> physical PluggableDevice (device: 0, name: METAL, pci bus id: <undefined>)\n"
     ]
    }
   ],
   "execution_count": 5
  },
  {
   "metadata": {
    "ExecuteTime": {
     "end_time": "2025-03-30T21:55:39.164690Z",
     "start_time": "2025-03-30T21:55:39.161160Z"
    }
   },
   "cell_type": "code",
   "source": [
    "# compute class weights\n",
    "def compute_class_weights(labels):\n",
    "    # Calculate class weights to correct for class imbalance\n",
    "    weights = class_weight.compute_class_weight('balanced', classes=np.unique(labels), y=labels)\n",
    "    label_weights = dict(enumerate(weights))\n",
    "\n",
    "    return label_weights\n",
    "\n",
    "CLASS_WEIGHTS = compute_class_weights(y_train_one_hot.numpy().argmax(axis=1))\n",
    "print(CLASS_WEIGHTS)\n",
    "\n",
    "# Calculate delta based on the number of training examples\n",
    "n_examples = len(x_train[0])  # Number of training examples\n",
    "DELTA = min(1e-5, 1.0 / (10 * n_examples))"
   ],
   "id": "fac7f6f4fe19bf84",
   "outputs": [
    {
     "name": "stdout",
     "output_type": "stream",
     "text": [
      "{0: 3.0, 1: 3.4285714285714284, 2: 1.6, 3: 0.9230769230769231, 4: 0.375}\n"
     ]
    }
   ],
   "execution_count": 6
  },
  {
   "metadata": {
    "ExecuteTime": {
     "end_time": "2025-03-30T21:55:39.167678Z",
     "start_time": "2025-03-30T21:55:39.165256Z"
    }
   },
   "cell_type": "code",
   "source": [
    "# Create bert encoder function\n",
    "def bert_encode(texts, tokenizer, max_len=MAX_LENGTH, min_word_freq=1):\n",
    "    # Convert texts to strings\n",
    "    texts_str = [str(text) for text in texts]\n",
    "\n",
    "    # Count word frequencies\n",
    "    word_freq = {}\n",
    "    for text in texts_str:\n",
    "        for word in text.split():\n",
    "            word_freq[word] = word_freq.get(word, 0) + 1\n",
    "\n",
    "    # Filter rare words\n",
    "    filtered_texts = []\n",
    "    for text in texts_str:\n",
    "        words = text.split()\n",
    "        filtered_words = [word if word_freq[word] >= min_word_freq else '[UNK]' for word in words]\n",
    "        filtered_texts.append(' '.join(filtered_words))\n",
    "\n",
    "    # Tokenize filtered texts\n",
    "    tokenized = tokenizer(filtered_texts,\n",
    "                         max_length=max_len,\n",
    "                         truncation=True,\n",
    "                         padding='max_length',\n",
    "                         return_tensors='tf')\n",
    "\n",
    "    return tokenized\n",
    "\n",
    "# select tokenizer\n",
    "def select_tokenizer(pretrained):\n",
    "    tokenizers = {\n",
    "        'bert-base-cased': BertTokenizer.from_pretrained(pretrained),\n",
    "        'bert-base-uncased': BertTokenizer.from_pretrained(pretrained),\n",
    "        'nlptown/bert-base-multilingual-uncased-sentiment': BertTokenizer.from_pretrained(pretrained)\n",
    "    }\n",
    "    tokenizer = tokenizers[pretrained]\n",
    "    return tokenizer"
   ],
   "id": "76a6ea9c8d50ce8e",
   "outputs": [],
   "execution_count": 7
  },
  {
   "metadata": {
    "ExecuteTime": {
     "end_time": "2025-03-30T21:55:41.646229Z",
     "start_time": "2025-03-30T21:55:39.168289Z"
    }
   },
   "cell_type": "code",
   "source": [
    "# Select pretrained\n",
    "model_checkpoint = 'nlptown/bert-base-multilingual-uncased-sentiment'\n",
    "\n",
    "# Load tokenizer\n",
    "bert_tokenizer = select_tokenizer(model_checkpoint)\n",
    "\n",
    "# Tokenize dataset\n",
    "train_encodings = bert_encode(x_train, bert_tokenizer)\n",
    "train_labels = np.array(y_train_one_hot)\n",
    "val_encodings = bert_encode(x_val, bert_tokenizer)\n",
    "val_labels = np.array(y_val_one_hot)\n",
    "test_encodings = bert_encode(x_test, bert_tokenizer)\n",
    "test_labels = np.array(y_test_one_hot)\n"
   ],
   "id": "d2b0e213f32a1e04",
   "outputs": [],
   "execution_count": 8
  },
  {
   "metadata": {},
   "cell_type": "markdown",
   "source": "## Model with Differential Privacy Integration",
   "id": "7f738bcdec6657cd"
  },
  {
   "metadata": {
    "ExecuteTime": {
     "end_time": "2025-03-30T21:55:44.311181Z",
     "start_time": "2025-03-30T21:55:41.647047Z"
    }
   },
   "cell_type": "code",
   "source": [
    "def build_dp_model(bert_base,\n",
    "                trainable=True,\n",
    "                max_length=MAX_LENGTH,\n",
    "                num_classes=5,\n",
    "                hidden_size=256,\n",
    "                dropout=0.3,\n",
    "                learning_rate=0.00005,\n",
    "                epsilon=None,\n",
    "                delta=DELTA): \n",
    "\n",
    "    bert_model = TFBertModel.from_pretrained(bert_base)\n",
    "    bert_model.bert.embeddings.trainable = False\n",
    "    bert_model.trainable = trainable\n",
    "\n",
    "    input_ids = tf.keras.Input(shape=(max_length,), dtype=tf.int32, name='input_ids_layer')\n",
    "    token_type_ids = tf.keras.Input(shape=(max_length,), dtype=tf.int32, name='token_type_ids_layer')\n",
    "    attention_mask = tf.keras.Input(shape=(max_length,), dtype=tf.int32, name='attention_mask_layer')\n",
    "\n",
    "    bert_inputs = {'input_ids': input_ids,\n",
    "                   'token_type_ids': token_type_ids,\n",
    "                   'attention_mask': attention_mask}\n",
    "\n",
    "    bert_output = bert_model(bert_inputs)\n",
    "    pooler_output = bert_output[1]\n",
    "    hidden = tf.keras.layers.Dense(hidden_size, activation='relu', name='hidden_layer')(pooler_output)\n",
    "    dropout_layer = tf.keras.layers.Dropout(dropout)(hidden)\n",
    "    class_output = tf.keras.layers.Dense(num_classes, activation='softmax', name=\"classification_layer\")(dropout_layer)\n",
    "\n",
    "    model = tf.keras.Model(inputs=[input_ids, token_type_ids, attention_mask], outputs=class_output)\n",
    "\n",
    "    if epsilon is not None:\n",
    "        # Calculate noise multiplier, σ = sqrt(2*log(1.25/δ))/ε\n",
    "        noise_multiplier = math.sqrt(2 * math.log(1.25/delta)) / epsilon\n",
    "        \n",
    "        l2_norm_clip = 1.0\n",
    "        \n",
    "        optimizer = dp_optimizer_keras.DPKerasAdamOptimizer(\n",
    "            l2_norm_clip=l2_norm_clip,\n",
    "            noise_multiplier=noise_multiplier,\n",
    "            num_microbatches=1,\n",
    "            learning_rate=learning_rate\n",
    "        )\n",
    "        \n",
    "        print(f\"DP enabled with epsilon={epsilon}, noise multiplier={noise_multiplier}\")\n",
    "    else:\n",
    "        # Standard optimizer (no privacy)\n",
    "        optimizer = Adam(learning_rate=learning_rate, clipnorm=1.0) \n",
    "        print(\"No privacy protection applied\")\n",
    "    \n",
    "    # Compile the model once with the chosen optimizer\n",
    "    model.compile(\n",
    "        optimizer=optimizer,\n",
    "        loss='categorical_crossentropy',\n",
    "        metrics=['accuracy', tf.keras.metrics.Precision(), tf.keras.metrics.Recall()]\n",
    "    )\n",
    "    \n",
    "    return model\n",
    "\n",
    "# Obtain instance of pretrained model\n",
    "dp_model = build_dp_model(model_checkpoint)\n",
    "dp_model.summary()"
   ],
   "id": "348bc13154fe2511",
   "outputs": [
    {
     "name": "stderr",
     "output_type": "stream",
     "text": [
      "Some layers from the model checkpoint at nlptown/bert-base-multilingual-uncased-sentiment were not used when initializing TFBertModel: ['dropout_37', 'classifier']\n",
      "- This IS expected if you are initializing TFBertModel from the checkpoint of a model trained on another task or with another architecture (e.g. initializing a BertForSequenceClassification model from a BertForPreTraining model).\n",
      "- This IS NOT expected if you are initializing TFBertModel from the checkpoint of a model that you expect to be exactly identical (initializing a BertForSequenceClassification model from a BertForSequenceClassification model).\n",
      "All the layers of TFBertModel were initialized from the model checkpoint at nlptown/bert-base-multilingual-uncased-sentiment.\n",
      "If your task is similar to the task the model of the checkpoint was trained on, you can already use TFBertModel for predictions without further training.\n",
      "WARNING:absl:At this time, the v2.11+ optimizer `tf.keras.optimizers.Adam` runs slowly on M1/M2 Macs, please use the legacy Keras optimizer instead, located at `tf.keras.optimizers.legacy.Adam`.\n"
     ]
    },
    {
     "name": "stdout",
     "output_type": "stream",
     "text": [
      "No privacy protection applied\n",
      "Model: \"model\"\n",
      "__________________________________________________________________________________________________\n",
      " Layer (type)                Output Shape                 Param #   Connected to                  \n",
      "==================================================================================================\n",
      " attention_mask_layer (Inpu  [(None, 512)]                0         []                            \n",
      " tLayer)                                                                                          \n",
      "                                                                                                  \n",
      " input_ids_layer (InputLaye  [(None, 512)]                0         []                            \n",
      " r)                                                                                               \n",
      "                                                                                                  \n",
      " token_type_ids_layer (Inpu  [(None, 512)]                0         []                            \n",
      " tLayer)                                                                                          \n",
      "                                                                                                  \n",
      " tf_bert_model (TFBertModel  TFBaseModelOutputWithPooli   1673564   ['attention_mask_layer[0][0]',\n",
      " )                           ngAndCrossAttentions(last_   16         'input_ids_layer[0][0]',     \n",
      "                             hidden_state=(None, 512, 7              'token_type_ids_layer[0][0]']\n",
      "                             68),                                                                 \n",
      "                              pooler_output=(None, 768)                                           \n",
      "                             , past_key_values=None, hi                                           \n",
      "                             dden_states=None, attentio                                           \n",
      "                             ns=None, cross_attentions=                                           \n",
      "                             None)                                                                \n",
      "                                                                                                  \n",
      " hidden_layer (Dense)        (None, 256)                  196864    ['tf_bert_model[0][1]']       \n",
      "                                                                                                  \n",
      " dropout_37 (Dropout)        (None, 256)                  0         ['hidden_layer[0][0]']        \n",
      "                                                                                                  \n",
      " classification_layer (Dens  (None, 5)                    1285      ['dropout_37[0][0]']          \n",
      " e)                                                                                               \n",
      "                                                                                                  \n",
      "==================================================================================================\n",
      "Total params: 167554565 (639.17 MB)\n",
      "Trainable params: 167554565 (639.17 MB)\n",
      "Non-trainable params: 0 (0.00 Byte)\n",
      "__________________________________________________________________________________________________\n"
     ]
    }
   ],
   "execution_count": 9
  },
  {
   "metadata": {},
   "cell_type": "markdown",
   "source": "## Experiments\n",
   "id": "37e7dc1b5df2a1d5"
  },
  {
   "metadata": {
    "ExecuteTime": {
     "end_time": "2025-03-30T21:55:44.318541Z",
     "start_time": "2025-03-30T21:55:44.312930Z"
    }
   },
   "cell_type": "code",
   "source": [
    "# Run experiments with different privacy budgets\n",
    "def run_dp_experiments(x_train, y_train, x_val, y_val, x_test, y_test, epsilons=[None]):\n",
    "    results = []\n",
    "    train_inputs = [x_train.input_ids, x_train.token_type_ids, x_train.attention_mask]\n",
    "    val_inputs = [x_val.input_ids, x_val.token_type_ids, x_val.attention_mask]\n",
    "    test_inputs = [x_test.input_ids, x_test.token_type_ids, x_test.attention_mask]\n",
    "    \n",
    "    for epsilon in epsilons:\n",
    "        print(f\"\\n{'=' * 50}\")\n",
    "        print(f\"Training with epsilon = {epsilon if epsilon is not None else 'No DP'}\")\n",
    "        print(f\"{'=' * 50}\")\n",
    "        \n",
    "        # Build model with specified privacy budget\n",
    "        model = build_dp_model('nlptown/bert-base-multilingual-uncased-sentiment', epsilon=epsilon)\n",
    "        \n",
    "        # Train model\n",
    "        history = model.fit(\n",
    "            train_inputs, \n",
    "            y_train,\n",
    "            validation_data=(val_inputs, y_val),\n",
    "            batch_size=BATCH_SIZE,\n",
    "            epochs=EPOCHS,\n",
    "            class_weight=CLASS_WEIGHTS,\n",
    "            verbose=1\n",
    "        )\n",
    "        \n",
    "        # Evaluate on test set\n",
    "        test_loss, test_acc, test_precision, test_recall = model.evaluate(test_inputs, y_test, verbose=0)\n",
    "        \n",
    "        # Get predictions and calculate F1 score\n",
    "        y_pred = np.argmax(model.predict(test_inputs), axis=1)\n",
    "        y_true = np.argmax(y_test, axis=1)\n",
    "        f1 = f1_score(y_true, y_pred, average='weighted')\n",
    "        \n",
    "        # Store results\n",
    "        results.append({\n",
    "            'epsilon': epsilon,\n",
    "            'accuracy': test_acc,\n",
    "            'precision': test_precision,\n",
    "            'recall': test_recall,\n",
    "            'f1_score': f1,\n",
    "            'val_accuracy': max(history.history['val_accuracy']),\n",
    "            'training_history': history.history\n",
    "        })\n",
    "        \n",
    "        print(f\"Test results for epsilon={epsilon if epsilon is not None else 'No DP'}:\")\n",
    "        print(f\"Accuracy: {test_acc:.4f}\")\n",
    "        print(f\"Precision: {test_precision:.4f}\")\n",
    "        print(f\"Recall: {test_recall:.4f}\")\n",
    "        print(f\"F1 Score: {f1:.4f}\")\n",
    "        \n",
    "    return results\n",
    "\n",
    "# Plot results to visualize privacy-utility tradeoff\n",
    "def plot_privacy_utility_tradeoff(results):\n",
    "    # Convert None to \"No DP\" for plotting\n",
    "    epsilon_labels = [\"No DP\" if r['epsilon'] is None else str(r['epsilon']) for r in results]\n",
    "    accuracies = [r['accuracy'] for r in results]\n",
    "    f1_scores = [r['f1_score'] for r in results]\n",
    "    \n",
    "    plt.figure(figsize=(12, 8))\n",
    "    \n",
    "    # Plot privacy-utility tradeoff\n",
    "    plt.subplot(2, 1, 1)\n",
    "    plt.plot(epsilon_labels, accuracies, 'o-', label='Accuracy')\n",
    "    plt.plot(epsilon_labels, f1_scores, 'd-', label='F1 Score')\n",
    "    plt.title('Privacy-Utility Tradeoff')\n",
    "    plt.xlabel('Privacy Budget (ε)')\n",
    "    plt.ylabel('Performance Metric')\n",
    "    plt.grid(True)\n",
    "    plt.legend()\n",
    "    \n",
    "    # Plot training curves for each epsilon\n",
    "    plt.subplot(2, 1, 2)\n",
    "    for i, r in enumerate(results):\n",
    "        if 'training_history' in r and 'val_accuracy' in r['training_history']:\n",
    "            val_acc = r['training_history']['val_accuracy']\n",
    "            # Ensure val_acc is a list and contains valid values to plot\n",
    "            if isinstance(val_acc, list) and len(val_acc) > 0:\n",
    "                # Get x values (epochs)\n",
    "                epochs = list(range(1, len(val_acc) + 1))\n",
    "                label = f\"ε={r['epsilon']}\" if r['epsilon'] is not None else \"No DP\"\n",
    "                plt.plot(epochs, val_acc, marker='o', label=label)\n",
    "    \n",
    "    plt.title('Validation Accuracy During Training')\n",
    "    plt.xlabel('Epoch')\n",
    "    plt.ylabel('Validation Accuracy')\n",
    "    plt.xticks(np.arange(1, 4))  # Assuming 3 epochs\n",
    "    plt.ylim(0, 1.0)  # Accuracy is between 0 and 1\n",
    "    plt.grid(True)\n",
    "    plt.legend()\n",
    "    \n",
    "    plt.tight_layout()\n",
    "    plt.savefig('privacy_utility_tradeoff.png', dpi=300)\n",
    "    plt.show()\n",
    "    \n",
    "    # Create a summary table of performance metrics\n",
    "    results_df = pd.DataFrame({\n",
    "        'Epsilon': epsilon_labels,\n",
    "        'Accuracy': [r['accuracy'] for r in results],\n",
    "        'F1 Score': [r['f1_score'] for r in results]\n",
    "    })\n",
    "    \n",
    "    return results_df\n"
   ],
   "id": "fe9bef310fc53e85",
   "outputs": [],
   "execution_count": 10
  },
  {
   "metadata": {
    "ExecuteTime": {
     "end_time": "2025-03-30T22:16:20.297764Z",
     "start_time": "2025-03-30T21:55:44.319027Z"
    }
   },
   "cell_type": "code",
   "source": [
    "#Set privacy budgets to test\n",
    "epsilon_values = [None, 10.0, 5.0, 2.0, 1.0, 0.8, 0.5] \n",
    "\n",
    "# Run the experiments\n",
    "results = run_dp_experiments(train_encodings, train_labels, val_encodings, val_labels, test_encodings, test_labels, epsilons=epsilon_values)\n"
   ],
   "id": "f21092715eae9c03",
   "outputs": [
    {
     "name": "stdout",
     "output_type": "stream",
     "text": [
      "\n",
      "==================================================\n",
      "Training with epsilon = No DP\n",
      "==================================================\n"
     ]
    },
    {
     "name": "stderr",
     "output_type": "stream",
     "text": [
      "Some layers from the model checkpoint at nlptown/bert-base-multilingual-uncased-sentiment were not used when initializing TFBertModel: ['dropout_37', 'classifier']\n",
      "- This IS expected if you are initializing TFBertModel from the checkpoint of a model trained on another task or with another architecture (e.g. initializing a BertForSequenceClassification model from a BertForPreTraining model).\n",
      "- This IS NOT expected if you are initializing TFBertModel from the checkpoint of a model that you expect to be exactly identical (initializing a BertForSequenceClassification model from a BertForSequenceClassification model).\n",
      "All the layers of TFBertModel were initialized from the model checkpoint at nlptown/bert-base-multilingual-uncased-sentiment.\n",
      "If your task is similar to the task the model of the checkpoint was trained on, you can already use TFBertModel for predictions without further training.\n",
      "WARNING:absl:At this time, the v2.11+ optimizer `tf.keras.optimizers.Adam` runs slowly on M1/M2 Macs, please use the legacy Keras optimizer instead, located at `tf.keras.optimizers.legacy.Adam`.\n"
     ]
    },
    {
     "name": "stdout",
     "output_type": "stream",
     "text": [
      "No privacy protection applied\n",
      "Epoch 1/3\n"
     ]
    },
    {
     "name": "stderr",
     "output_type": "stream",
     "text": [
      "2025-03-30 14:55:51.841020: I tensorflow/core/grappler/optimizers/custom_graph_optimizer_registry.cc:117] Plugin optimizer for device_type GPU is enabled.\n",
      "2025-03-30 14:55:52.660664: E tensorflow/core/grappler/optimizers/meta_optimizer.cc:961] model_pruner failed: INVALID_ARGUMENT: Graph does not contain terminal node Adam/AssignAddVariableOp_10.\n"
     ]
    },
    {
     "name": "stdout",
     "output_type": "stream",
     "text": [
      "4/4 [==============================] - 53s 10s/step - loss: 1.6773 - accuracy: 0.2250 - precision_1: 0.2857 - recall_1: 0.0333 - val_loss: 0.9495 - val_accuracy: 0.6600 - val_precision_1: 0.9286 - val_recall_1: 0.1300\n",
      "Epoch 2/3\n",
      "4/4 [==============================] - 32s 8s/step - loss: 1.1811 - accuracy: 0.6000 - precision_1: 0.7424 - recall_1: 0.4083 - val_loss: 1.0654 - val_accuracy: 0.4500 - val_precision_1: 0.7179 - val_recall_1: 0.2800\n",
      "Epoch 3/3\n",
      "4/4 [==============================] - 35s 9s/step - loss: 0.9335 - accuracy: 0.4417 - precision_1: 0.5172 - recall_1: 0.2500 - val_loss: 0.7009 - val_accuracy: 0.7500 - val_precision_1: 0.7976 - val_recall_1: 0.6700\n",
      "4/4 [==============================] - 7s 942ms/step\n",
      "Test results for epsilon=No DP:\n",
      "Accuracy: 0.6900\n",
      "Precision: 0.7917\n",
      "Recall: 0.5700\n",
      "F1 Score: 0.6901\n",
      "\n",
      "==================================================\n",
      "Training with epsilon = 10.0\n",
      "==================================================\n"
     ]
    },
    {
     "name": "stderr",
     "output_type": "stream",
     "text": [
      "Some layers from the model checkpoint at nlptown/bert-base-multilingual-uncased-sentiment were not used when initializing TFBertModel: ['dropout_37', 'classifier']\n",
      "- This IS expected if you are initializing TFBertModel from the checkpoint of a model trained on another task or with another architecture (e.g. initializing a BertForSequenceClassification model from a BertForPreTraining model).\n",
      "- This IS NOT expected if you are initializing TFBertModel from the checkpoint of a model that you expect to be exactly identical (initializing a BertForSequenceClassification model from a BertForSequenceClassification model).\n",
      "All the layers of TFBertModel were initialized from the model checkpoint at nlptown/bert-base-multilingual-uncased-sentiment.\n",
      "If your task is similar to the task the model of the checkpoint was trained on, you can already use TFBertModel for predictions without further training.\n"
     ]
    },
    {
     "name": "stdout",
     "output_type": "stream",
     "text": [
      "DP enabled with epsilon=10.0, noise multiplier=0.4844805262605389\n",
      "Epoch 1/3\n",
      "WARNING:tensorflow:Converting IndexedSlices(indices=Tensor(\"gradient_tape/model_2/tf_bert_model_2/bert/embeddings/Gather/Reshape_1:0\", shape=(None,), dtype=int32), values=Tensor(\"gradient_tape/model_2/tf_bert_model_2/bert/embeddings/Gather/Reshape:0\", shape=(None, 768), dtype=float32), dense_shape=Tensor(\"gradient_tape/model_2/tf_bert_model_2/bert/embeddings/Gather/Const:0\", shape=(2,), dtype=int32)) to a dense representation may make it slow. Alternatively, output the indices and values of the IndexedSlices separately, and handle the vectorized outputs directly.\n"
     ]
    },
    {
     "name": "stderr",
     "output_type": "stream",
     "text": [
      "WARNING:tensorflow:Converting IndexedSlices(indices=Tensor(\"gradient_tape/model_2/tf_bert_model_2/bert/embeddings/Gather/Reshape_1:0\", shape=(None,), dtype=int32), values=Tensor(\"gradient_tape/model_2/tf_bert_model_2/bert/embeddings/Gather/Reshape:0\", shape=(None, 768), dtype=float32), dense_shape=Tensor(\"gradient_tape/model_2/tf_bert_model_2/bert/embeddings/Gather/Const:0\", shape=(2,), dtype=int32)) to a dense representation may make it slow. Alternatively, output the indices and values of the IndexedSlices separately, and handle the vectorized outputs directly.\n"
     ]
    },
    {
     "name": "stdout",
     "output_type": "stream",
     "text": [
      "WARNING:tensorflow:Converting IndexedSlices(indices=Tensor(\"gradient_tape/model_2/tf_bert_model_2/bert/embeddings/Gather_2/Reshape_1:0\", shape=(None,), dtype=int32), values=Tensor(\"gradient_tape/model_2/tf_bert_model_2/bert/embeddings/Gather_2/Reshape:0\", shape=(None, 768), dtype=float32), dense_shape=Tensor(\"gradient_tape/model_2/tf_bert_model_2/bert/embeddings/Gather_2/Const:0\", shape=(2,), dtype=int32)) to a dense representation may make it slow. Alternatively, output the indices and values of the IndexedSlices separately, and handle the vectorized outputs directly.\n"
     ]
    },
    {
     "name": "stderr",
     "output_type": "stream",
     "text": [
      "WARNING:tensorflow:Converting IndexedSlices(indices=Tensor(\"gradient_tape/model_2/tf_bert_model_2/bert/embeddings/Gather_2/Reshape_1:0\", shape=(None,), dtype=int32), values=Tensor(\"gradient_tape/model_2/tf_bert_model_2/bert/embeddings/Gather_2/Reshape:0\", shape=(None, 768), dtype=float32), dense_shape=Tensor(\"gradient_tape/model_2/tf_bert_model_2/bert/embeddings/Gather_2/Const:0\", shape=(2,), dtype=int32)) to a dense representation may make it slow. Alternatively, output the indices and values of the IndexedSlices separately, and handle the vectorized outputs directly.\n"
     ]
    },
    {
     "name": "stdout",
     "output_type": "stream",
     "text": [
      "WARNING:tensorflow:Converting IndexedSlices(indices=Tensor(\"gradient_tape/model_2/tf_bert_model_2/bert/embeddings/Gather_1/Reshape_1:0\", shape=(512,), dtype=int32), values=Tensor(\"gradient_tape/model_2/tf_bert_model_2/bert/embeddings/Gather_1/Reshape:0\", shape=(512, 768), dtype=float32), dense_shape=Tensor(\"gradient_tape/model_2/tf_bert_model_2/bert/embeddings/Gather_1/Const:0\", shape=(2,), dtype=int32)) to a dense representation may make it slow. Alternatively, output the indices and values of the IndexedSlices separately, and handle the vectorized outputs directly.\n"
     ]
    },
    {
     "name": "stderr",
     "output_type": "stream",
     "text": [
      "WARNING:tensorflow:Converting IndexedSlices(indices=Tensor(\"gradient_tape/model_2/tf_bert_model_2/bert/embeddings/Gather_1/Reshape_1:0\", shape=(512,), dtype=int32), values=Tensor(\"gradient_tape/model_2/tf_bert_model_2/bert/embeddings/Gather_1/Reshape:0\", shape=(512, 768), dtype=float32), dense_shape=Tensor(\"gradient_tape/model_2/tf_bert_model_2/bert/embeddings/Gather_1/Const:0\", shape=(2,), dtype=int32)) to a dense representation may make it slow. Alternatively, output the indices and values of the IndexedSlices separately, and handle the vectorized outputs directly.\n"
     ]
    },
    {
     "name": "stdout",
     "output_type": "stream",
     "text": [
      "WARNING:tensorflow:Converting IndexedSlices(indices=Tensor(\"gradient_tape/model_2/tf_bert_model_2/bert/embeddings/Gather/Reshape_1:0\", shape=(None,), dtype=int32), values=Tensor(\"gradient_tape/model_2/tf_bert_model_2/bert/embeddings/Gather/Reshape:0\", shape=(None, 768), dtype=float32), dense_shape=Tensor(\"gradient_tape/model_2/tf_bert_model_2/bert/embeddings/Gather/Const:0\", shape=(2,), dtype=int32)) to a dense representation may make it slow. Alternatively, output the indices and values of the IndexedSlices separately, and handle the vectorized outputs directly.\n"
     ]
    },
    {
     "name": "stderr",
     "output_type": "stream",
     "text": [
      "WARNING:tensorflow:Converting IndexedSlices(indices=Tensor(\"gradient_tape/model_2/tf_bert_model_2/bert/embeddings/Gather/Reshape_1:0\", shape=(None,), dtype=int32), values=Tensor(\"gradient_tape/model_2/tf_bert_model_2/bert/embeddings/Gather/Reshape:0\", shape=(None, 768), dtype=float32), dense_shape=Tensor(\"gradient_tape/model_2/tf_bert_model_2/bert/embeddings/Gather/Const:0\", shape=(2,), dtype=int32)) to a dense representation may make it slow. Alternatively, output the indices and values of the IndexedSlices separately, and handle the vectorized outputs directly.\n"
     ]
    },
    {
     "name": "stdout",
     "output_type": "stream",
     "text": [
      "WARNING:tensorflow:Converting IndexedSlices(indices=Tensor(\"gradient_tape/model_2/tf_bert_model_2/bert/embeddings/Gather_2/Reshape_1:0\", shape=(None,), dtype=int32), values=Tensor(\"gradient_tape/model_2/tf_bert_model_2/bert/embeddings/Gather_2/Reshape:0\", shape=(None, 768), dtype=float32), dense_shape=Tensor(\"gradient_tape/model_2/tf_bert_model_2/bert/embeddings/Gather_2/Const:0\", shape=(2,), dtype=int32)) to a dense representation may make it slow. Alternatively, output the indices and values of the IndexedSlices separately, and handle the vectorized outputs directly.\n"
     ]
    },
    {
     "name": "stderr",
     "output_type": "stream",
     "text": [
      "WARNING:tensorflow:Converting IndexedSlices(indices=Tensor(\"gradient_tape/model_2/tf_bert_model_2/bert/embeddings/Gather_2/Reshape_1:0\", shape=(None,), dtype=int32), values=Tensor(\"gradient_tape/model_2/tf_bert_model_2/bert/embeddings/Gather_2/Reshape:0\", shape=(None, 768), dtype=float32), dense_shape=Tensor(\"gradient_tape/model_2/tf_bert_model_2/bert/embeddings/Gather_2/Const:0\", shape=(2,), dtype=int32)) to a dense representation may make it slow. Alternatively, output the indices and values of the IndexedSlices separately, and handle the vectorized outputs directly.\n"
     ]
    },
    {
     "name": "stdout",
     "output_type": "stream",
     "text": [
      "WARNING:tensorflow:Converting IndexedSlices(indices=Tensor(\"gradient_tape/model_2/tf_bert_model_2/bert/embeddings/Gather_1/Reshape_1:0\", shape=(512,), dtype=int32), values=Tensor(\"gradient_tape/model_2/tf_bert_model_2/bert/embeddings/Gather_1/Reshape:0\", shape=(512, 768), dtype=float32), dense_shape=Tensor(\"gradient_tape/model_2/tf_bert_model_2/bert/embeddings/Gather_1/Const:0\", shape=(2,), dtype=int32)) to a dense representation may make it slow. Alternatively, output the indices and values of the IndexedSlices separately, and handle the vectorized outputs directly.\n"
     ]
    },
    {
     "name": "stderr",
     "output_type": "stream",
     "text": [
      "WARNING:tensorflow:Converting IndexedSlices(indices=Tensor(\"gradient_tape/model_2/tf_bert_model_2/bert/embeddings/Gather_1/Reshape_1:0\", shape=(512,), dtype=int32), values=Tensor(\"gradient_tape/model_2/tf_bert_model_2/bert/embeddings/Gather_1/Reshape:0\", shape=(512, 768), dtype=float32), dense_shape=Tensor(\"gradient_tape/model_2/tf_bert_model_2/bert/embeddings/Gather_1/Const:0\", shape=(2,), dtype=int32)) to a dense representation may make it slow. Alternatively, output the indices and values of the IndexedSlices separately, and handle the vectorized outputs directly.\n"
     ]
    },
    {
     "name": "stdout",
     "output_type": "stream",
     "text": [
      "4/4 [==============================] - 63s 11s/step - loss: 2.2993 - accuracy: 0.0250 - precision_2: 0.0000e+00 - recall_2: 0.0000e+00 - val_loss: 2.2556 - val_accuracy: 0.0400 - val_precision_2: 0.0000e+00 - val_recall_2: 0.0000e+00\n",
      "Epoch 2/3\n",
      "4/4 [==============================] - 38s 9s/step - loss: 2.1844 - accuracy: 0.0500 - precision_2: 0.0526 - recall_2: 0.0083 - val_loss: 2.2526 - val_accuracy: 0.0400 - val_precision_2: 0.0000e+00 - val_recall_2: 0.0000e+00\n",
      "Epoch 3/3\n",
      "4/4 [==============================] - 38s 8s/step - loss: 2.4115 - accuracy: 0.0333 - precision_2: 0.0000e+00 - recall_2: 0.0000e+00 - val_loss: 2.2499 - val_accuracy: 0.0400 - val_precision_2: 0.0000e+00 - val_recall_2: 0.0000e+00\n",
      "4/4 [==============================] - 10s 2s/step\n",
      "Test results for epsilon=10.0:\n",
      "Accuracy: 0.0500\n",
      "Precision: 0.0000\n",
      "Recall: 0.0000\n",
      "F1 Score: 0.0394\n",
      "\n",
      "==================================================\n",
      "Training with epsilon = 5.0\n",
      "==================================================\n"
     ]
    },
    {
     "name": "stderr",
     "output_type": "stream",
     "text": [
      "Some layers from the model checkpoint at nlptown/bert-base-multilingual-uncased-sentiment were not used when initializing TFBertModel: ['dropout_37', 'classifier']\n",
      "- This IS expected if you are initializing TFBertModel from the checkpoint of a model trained on another task or with another architecture (e.g. initializing a BertForSequenceClassification model from a BertForPreTraining model).\n",
      "- This IS NOT expected if you are initializing TFBertModel from the checkpoint of a model that you expect to be exactly identical (initializing a BertForSequenceClassification model from a BertForSequenceClassification model).\n",
      "All the layers of TFBertModel were initialized from the model checkpoint at nlptown/bert-base-multilingual-uncased-sentiment.\n",
      "If your task is similar to the task the model of the checkpoint was trained on, you can already use TFBertModel for predictions without further training.\n"
     ]
    },
    {
     "name": "stdout",
     "output_type": "stream",
     "text": [
      "DP enabled with epsilon=5.0, noise multiplier=0.9689610525210778\n",
      "Epoch 1/3\n",
      "WARNING:tensorflow:Converting IndexedSlices(indices=Tensor(\"gradient_tape/model_3/tf_bert_model_3/bert/embeddings/Gather/Reshape_1:0\", shape=(None,), dtype=int32), values=Tensor(\"gradient_tape/model_3/tf_bert_model_3/bert/embeddings/Gather/Reshape:0\", shape=(None, 768), dtype=float32), dense_shape=Tensor(\"gradient_tape/model_3/tf_bert_model_3/bert/embeddings/Gather/Const:0\", shape=(2,), dtype=int32)) to a dense representation may make it slow. Alternatively, output the indices and values of the IndexedSlices separately, and handle the vectorized outputs directly.\n"
     ]
    },
    {
     "name": "stderr",
     "output_type": "stream",
     "text": [
      "WARNING:tensorflow:Converting IndexedSlices(indices=Tensor(\"gradient_tape/model_3/tf_bert_model_3/bert/embeddings/Gather/Reshape_1:0\", shape=(None,), dtype=int32), values=Tensor(\"gradient_tape/model_3/tf_bert_model_3/bert/embeddings/Gather/Reshape:0\", shape=(None, 768), dtype=float32), dense_shape=Tensor(\"gradient_tape/model_3/tf_bert_model_3/bert/embeddings/Gather/Const:0\", shape=(2,), dtype=int32)) to a dense representation may make it slow. Alternatively, output the indices and values of the IndexedSlices separately, and handle the vectorized outputs directly.\n"
     ]
    },
    {
     "name": "stdout",
     "output_type": "stream",
     "text": [
      "WARNING:tensorflow:Converting IndexedSlices(indices=Tensor(\"gradient_tape/model_3/tf_bert_model_3/bert/embeddings/Gather_2/Reshape_1:0\", shape=(None,), dtype=int32), values=Tensor(\"gradient_tape/model_3/tf_bert_model_3/bert/embeddings/Gather_2/Reshape:0\", shape=(None, 768), dtype=float32), dense_shape=Tensor(\"gradient_tape/model_3/tf_bert_model_3/bert/embeddings/Gather_2/Const:0\", shape=(2,), dtype=int32)) to a dense representation may make it slow. Alternatively, output the indices and values of the IndexedSlices separately, and handle the vectorized outputs directly.\n"
     ]
    },
    {
     "name": "stderr",
     "output_type": "stream",
     "text": [
      "WARNING:tensorflow:Converting IndexedSlices(indices=Tensor(\"gradient_tape/model_3/tf_bert_model_3/bert/embeddings/Gather_2/Reshape_1:0\", shape=(None,), dtype=int32), values=Tensor(\"gradient_tape/model_3/tf_bert_model_3/bert/embeddings/Gather_2/Reshape:0\", shape=(None, 768), dtype=float32), dense_shape=Tensor(\"gradient_tape/model_3/tf_bert_model_3/bert/embeddings/Gather_2/Const:0\", shape=(2,), dtype=int32)) to a dense representation may make it slow. Alternatively, output the indices and values of the IndexedSlices separately, and handle the vectorized outputs directly.\n"
     ]
    },
    {
     "name": "stdout",
     "output_type": "stream",
     "text": [
      "WARNING:tensorflow:Converting IndexedSlices(indices=Tensor(\"gradient_tape/model_3/tf_bert_model_3/bert/embeddings/Gather_1/Reshape_1:0\", shape=(512,), dtype=int32), values=Tensor(\"gradient_tape/model_3/tf_bert_model_3/bert/embeddings/Gather_1/Reshape:0\", shape=(512, 768), dtype=float32), dense_shape=Tensor(\"gradient_tape/model_3/tf_bert_model_3/bert/embeddings/Gather_1/Const:0\", shape=(2,), dtype=int32)) to a dense representation may make it slow. Alternatively, output the indices and values of the IndexedSlices separately, and handle the vectorized outputs directly.\n"
     ]
    },
    {
     "name": "stderr",
     "output_type": "stream",
     "text": [
      "WARNING:tensorflow:Converting IndexedSlices(indices=Tensor(\"gradient_tape/model_3/tf_bert_model_3/bert/embeddings/Gather_1/Reshape_1:0\", shape=(512,), dtype=int32), values=Tensor(\"gradient_tape/model_3/tf_bert_model_3/bert/embeddings/Gather_1/Reshape:0\", shape=(512, 768), dtype=float32), dense_shape=Tensor(\"gradient_tape/model_3/tf_bert_model_3/bert/embeddings/Gather_1/Const:0\", shape=(2,), dtype=int32)) to a dense representation may make it slow. Alternatively, output the indices and values of the IndexedSlices separately, and handle the vectorized outputs directly.\n"
     ]
    },
    {
     "name": "stdout",
     "output_type": "stream",
     "text": [
      "WARNING:tensorflow:Converting IndexedSlices(indices=Tensor(\"gradient_tape/model_3/tf_bert_model_3/bert/embeddings/Gather/Reshape_1:0\", shape=(None,), dtype=int32), values=Tensor(\"gradient_tape/model_3/tf_bert_model_3/bert/embeddings/Gather/Reshape:0\", shape=(None, 768), dtype=float32), dense_shape=Tensor(\"gradient_tape/model_3/tf_bert_model_3/bert/embeddings/Gather/Const:0\", shape=(2,), dtype=int32)) to a dense representation may make it slow. Alternatively, output the indices and values of the IndexedSlices separately, and handle the vectorized outputs directly.\n"
     ]
    },
    {
     "name": "stderr",
     "output_type": "stream",
     "text": [
      "WARNING:tensorflow:Converting IndexedSlices(indices=Tensor(\"gradient_tape/model_3/tf_bert_model_3/bert/embeddings/Gather/Reshape_1:0\", shape=(None,), dtype=int32), values=Tensor(\"gradient_tape/model_3/tf_bert_model_3/bert/embeddings/Gather/Reshape:0\", shape=(None, 768), dtype=float32), dense_shape=Tensor(\"gradient_tape/model_3/tf_bert_model_3/bert/embeddings/Gather/Const:0\", shape=(2,), dtype=int32)) to a dense representation may make it slow. Alternatively, output the indices and values of the IndexedSlices separately, and handle the vectorized outputs directly.\n"
     ]
    },
    {
     "name": "stdout",
     "output_type": "stream",
     "text": [
      "WARNING:tensorflow:Converting IndexedSlices(indices=Tensor(\"gradient_tape/model_3/tf_bert_model_3/bert/embeddings/Gather_2/Reshape_1:0\", shape=(None,), dtype=int32), values=Tensor(\"gradient_tape/model_3/tf_bert_model_3/bert/embeddings/Gather_2/Reshape:0\", shape=(None, 768), dtype=float32), dense_shape=Tensor(\"gradient_tape/model_3/tf_bert_model_3/bert/embeddings/Gather_2/Const:0\", shape=(2,), dtype=int32)) to a dense representation may make it slow. Alternatively, output the indices and values of the IndexedSlices separately, and handle the vectorized outputs directly.\n"
     ]
    },
    {
     "name": "stderr",
     "output_type": "stream",
     "text": [
      "WARNING:tensorflow:Converting IndexedSlices(indices=Tensor(\"gradient_tape/model_3/tf_bert_model_3/bert/embeddings/Gather_2/Reshape_1:0\", shape=(None,), dtype=int32), values=Tensor(\"gradient_tape/model_3/tf_bert_model_3/bert/embeddings/Gather_2/Reshape:0\", shape=(None, 768), dtype=float32), dense_shape=Tensor(\"gradient_tape/model_3/tf_bert_model_3/bert/embeddings/Gather_2/Const:0\", shape=(2,), dtype=int32)) to a dense representation may make it slow. Alternatively, output the indices and values of the IndexedSlices separately, and handle the vectorized outputs directly.\n"
     ]
    },
    {
     "name": "stdout",
     "output_type": "stream",
     "text": [
      "WARNING:tensorflow:Converting IndexedSlices(indices=Tensor(\"gradient_tape/model_3/tf_bert_model_3/bert/embeddings/Gather_1/Reshape_1:0\", shape=(512,), dtype=int32), values=Tensor(\"gradient_tape/model_3/tf_bert_model_3/bert/embeddings/Gather_1/Reshape:0\", shape=(512, 768), dtype=float32), dense_shape=Tensor(\"gradient_tape/model_3/tf_bert_model_3/bert/embeddings/Gather_1/Const:0\", shape=(2,), dtype=int32)) to a dense representation may make it slow. Alternatively, output the indices and values of the IndexedSlices separately, and handle the vectorized outputs directly.\n"
     ]
    },
    {
     "name": "stderr",
     "output_type": "stream",
     "text": [
      "WARNING:tensorflow:Converting IndexedSlices(indices=Tensor(\"gradient_tape/model_3/tf_bert_model_3/bert/embeddings/Gather_1/Reshape_1:0\", shape=(512,), dtype=int32), values=Tensor(\"gradient_tape/model_3/tf_bert_model_3/bert/embeddings/Gather_1/Reshape:0\", shape=(512, 768), dtype=float32), dense_shape=Tensor(\"gradient_tape/model_3/tf_bert_model_3/bert/embeddings/Gather_1/Const:0\", shape=(2,), dtype=int32)) to a dense representation may make it slow. Alternatively, output the indices and values of the IndexedSlices separately, and handle the vectorized outputs directly.\n"
     ]
    },
    {
     "name": "stdout",
     "output_type": "stream",
     "text": [
      "4/4 [==============================] - 87s 15s/step - loss: 1.6760 - accuracy: 0.4417 - precision_3: 0.5588 - recall_3: 0.1583 - val_loss: 1.3302 - val_accuracy: 0.5200 - val_precision_3: 0.6923 - val_recall_3: 0.2700\n",
      "Epoch 2/3\n",
      "4/4 [==============================] - 53s 13s/step - loss: 1.6370 - accuracy: 0.4750 - precision_3: 0.6098 - recall_3: 0.2083 - val_loss: 1.3310 - val_accuracy: 0.5200 - val_precision_3: 0.6923 - val_recall_3: 0.2700\n",
      "Epoch 3/3\n",
      "4/4 [==============================] - 44s 10s/step - loss: 1.6539 - accuracy: 0.4500 - precision_3: 0.6111 - recall_3: 0.1833 - val_loss: 1.3315 - val_accuracy: 0.5200 - val_precision_3: 0.6923 - val_recall_3: 0.2700\n",
      "4/4 [==============================] - 9s 1s/step\n",
      "Test results for epsilon=5.0:\n",
      "Accuracy: 0.5300\n",
      "Precision: 0.5714\n",
      "Recall: 0.2000\n",
      "F1 Score: 0.4144\n",
      "\n",
      "==================================================\n",
      "Training with epsilon = 2.0\n",
      "==================================================\n"
     ]
    },
    {
     "name": "stderr",
     "output_type": "stream",
     "text": [
      "Some layers from the model checkpoint at nlptown/bert-base-multilingual-uncased-sentiment were not used when initializing TFBertModel: ['dropout_37', 'classifier']\n",
      "- This IS expected if you are initializing TFBertModel from the checkpoint of a model trained on another task or with another architecture (e.g. initializing a BertForSequenceClassification model from a BertForPreTraining model).\n",
      "- This IS NOT expected if you are initializing TFBertModel from the checkpoint of a model that you expect to be exactly identical (initializing a BertForSequenceClassification model from a BertForSequenceClassification model).\n",
      "All the layers of TFBertModel were initialized from the model checkpoint at nlptown/bert-base-multilingual-uncased-sentiment.\n",
      "If your task is similar to the task the model of the checkpoint was trained on, you can already use TFBertModel for predictions without further training.\n"
     ]
    },
    {
     "name": "stdout",
     "output_type": "stream",
     "text": [
      "DP enabled with epsilon=2.0, noise multiplier=2.4224026313026945\n",
      "Epoch 1/3\n",
      "WARNING:tensorflow:Converting IndexedSlices(indices=Tensor(\"gradient_tape/model_4/tf_bert_model_4/bert/embeddings/Gather/Reshape_1:0\", shape=(None,), dtype=int32), values=Tensor(\"gradient_tape/model_4/tf_bert_model_4/bert/embeddings/Gather/Reshape:0\", shape=(None, 768), dtype=float32), dense_shape=Tensor(\"gradient_tape/model_4/tf_bert_model_4/bert/embeddings/Gather/Const:0\", shape=(2,), dtype=int32)) to a dense representation may make it slow. Alternatively, output the indices and values of the IndexedSlices separately, and handle the vectorized outputs directly.\n"
     ]
    },
    {
     "name": "stderr",
     "output_type": "stream",
     "text": [
      "WARNING:tensorflow:Converting IndexedSlices(indices=Tensor(\"gradient_tape/model_4/tf_bert_model_4/bert/embeddings/Gather/Reshape_1:0\", shape=(None,), dtype=int32), values=Tensor(\"gradient_tape/model_4/tf_bert_model_4/bert/embeddings/Gather/Reshape:0\", shape=(None, 768), dtype=float32), dense_shape=Tensor(\"gradient_tape/model_4/tf_bert_model_4/bert/embeddings/Gather/Const:0\", shape=(2,), dtype=int32)) to a dense representation may make it slow. Alternatively, output the indices and values of the IndexedSlices separately, and handle the vectorized outputs directly.\n"
     ]
    },
    {
     "name": "stdout",
     "output_type": "stream",
     "text": [
      "WARNING:tensorflow:Converting IndexedSlices(indices=Tensor(\"gradient_tape/model_4/tf_bert_model_4/bert/embeddings/Gather_2/Reshape_1:0\", shape=(None,), dtype=int32), values=Tensor(\"gradient_tape/model_4/tf_bert_model_4/bert/embeddings/Gather_2/Reshape:0\", shape=(None, 768), dtype=float32), dense_shape=Tensor(\"gradient_tape/model_4/tf_bert_model_4/bert/embeddings/Gather_2/Const:0\", shape=(2,), dtype=int32)) to a dense representation may make it slow. Alternatively, output the indices and values of the IndexedSlices separately, and handle the vectorized outputs directly.\n"
     ]
    },
    {
     "name": "stderr",
     "output_type": "stream",
     "text": [
      "WARNING:tensorflow:Converting IndexedSlices(indices=Tensor(\"gradient_tape/model_4/tf_bert_model_4/bert/embeddings/Gather_2/Reshape_1:0\", shape=(None,), dtype=int32), values=Tensor(\"gradient_tape/model_4/tf_bert_model_4/bert/embeddings/Gather_2/Reshape:0\", shape=(None, 768), dtype=float32), dense_shape=Tensor(\"gradient_tape/model_4/tf_bert_model_4/bert/embeddings/Gather_2/Const:0\", shape=(2,), dtype=int32)) to a dense representation may make it slow. Alternatively, output the indices and values of the IndexedSlices separately, and handle the vectorized outputs directly.\n"
     ]
    },
    {
     "name": "stdout",
     "output_type": "stream",
     "text": [
      "WARNING:tensorflow:Converting IndexedSlices(indices=Tensor(\"gradient_tape/model_4/tf_bert_model_4/bert/embeddings/Gather_1/Reshape_1:0\", shape=(512,), dtype=int32), values=Tensor(\"gradient_tape/model_4/tf_bert_model_4/bert/embeddings/Gather_1/Reshape:0\", shape=(512, 768), dtype=float32), dense_shape=Tensor(\"gradient_tape/model_4/tf_bert_model_4/bert/embeddings/Gather_1/Const:0\", shape=(2,), dtype=int32)) to a dense representation may make it slow. Alternatively, output the indices and values of the IndexedSlices separately, and handle the vectorized outputs directly.\n"
     ]
    },
    {
     "name": "stderr",
     "output_type": "stream",
     "text": [
      "WARNING:tensorflow:Converting IndexedSlices(indices=Tensor(\"gradient_tape/model_4/tf_bert_model_4/bert/embeddings/Gather_1/Reshape_1:0\", shape=(512,), dtype=int32), values=Tensor(\"gradient_tape/model_4/tf_bert_model_4/bert/embeddings/Gather_1/Reshape:0\", shape=(512, 768), dtype=float32), dense_shape=Tensor(\"gradient_tape/model_4/tf_bert_model_4/bert/embeddings/Gather_1/Const:0\", shape=(2,), dtype=int32)) to a dense representation may make it slow. Alternatively, output the indices and values of the IndexedSlices separately, and handle the vectorized outputs directly.\n"
     ]
    },
    {
     "name": "stdout",
     "output_type": "stream",
     "text": [
      "WARNING:tensorflow:Converting IndexedSlices(indices=Tensor(\"gradient_tape/model_4/tf_bert_model_4/bert/embeddings/Gather/Reshape_1:0\", shape=(None,), dtype=int32), values=Tensor(\"gradient_tape/model_4/tf_bert_model_4/bert/embeddings/Gather/Reshape:0\", shape=(None, 768), dtype=float32), dense_shape=Tensor(\"gradient_tape/model_4/tf_bert_model_4/bert/embeddings/Gather/Const:0\", shape=(2,), dtype=int32)) to a dense representation may make it slow. Alternatively, output the indices and values of the IndexedSlices separately, and handle the vectorized outputs directly.\n"
     ]
    },
    {
     "name": "stderr",
     "output_type": "stream",
     "text": [
      "WARNING:tensorflow:Converting IndexedSlices(indices=Tensor(\"gradient_tape/model_4/tf_bert_model_4/bert/embeddings/Gather/Reshape_1:0\", shape=(None,), dtype=int32), values=Tensor(\"gradient_tape/model_4/tf_bert_model_4/bert/embeddings/Gather/Reshape:0\", shape=(None, 768), dtype=float32), dense_shape=Tensor(\"gradient_tape/model_4/tf_bert_model_4/bert/embeddings/Gather/Const:0\", shape=(2,), dtype=int32)) to a dense representation may make it slow. Alternatively, output the indices and values of the IndexedSlices separately, and handle the vectorized outputs directly.\n"
     ]
    },
    {
     "name": "stdout",
     "output_type": "stream",
     "text": [
      "WARNING:tensorflow:Converting IndexedSlices(indices=Tensor(\"gradient_tape/model_4/tf_bert_model_4/bert/embeddings/Gather_2/Reshape_1:0\", shape=(None,), dtype=int32), values=Tensor(\"gradient_tape/model_4/tf_bert_model_4/bert/embeddings/Gather_2/Reshape:0\", shape=(None, 768), dtype=float32), dense_shape=Tensor(\"gradient_tape/model_4/tf_bert_model_4/bert/embeddings/Gather_2/Const:0\", shape=(2,), dtype=int32)) to a dense representation may make it slow. Alternatively, output the indices and values of the IndexedSlices separately, and handle the vectorized outputs directly.\n"
     ]
    },
    {
     "name": "stderr",
     "output_type": "stream",
     "text": [
      "WARNING:tensorflow:Converting IndexedSlices(indices=Tensor(\"gradient_tape/model_4/tf_bert_model_4/bert/embeddings/Gather_2/Reshape_1:0\", shape=(None,), dtype=int32), values=Tensor(\"gradient_tape/model_4/tf_bert_model_4/bert/embeddings/Gather_2/Reshape:0\", shape=(None, 768), dtype=float32), dense_shape=Tensor(\"gradient_tape/model_4/tf_bert_model_4/bert/embeddings/Gather_2/Const:0\", shape=(2,), dtype=int32)) to a dense representation may make it slow. Alternatively, output the indices and values of the IndexedSlices separately, and handle the vectorized outputs directly.\n"
     ]
    },
    {
     "name": "stdout",
     "output_type": "stream",
     "text": [
      "WARNING:tensorflow:Converting IndexedSlices(indices=Tensor(\"gradient_tape/model_4/tf_bert_model_4/bert/embeddings/Gather_1/Reshape_1:0\", shape=(512,), dtype=int32), values=Tensor(\"gradient_tape/model_4/tf_bert_model_4/bert/embeddings/Gather_1/Reshape:0\", shape=(512, 768), dtype=float32), dense_shape=Tensor(\"gradient_tape/model_4/tf_bert_model_4/bert/embeddings/Gather_1/Const:0\", shape=(2,), dtype=int32)) to a dense representation may make it slow. Alternatively, output the indices and values of the IndexedSlices separately, and handle the vectorized outputs directly.\n"
     ]
    },
    {
     "name": "stderr",
     "output_type": "stream",
     "text": [
      "WARNING:tensorflow:Converting IndexedSlices(indices=Tensor(\"gradient_tape/model_4/tf_bert_model_4/bert/embeddings/Gather_1/Reshape_1:0\", shape=(512,), dtype=int32), values=Tensor(\"gradient_tape/model_4/tf_bert_model_4/bert/embeddings/Gather_1/Reshape:0\", shape=(512, 768), dtype=float32), dense_shape=Tensor(\"gradient_tape/model_4/tf_bert_model_4/bert/embeddings/Gather_1/Const:0\", shape=(2,), dtype=int32)) to a dense representation may make it slow. Alternatively, output the indices and values of the IndexedSlices separately, and handle the vectorized outputs directly.\n"
     ]
    },
    {
     "name": "stdout",
     "output_type": "stream",
     "text": [
      "4/4 [==============================] - 76s 14s/step - loss: 1.6154 - accuracy: 0.3000 - precision_4: 0.4000 - recall_4: 0.0333 - val_loss: 1.4257 - val_accuracy: 0.3100 - val_precision_4: 0.6667 - val_recall_4: 0.0400\n",
      "Epoch 2/3\n",
      "4/4 [==============================] - 36s 8s/step - loss: 1.6692 - accuracy: 0.2417 - precision_4: 0.3750 - recall_4: 0.0500 - val_loss: 1.4250 - val_accuracy: 0.3300 - val_precision_4: 0.6667 - val_recall_4: 0.0400\n",
      "Epoch 3/3\n",
      "4/4 [==============================] - 33s 8s/step - loss: 1.6586 - accuracy: 0.2833 - precision_4: 0.3500 - recall_4: 0.0583 - val_loss: 1.4246 - val_accuracy: 0.3300 - val_precision_4: 0.6667 - val_recall_4: 0.0400\n",
      "4/4 [==============================] - 9s 1s/step\n",
      "Test results for epsilon=2.0:\n",
      "Accuracy: 0.2800\n",
      "Precision: 0.2000\n",
      "Recall: 0.0100\n",
      "F1 Score: 0.2952\n",
      "\n",
      "==================================================\n",
      "Training with epsilon = 1.0\n",
      "==================================================\n"
     ]
    },
    {
     "name": "stderr",
     "output_type": "stream",
     "text": [
      "Some layers from the model checkpoint at nlptown/bert-base-multilingual-uncased-sentiment were not used when initializing TFBertModel: ['dropout_37', 'classifier']\n",
      "- This IS expected if you are initializing TFBertModel from the checkpoint of a model trained on another task or with another architecture (e.g. initializing a BertForSequenceClassification model from a BertForPreTraining model).\n",
      "- This IS NOT expected if you are initializing TFBertModel from the checkpoint of a model that you expect to be exactly identical (initializing a BertForSequenceClassification model from a BertForSequenceClassification model).\n",
      "All the layers of TFBertModel were initialized from the model checkpoint at nlptown/bert-base-multilingual-uncased-sentiment.\n",
      "If your task is similar to the task the model of the checkpoint was trained on, you can already use TFBertModel for predictions without further training.\n"
     ]
    },
    {
     "name": "stdout",
     "output_type": "stream",
     "text": [
      "DP enabled with epsilon=1.0, noise multiplier=4.844805262605389\n",
      "Epoch 1/3\n",
      "WARNING:tensorflow:Converting IndexedSlices(indices=Tensor(\"gradient_tape/model_5/tf_bert_model_5/bert/embeddings/Gather/Reshape_1:0\", shape=(None,), dtype=int32), values=Tensor(\"gradient_tape/model_5/tf_bert_model_5/bert/embeddings/Gather/Reshape:0\", shape=(None, 768), dtype=float32), dense_shape=Tensor(\"gradient_tape/model_5/tf_bert_model_5/bert/embeddings/Gather/Const:0\", shape=(2,), dtype=int32)) to a dense representation may make it slow. Alternatively, output the indices and values of the IndexedSlices separately, and handle the vectorized outputs directly.\n"
     ]
    },
    {
     "name": "stderr",
     "output_type": "stream",
     "text": [
      "WARNING:tensorflow:Converting IndexedSlices(indices=Tensor(\"gradient_tape/model_5/tf_bert_model_5/bert/embeddings/Gather/Reshape_1:0\", shape=(None,), dtype=int32), values=Tensor(\"gradient_tape/model_5/tf_bert_model_5/bert/embeddings/Gather/Reshape:0\", shape=(None, 768), dtype=float32), dense_shape=Tensor(\"gradient_tape/model_5/tf_bert_model_5/bert/embeddings/Gather/Const:0\", shape=(2,), dtype=int32)) to a dense representation may make it slow. Alternatively, output the indices and values of the IndexedSlices separately, and handle the vectorized outputs directly.\n"
     ]
    },
    {
     "name": "stdout",
     "output_type": "stream",
     "text": [
      "WARNING:tensorflow:Converting IndexedSlices(indices=Tensor(\"gradient_tape/model_5/tf_bert_model_5/bert/embeddings/Gather_2/Reshape_1:0\", shape=(None,), dtype=int32), values=Tensor(\"gradient_tape/model_5/tf_bert_model_5/bert/embeddings/Gather_2/Reshape:0\", shape=(None, 768), dtype=float32), dense_shape=Tensor(\"gradient_tape/model_5/tf_bert_model_5/bert/embeddings/Gather_2/Const:0\", shape=(2,), dtype=int32)) to a dense representation may make it slow. Alternatively, output the indices and values of the IndexedSlices separately, and handle the vectorized outputs directly.\n"
     ]
    },
    {
     "name": "stderr",
     "output_type": "stream",
     "text": [
      "WARNING:tensorflow:Converting IndexedSlices(indices=Tensor(\"gradient_tape/model_5/tf_bert_model_5/bert/embeddings/Gather_2/Reshape_1:0\", shape=(None,), dtype=int32), values=Tensor(\"gradient_tape/model_5/tf_bert_model_5/bert/embeddings/Gather_2/Reshape:0\", shape=(None, 768), dtype=float32), dense_shape=Tensor(\"gradient_tape/model_5/tf_bert_model_5/bert/embeddings/Gather_2/Const:0\", shape=(2,), dtype=int32)) to a dense representation may make it slow. Alternatively, output the indices and values of the IndexedSlices separately, and handle the vectorized outputs directly.\n"
     ]
    },
    {
     "name": "stdout",
     "output_type": "stream",
     "text": [
      "WARNING:tensorflow:Converting IndexedSlices(indices=Tensor(\"gradient_tape/model_5/tf_bert_model_5/bert/embeddings/Gather_1/Reshape_1:0\", shape=(512,), dtype=int32), values=Tensor(\"gradient_tape/model_5/tf_bert_model_5/bert/embeddings/Gather_1/Reshape:0\", shape=(512, 768), dtype=float32), dense_shape=Tensor(\"gradient_tape/model_5/tf_bert_model_5/bert/embeddings/Gather_1/Const:0\", shape=(2,), dtype=int32)) to a dense representation may make it slow. Alternatively, output the indices and values of the IndexedSlices separately, and handle the vectorized outputs directly.\n"
     ]
    },
    {
     "name": "stderr",
     "output_type": "stream",
     "text": [
      "WARNING:tensorflow:Converting IndexedSlices(indices=Tensor(\"gradient_tape/model_5/tf_bert_model_5/bert/embeddings/Gather_1/Reshape_1:0\", shape=(512,), dtype=int32), values=Tensor(\"gradient_tape/model_5/tf_bert_model_5/bert/embeddings/Gather_1/Reshape:0\", shape=(512, 768), dtype=float32), dense_shape=Tensor(\"gradient_tape/model_5/tf_bert_model_5/bert/embeddings/Gather_1/Const:0\", shape=(2,), dtype=int32)) to a dense representation may make it slow. Alternatively, output the indices and values of the IndexedSlices separately, and handle the vectorized outputs directly.\n"
     ]
    },
    {
     "name": "stdout",
     "output_type": "stream",
     "text": [
      "WARNING:tensorflow:Converting IndexedSlices(indices=Tensor(\"gradient_tape/model_5/tf_bert_model_5/bert/embeddings/Gather/Reshape_1:0\", shape=(None,), dtype=int32), values=Tensor(\"gradient_tape/model_5/tf_bert_model_5/bert/embeddings/Gather/Reshape:0\", shape=(None, 768), dtype=float32), dense_shape=Tensor(\"gradient_tape/model_5/tf_bert_model_5/bert/embeddings/Gather/Const:0\", shape=(2,), dtype=int32)) to a dense representation may make it slow. Alternatively, output the indices and values of the IndexedSlices separately, and handle the vectorized outputs directly.\n"
     ]
    },
    {
     "name": "stderr",
     "output_type": "stream",
     "text": [
      "WARNING:tensorflow:Converting IndexedSlices(indices=Tensor(\"gradient_tape/model_5/tf_bert_model_5/bert/embeddings/Gather/Reshape_1:0\", shape=(None,), dtype=int32), values=Tensor(\"gradient_tape/model_5/tf_bert_model_5/bert/embeddings/Gather/Reshape:0\", shape=(None, 768), dtype=float32), dense_shape=Tensor(\"gradient_tape/model_5/tf_bert_model_5/bert/embeddings/Gather/Const:0\", shape=(2,), dtype=int32)) to a dense representation may make it slow. Alternatively, output the indices and values of the IndexedSlices separately, and handle the vectorized outputs directly.\n"
     ]
    },
    {
     "name": "stdout",
     "output_type": "stream",
     "text": [
      "WARNING:tensorflow:Converting IndexedSlices(indices=Tensor(\"gradient_tape/model_5/tf_bert_model_5/bert/embeddings/Gather_2/Reshape_1:0\", shape=(None,), dtype=int32), values=Tensor(\"gradient_tape/model_5/tf_bert_model_5/bert/embeddings/Gather_2/Reshape:0\", shape=(None, 768), dtype=float32), dense_shape=Tensor(\"gradient_tape/model_5/tf_bert_model_5/bert/embeddings/Gather_2/Const:0\", shape=(2,), dtype=int32)) to a dense representation may make it slow. Alternatively, output the indices and values of the IndexedSlices separately, and handle the vectorized outputs directly.\n"
     ]
    },
    {
     "name": "stderr",
     "output_type": "stream",
     "text": [
      "WARNING:tensorflow:Converting IndexedSlices(indices=Tensor(\"gradient_tape/model_5/tf_bert_model_5/bert/embeddings/Gather_2/Reshape_1:0\", shape=(None,), dtype=int32), values=Tensor(\"gradient_tape/model_5/tf_bert_model_5/bert/embeddings/Gather_2/Reshape:0\", shape=(None, 768), dtype=float32), dense_shape=Tensor(\"gradient_tape/model_5/tf_bert_model_5/bert/embeddings/Gather_2/Const:0\", shape=(2,), dtype=int32)) to a dense representation may make it slow. Alternatively, output the indices and values of the IndexedSlices separately, and handle the vectorized outputs directly.\n"
     ]
    },
    {
     "name": "stdout",
     "output_type": "stream",
     "text": [
      "WARNING:tensorflow:Converting IndexedSlices(indices=Tensor(\"gradient_tape/model_5/tf_bert_model_5/bert/embeddings/Gather_1/Reshape_1:0\", shape=(512,), dtype=int32), values=Tensor(\"gradient_tape/model_5/tf_bert_model_5/bert/embeddings/Gather_1/Reshape:0\", shape=(512, 768), dtype=float32), dense_shape=Tensor(\"gradient_tape/model_5/tf_bert_model_5/bert/embeddings/Gather_1/Const:0\", shape=(2,), dtype=int32)) to a dense representation may make it slow. Alternatively, output the indices and values of the IndexedSlices separately, and handle the vectorized outputs directly.\n"
     ]
    },
    {
     "name": "stderr",
     "output_type": "stream",
     "text": [
      "WARNING:tensorflow:Converting IndexedSlices(indices=Tensor(\"gradient_tape/model_5/tf_bert_model_5/bert/embeddings/Gather_1/Reshape_1:0\", shape=(512,), dtype=int32), values=Tensor(\"gradient_tape/model_5/tf_bert_model_5/bert/embeddings/Gather_1/Reshape:0\", shape=(512, 768), dtype=float32), dense_shape=Tensor(\"gradient_tape/model_5/tf_bert_model_5/bert/embeddings/Gather_1/Const:0\", shape=(2,), dtype=int32)) to a dense representation may make it slow. Alternatively, output the indices and values of the IndexedSlices separately, and handle the vectorized outputs directly.\n"
     ]
    },
    {
     "name": "stdout",
     "output_type": "stream",
     "text": [
      "4/4 [==============================] - 89s 14s/step - loss: 2.0418 - accuracy: 0.1917 - precision_5: 0.2162 - recall_5: 0.0667 - val_loss: 1.9751 - val_accuracy: 0.1200 - val_precision_5: 0.2857 - val_recall_5: 0.0200\n",
      "Epoch 2/3\n",
      "4/4 [==============================] - 37s 9s/step - loss: 1.9420 - accuracy: 0.1917 - precision_5: 0.1562 - recall_5: 0.0417 - val_loss: 1.9743 - val_accuracy: 0.1200 - val_precision_5: 0.2857 - val_recall_5: 0.0200\n",
      "Epoch 3/3\n",
      "4/4 [==============================] - 35s 9s/step - loss: 1.9801 - accuracy: 0.2250 - precision_5: 0.1176 - recall_5: 0.0333 - val_loss: 1.9728 - val_accuracy: 0.1300 - val_precision_5: 0.2857 - val_recall_5: 0.0200\n",
      "4/4 [==============================] - 9s 1s/step\n",
      "Test results for epsilon=1.0:\n",
      "Accuracy: 0.2100\n",
      "Precision: 0.0000\n",
      "Recall: 0.0000\n",
      "F1 Score: 0.1181\n",
      "\n",
      "==================================================\n",
      "Training with epsilon = 0.8\n",
      "==================================================\n"
     ]
    },
    {
     "name": "stderr",
     "output_type": "stream",
     "text": [
      "Some layers from the model checkpoint at nlptown/bert-base-multilingual-uncased-sentiment were not used when initializing TFBertModel: ['dropout_37', 'classifier']\n",
      "- This IS expected if you are initializing TFBertModel from the checkpoint of a model trained on another task or with another architecture (e.g. initializing a BertForSequenceClassification model from a BertForPreTraining model).\n",
      "- This IS NOT expected if you are initializing TFBertModel from the checkpoint of a model that you expect to be exactly identical (initializing a BertForSequenceClassification model from a BertForSequenceClassification model).\n",
      "All the layers of TFBertModel were initialized from the model checkpoint at nlptown/bert-base-multilingual-uncased-sentiment.\n",
      "If your task is similar to the task the model of the checkpoint was trained on, you can already use TFBertModel for predictions without further training.\n"
     ]
    },
    {
     "name": "stdout",
     "output_type": "stream",
     "text": [
      "DP enabled with epsilon=0.8, noise multiplier=6.056006578256736\n",
      "Epoch 1/3\n",
      "WARNING:tensorflow:Converting IndexedSlices(indices=Tensor(\"gradient_tape/model_6/tf_bert_model_6/bert/embeddings/Gather/Reshape_1:0\", shape=(None,), dtype=int32), values=Tensor(\"gradient_tape/model_6/tf_bert_model_6/bert/embeddings/Gather/Reshape:0\", shape=(None, 768), dtype=float32), dense_shape=Tensor(\"gradient_tape/model_6/tf_bert_model_6/bert/embeddings/Gather/Const:0\", shape=(2,), dtype=int32)) to a dense representation may make it slow. Alternatively, output the indices and values of the IndexedSlices separately, and handle the vectorized outputs directly.\n"
     ]
    },
    {
     "name": "stderr",
     "output_type": "stream",
     "text": [
      "WARNING:tensorflow:Converting IndexedSlices(indices=Tensor(\"gradient_tape/model_6/tf_bert_model_6/bert/embeddings/Gather/Reshape_1:0\", shape=(None,), dtype=int32), values=Tensor(\"gradient_tape/model_6/tf_bert_model_6/bert/embeddings/Gather/Reshape:0\", shape=(None, 768), dtype=float32), dense_shape=Tensor(\"gradient_tape/model_6/tf_bert_model_6/bert/embeddings/Gather/Const:0\", shape=(2,), dtype=int32)) to a dense representation may make it slow. Alternatively, output the indices and values of the IndexedSlices separately, and handle the vectorized outputs directly.\n"
     ]
    },
    {
     "name": "stdout",
     "output_type": "stream",
     "text": [
      "WARNING:tensorflow:Converting IndexedSlices(indices=Tensor(\"gradient_tape/model_6/tf_bert_model_6/bert/embeddings/Gather_2/Reshape_1:0\", shape=(None,), dtype=int32), values=Tensor(\"gradient_tape/model_6/tf_bert_model_6/bert/embeddings/Gather_2/Reshape:0\", shape=(None, 768), dtype=float32), dense_shape=Tensor(\"gradient_tape/model_6/tf_bert_model_6/bert/embeddings/Gather_2/Const:0\", shape=(2,), dtype=int32)) to a dense representation may make it slow. Alternatively, output the indices and values of the IndexedSlices separately, and handle the vectorized outputs directly.\n"
     ]
    },
    {
     "name": "stderr",
     "output_type": "stream",
     "text": [
      "WARNING:tensorflow:Converting IndexedSlices(indices=Tensor(\"gradient_tape/model_6/tf_bert_model_6/bert/embeddings/Gather_2/Reshape_1:0\", shape=(None,), dtype=int32), values=Tensor(\"gradient_tape/model_6/tf_bert_model_6/bert/embeddings/Gather_2/Reshape:0\", shape=(None, 768), dtype=float32), dense_shape=Tensor(\"gradient_tape/model_6/tf_bert_model_6/bert/embeddings/Gather_2/Const:0\", shape=(2,), dtype=int32)) to a dense representation may make it slow. Alternatively, output the indices and values of the IndexedSlices separately, and handle the vectorized outputs directly.\n"
     ]
    },
    {
     "name": "stdout",
     "output_type": "stream",
     "text": [
      "WARNING:tensorflow:Converting IndexedSlices(indices=Tensor(\"gradient_tape/model_6/tf_bert_model_6/bert/embeddings/Gather_1/Reshape_1:0\", shape=(512,), dtype=int32), values=Tensor(\"gradient_tape/model_6/tf_bert_model_6/bert/embeddings/Gather_1/Reshape:0\", shape=(512, 768), dtype=float32), dense_shape=Tensor(\"gradient_tape/model_6/tf_bert_model_6/bert/embeddings/Gather_1/Const:0\", shape=(2,), dtype=int32)) to a dense representation may make it slow. Alternatively, output the indices and values of the IndexedSlices separately, and handle the vectorized outputs directly.\n"
     ]
    },
    {
     "name": "stderr",
     "output_type": "stream",
     "text": [
      "WARNING:tensorflow:Converting IndexedSlices(indices=Tensor(\"gradient_tape/model_6/tf_bert_model_6/bert/embeddings/Gather_1/Reshape_1:0\", shape=(512,), dtype=int32), values=Tensor(\"gradient_tape/model_6/tf_bert_model_6/bert/embeddings/Gather_1/Reshape:0\", shape=(512, 768), dtype=float32), dense_shape=Tensor(\"gradient_tape/model_6/tf_bert_model_6/bert/embeddings/Gather_1/Const:0\", shape=(2,), dtype=int32)) to a dense representation may make it slow. Alternatively, output the indices and values of the IndexedSlices separately, and handle the vectorized outputs directly.\n"
     ]
    },
    {
     "name": "stdout",
     "output_type": "stream",
     "text": [
      "WARNING:tensorflow:Converting IndexedSlices(indices=Tensor(\"gradient_tape/model_6/tf_bert_model_6/bert/embeddings/Gather/Reshape_1:0\", shape=(None,), dtype=int32), values=Tensor(\"gradient_tape/model_6/tf_bert_model_6/bert/embeddings/Gather/Reshape:0\", shape=(None, 768), dtype=float32), dense_shape=Tensor(\"gradient_tape/model_6/tf_bert_model_6/bert/embeddings/Gather/Const:0\", shape=(2,), dtype=int32)) to a dense representation may make it slow. Alternatively, output the indices and values of the IndexedSlices separately, and handle the vectorized outputs directly.\n"
     ]
    },
    {
     "name": "stderr",
     "output_type": "stream",
     "text": [
      "WARNING:tensorflow:Converting IndexedSlices(indices=Tensor(\"gradient_tape/model_6/tf_bert_model_6/bert/embeddings/Gather/Reshape_1:0\", shape=(None,), dtype=int32), values=Tensor(\"gradient_tape/model_6/tf_bert_model_6/bert/embeddings/Gather/Reshape:0\", shape=(None, 768), dtype=float32), dense_shape=Tensor(\"gradient_tape/model_6/tf_bert_model_6/bert/embeddings/Gather/Const:0\", shape=(2,), dtype=int32)) to a dense representation may make it slow. Alternatively, output the indices and values of the IndexedSlices separately, and handle the vectorized outputs directly.\n"
     ]
    },
    {
     "name": "stdout",
     "output_type": "stream",
     "text": [
      "WARNING:tensorflow:Converting IndexedSlices(indices=Tensor(\"gradient_tape/model_6/tf_bert_model_6/bert/embeddings/Gather_2/Reshape_1:0\", shape=(None,), dtype=int32), values=Tensor(\"gradient_tape/model_6/tf_bert_model_6/bert/embeddings/Gather_2/Reshape:0\", shape=(None, 768), dtype=float32), dense_shape=Tensor(\"gradient_tape/model_6/tf_bert_model_6/bert/embeddings/Gather_2/Const:0\", shape=(2,), dtype=int32)) to a dense representation may make it slow. Alternatively, output the indices and values of the IndexedSlices separately, and handle the vectorized outputs directly.\n"
     ]
    },
    {
     "name": "stderr",
     "output_type": "stream",
     "text": [
      "WARNING:tensorflow:Converting IndexedSlices(indices=Tensor(\"gradient_tape/model_6/tf_bert_model_6/bert/embeddings/Gather_2/Reshape_1:0\", shape=(None,), dtype=int32), values=Tensor(\"gradient_tape/model_6/tf_bert_model_6/bert/embeddings/Gather_2/Reshape:0\", shape=(None, 768), dtype=float32), dense_shape=Tensor(\"gradient_tape/model_6/tf_bert_model_6/bert/embeddings/Gather_2/Const:0\", shape=(2,), dtype=int32)) to a dense representation may make it slow. Alternatively, output the indices and values of the IndexedSlices separately, and handle the vectorized outputs directly.\n"
     ]
    },
    {
     "name": "stdout",
     "output_type": "stream",
     "text": [
      "WARNING:tensorflow:Converting IndexedSlices(indices=Tensor(\"gradient_tape/model_6/tf_bert_model_6/bert/embeddings/Gather_1/Reshape_1:0\", shape=(512,), dtype=int32), values=Tensor(\"gradient_tape/model_6/tf_bert_model_6/bert/embeddings/Gather_1/Reshape:0\", shape=(512, 768), dtype=float32), dense_shape=Tensor(\"gradient_tape/model_6/tf_bert_model_6/bert/embeddings/Gather_1/Const:0\", shape=(2,), dtype=int32)) to a dense representation may make it slow. Alternatively, output the indices and values of the IndexedSlices separately, and handle the vectorized outputs directly.\n"
     ]
    },
    {
     "name": "stderr",
     "output_type": "stream",
     "text": [
      "WARNING:tensorflow:Converting IndexedSlices(indices=Tensor(\"gradient_tape/model_6/tf_bert_model_6/bert/embeddings/Gather_1/Reshape_1:0\", shape=(512,), dtype=int32), values=Tensor(\"gradient_tape/model_6/tf_bert_model_6/bert/embeddings/Gather_1/Reshape:0\", shape=(512, 768), dtype=float32), dense_shape=Tensor(\"gradient_tape/model_6/tf_bert_model_6/bert/embeddings/Gather_1/Const:0\", shape=(2,), dtype=int32)) to a dense representation may make it slow. Alternatively, output the indices and values of the IndexedSlices separately, and handle the vectorized outputs directly.\n"
     ]
    },
    {
     "name": "stdout",
     "output_type": "stream",
     "text": [
      "4/4 [==============================] - 97s 15s/step - loss: 1.4813 - accuracy: 0.2333 - precision_6: 0.2333 - recall_6: 0.0583 - val_loss: 1.5258 - val_accuracy: 0.2500 - val_precision_6: 0.1250 - val_recall_6: 0.0300\n",
      "Epoch 2/3\n",
      "4/4 [==============================] - 36s 9s/step - loss: 1.5386 - accuracy: 0.2500 - precision_6: 0.0870 - recall_6: 0.0167 - val_loss: 1.5257 - val_accuracy: 0.2500 - val_precision_6: 0.1250 - val_recall_6: 0.0300\n",
      "Epoch 3/3\n",
      "4/4 [==============================] - 36s 9s/step - loss: 1.5190 - accuracy: 0.2000 - precision_6: 0.0833 - recall_6: 0.0167 - val_loss: 1.5259 - val_accuracy: 0.2500 - val_precision_6: 0.1250 - val_recall_6: 0.0300\n",
      "4/4 [==============================] - 13s 2s/step\n",
      "Test results for epsilon=0.8:\n",
      "Accuracy: 0.1300\n",
      "Precision: 0.0000\n",
      "Recall: 0.0000\n",
      "F1 Score: 0.1322\n",
      "\n",
      "==================================================\n",
      "Training with epsilon = 0.5\n",
      "==================================================\n"
     ]
    },
    {
     "name": "stderr",
     "output_type": "stream",
     "text": [
      "Some layers from the model checkpoint at nlptown/bert-base-multilingual-uncased-sentiment were not used when initializing TFBertModel: ['dropout_37', 'classifier']\n",
      "- This IS expected if you are initializing TFBertModel from the checkpoint of a model trained on another task or with another architecture (e.g. initializing a BertForSequenceClassification model from a BertForPreTraining model).\n",
      "- This IS NOT expected if you are initializing TFBertModel from the checkpoint of a model that you expect to be exactly identical (initializing a BertForSequenceClassification model from a BertForSequenceClassification model).\n",
      "All the layers of TFBertModel were initialized from the model checkpoint at nlptown/bert-base-multilingual-uncased-sentiment.\n",
      "If your task is similar to the task the model of the checkpoint was trained on, you can already use TFBertModel for predictions without further training.\n"
     ]
    },
    {
     "name": "stdout",
     "output_type": "stream",
     "text": [
      "DP enabled with epsilon=0.5, noise multiplier=9.689610525210778\n",
      "Epoch 1/3\n",
      "WARNING:tensorflow:Converting IndexedSlices(indices=Tensor(\"gradient_tape/model_7/tf_bert_model_7/bert/embeddings/Gather/Reshape_1:0\", shape=(None,), dtype=int32), values=Tensor(\"gradient_tape/model_7/tf_bert_model_7/bert/embeddings/Gather/Reshape:0\", shape=(None, 768), dtype=float32), dense_shape=Tensor(\"gradient_tape/model_7/tf_bert_model_7/bert/embeddings/Gather/Const:0\", shape=(2,), dtype=int32)) to a dense representation may make it slow. Alternatively, output the indices and values of the IndexedSlices separately, and handle the vectorized outputs directly.\n"
     ]
    },
    {
     "name": "stderr",
     "output_type": "stream",
     "text": [
      "WARNING:tensorflow:Converting IndexedSlices(indices=Tensor(\"gradient_tape/model_7/tf_bert_model_7/bert/embeddings/Gather/Reshape_1:0\", shape=(None,), dtype=int32), values=Tensor(\"gradient_tape/model_7/tf_bert_model_7/bert/embeddings/Gather/Reshape:0\", shape=(None, 768), dtype=float32), dense_shape=Tensor(\"gradient_tape/model_7/tf_bert_model_7/bert/embeddings/Gather/Const:0\", shape=(2,), dtype=int32)) to a dense representation may make it slow. Alternatively, output the indices and values of the IndexedSlices separately, and handle the vectorized outputs directly.\n"
     ]
    },
    {
     "name": "stdout",
     "output_type": "stream",
     "text": [
      "WARNING:tensorflow:Converting IndexedSlices(indices=Tensor(\"gradient_tape/model_7/tf_bert_model_7/bert/embeddings/Gather_2/Reshape_1:0\", shape=(None,), dtype=int32), values=Tensor(\"gradient_tape/model_7/tf_bert_model_7/bert/embeddings/Gather_2/Reshape:0\", shape=(None, 768), dtype=float32), dense_shape=Tensor(\"gradient_tape/model_7/tf_bert_model_7/bert/embeddings/Gather_2/Const:0\", shape=(2,), dtype=int32)) to a dense representation may make it slow. Alternatively, output the indices and values of the IndexedSlices separately, and handle the vectorized outputs directly.\n"
     ]
    },
    {
     "name": "stderr",
     "output_type": "stream",
     "text": [
      "WARNING:tensorflow:Converting IndexedSlices(indices=Tensor(\"gradient_tape/model_7/tf_bert_model_7/bert/embeddings/Gather_2/Reshape_1:0\", shape=(None,), dtype=int32), values=Tensor(\"gradient_tape/model_7/tf_bert_model_7/bert/embeddings/Gather_2/Reshape:0\", shape=(None, 768), dtype=float32), dense_shape=Tensor(\"gradient_tape/model_7/tf_bert_model_7/bert/embeddings/Gather_2/Const:0\", shape=(2,), dtype=int32)) to a dense representation may make it slow. Alternatively, output the indices and values of the IndexedSlices separately, and handle the vectorized outputs directly.\n"
     ]
    },
    {
     "name": "stdout",
     "output_type": "stream",
     "text": [
      "WARNING:tensorflow:Converting IndexedSlices(indices=Tensor(\"gradient_tape/model_7/tf_bert_model_7/bert/embeddings/Gather_1/Reshape_1:0\", shape=(512,), dtype=int32), values=Tensor(\"gradient_tape/model_7/tf_bert_model_7/bert/embeddings/Gather_1/Reshape:0\", shape=(512, 768), dtype=float32), dense_shape=Tensor(\"gradient_tape/model_7/tf_bert_model_7/bert/embeddings/Gather_1/Const:0\", shape=(2,), dtype=int32)) to a dense representation may make it slow. Alternatively, output the indices and values of the IndexedSlices separately, and handle the vectorized outputs directly.\n"
     ]
    },
    {
     "name": "stderr",
     "output_type": "stream",
     "text": [
      "WARNING:tensorflow:Converting IndexedSlices(indices=Tensor(\"gradient_tape/model_7/tf_bert_model_7/bert/embeddings/Gather_1/Reshape_1:0\", shape=(512,), dtype=int32), values=Tensor(\"gradient_tape/model_7/tf_bert_model_7/bert/embeddings/Gather_1/Reshape:0\", shape=(512, 768), dtype=float32), dense_shape=Tensor(\"gradient_tape/model_7/tf_bert_model_7/bert/embeddings/Gather_1/Const:0\", shape=(2,), dtype=int32)) to a dense representation may make it slow. Alternatively, output the indices and values of the IndexedSlices separately, and handle the vectorized outputs directly.\n"
     ]
    },
    {
     "name": "stdout",
     "output_type": "stream",
     "text": [
      "WARNING:tensorflow:Converting IndexedSlices(indices=Tensor(\"gradient_tape/model_7/tf_bert_model_7/bert/embeddings/Gather/Reshape_1:0\", shape=(None,), dtype=int32), values=Tensor(\"gradient_tape/model_7/tf_bert_model_7/bert/embeddings/Gather/Reshape:0\", shape=(None, 768), dtype=float32), dense_shape=Tensor(\"gradient_tape/model_7/tf_bert_model_7/bert/embeddings/Gather/Const:0\", shape=(2,), dtype=int32)) to a dense representation may make it slow. Alternatively, output the indices and values of the IndexedSlices separately, and handle the vectorized outputs directly.\n"
     ]
    },
    {
     "name": "stderr",
     "output_type": "stream",
     "text": [
      "WARNING:tensorflow:Converting IndexedSlices(indices=Tensor(\"gradient_tape/model_7/tf_bert_model_7/bert/embeddings/Gather/Reshape_1:0\", shape=(None,), dtype=int32), values=Tensor(\"gradient_tape/model_7/tf_bert_model_7/bert/embeddings/Gather/Reshape:0\", shape=(None, 768), dtype=float32), dense_shape=Tensor(\"gradient_tape/model_7/tf_bert_model_7/bert/embeddings/Gather/Const:0\", shape=(2,), dtype=int32)) to a dense representation may make it slow. Alternatively, output the indices and values of the IndexedSlices separately, and handle the vectorized outputs directly.\n"
     ]
    },
    {
     "name": "stdout",
     "output_type": "stream",
     "text": [
      "WARNING:tensorflow:Converting IndexedSlices(indices=Tensor(\"gradient_tape/model_7/tf_bert_model_7/bert/embeddings/Gather_2/Reshape_1:0\", shape=(None,), dtype=int32), values=Tensor(\"gradient_tape/model_7/tf_bert_model_7/bert/embeddings/Gather_2/Reshape:0\", shape=(None, 768), dtype=float32), dense_shape=Tensor(\"gradient_tape/model_7/tf_bert_model_7/bert/embeddings/Gather_2/Const:0\", shape=(2,), dtype=int32)) to a dense representation may make it slow. Alternatively, output the indices and values of the IndexedSlices separately, and handle the vectorized outputs directly.\n"
     ]
    },
    {
     "name": "stderr",
     "output_type": "stream",
     "text": [
      "WARNING:tensorflow:Converting IndexedSlices(indices=Tensor(\"gradient_tape/model_7/tf_bert_model_7/bert/embeddings/Gather_2/Reshape_1:0\", shape=(None,), dtype=int32), values=Tensor(\"gradient_tape/model_7/tf_bert_model_7/bert/embeddings/Gather_2/Reshape:0\", shape=(None, 768), dtype=float32), dense_shape=Tensor(\"gradient_tape/model_7/tf_bert_model_7/bert/embeddings/Gather_2/Const:0\", shape=(2,), dtype=int32)) to a dense representation may make it slow. Alternatively, output the indices and values of the IndexedSlices separately, and handle the vectorized outputs directly.\n"
     ]
    },
    {
     "name": "stdout",
     "output_type": "stream",
     "text": [
      "WARNING:tensorflow:Converting IndexedSlices(indices=Tensor(\"gradient_tape/model_7/tf_bert_model_7/bert/embeddings/Gather_1/Reshape_1:0\", shape=(512,), dtype=int32), values=Tensor(\"gradient_tape/model_7/tf_bert_model_7/bert/embeddings/Gather_1/Reshape:0\", shape=(512, 768), dtype=float32), dense_shape=Tensor(\"gradient_tape/model_7/tf_bert_model_7/bert/embeddings/Gather_1/Const:0\", shape=(2,), dtype=int32)) to a dense representation may make it slow. Alternatively, output the indices and values of the IndexedSlices separately, and handle the vectorized outputs directly.\n"
     ]
    },
    {
     "name": "stderr",
     "output_type": "stream",
     "text": [
      "WARNING:tensorflow:Converting IndexedSlices(indices=Tensor(\"gradient_tape/model_7/tf_bert_model_7/bert/embeddings/Gather_1/Reshape_1:0\", shape=(512,), dtype=int32), values=Tensor(\"gradient_tape/model_7/tf_bert_model_7/bert/embeddings/Gather_1/Reshape:0\", shape=(512, 768), dtype=float32), dense_shape=Tensor(\"gradient_tape/model_7/tf_bert_model_7/bert/embeddings/Gather_1/Const:0\", shape=(2,), dtype=int32)) to a dense representation may make it slow. Alternatively, output the indices and values of the IndexedSlices separately, and handle the vectorized outputs directly.\n"
     ]
    },
    {
     "name": "stdout",
     "output_type": "stream",
     "text": [
      "4/4 [==============================] - 106s 17s/step - loss: 1.5884 - accuracy: 0.2417 - precision_7: 0.2222 - recall_7: 0.0333 - val_loss: 1.6736 - val_accuracy: 0.2700 - val_precision_7: 0.5000 - val_recall_7: 0.0100\n",
      "Epoch 2/3\n",
      "4/4 [==============================] - 53s 12s/step - loss: 1.6499 - accuracy: 0.1917 - precision_7: 0.4167 - recall_7: 0.0833 - val_loss: 1.6743 - val_accuracy: 0.2700 - val_precision_7: 0.5000 - val_recall_7: 0.0100\n",
      "Epoch 3/3\n",
      "4/4 [==============================] - 38s 9s/step - loss: 1.6157 - accuracy: 0.2583 - precision_7: 0.1111 - recall_7: 0.0167 - val_loss: 1.6752 - val_accuracy: 0.2700 - val_precision_7: 0.5000 - val_recall_7: 0.0100\n",
      "4/4 [==============================] - 12s 2s/step\n",
      "Test results for epsilon=0.5:\n",
      "Accuracy: 0.2500\n",
      "Precision: 0.5000\n",
      "Recall: 0.0100\n",
      "F1 Score: 0.1546\n"
     ]
    }
   ],
   "execution_count": 11
  },
  {
   "metadata": {
    "ExecuteTime": {
     "end_time": "2025-03-30T22:16:20.843345Z",
     "start_time": "2025-03-30T22:16:20.306207Z"
    }
   },
   "cell_type": "code",
   "source": [
    "# Plot and analyze results\n",
    "results_df = plot_privacy_utility_tradeoff(results)\n",
    "print(\"Performance Summary:\")\n",
    "display(results_df)\n"
   ],
   "id": "55296a0d987bb025",
   "outputs": [
    {
     "data": {
      "text/plain": [
       "<Figure size 1200x800 with 2 Axes>"
      ],
      "image/png": "[encoded data removed]"
     },
     "metadata": {},
     "output_type": "display_data"
    },
    {
     "name": "stdout",
     "output_type": "stream",
     "text": [
      "Performance Summary:\n"
     ]
    },
    {
     "data": {
      "text/plain": [
       "  Epsilon  Accuracy  F1 Score\n",
       "0   No DP      0.69  0.690092\n",
       "1    10.0      0.05  0.039441\n",
       "2     5.0      0.53  0.414444\n",
       "3     2.0      0.28  0.295169\n",
       "4     1.0      0.21  0.118125\n",
       "5     0.8      0.13  0.132188\n",
       "6     0.5      0.25  0.154626"
      ],
      "text/html": [
       "<div>\n",
       "<style scoped>\n",
       "    .dataframe tbody tr th:only-of-type {\n",
       "        vertical-align: middle;\n",
       "    }\n",
       "\n",
       "    .dataframe tbody tr th {\n",
       "        vertical-align: top;\n",
       "    }\n",
       "\n",
       "    .dataframe thead th {\n",
       "        text-align: right;\n",
       "    }\n",
       "</style>\n",
       "<table border=\"1\" class=\"dataframe\">\n",
       "  <thead>\n",
       "    <tr style=\"text-align: right;\">\n",
       "      <th></th>\n",
       "      <th>Epsilon</th>\n",
       "      <th>Accuracy</th>\n",
       "      <th>F1 Score</th>\n",
       "    </tr>\n",
       "  </thead>\n",
       "  <tbody>\n",
       "    <tr>\n",
       "      <th>0</th>\n",
       "      <td>No DP</td>\n",
       "      <td>0.69</td>\n",
       "      <td>0.690092</td>\n",
       "    </tr>\n",
       "    <tr>\n",
       "      <th>1</th>\n",
       "      <td>10.0</td>\n",
       "      <td>0.05</td>\n",
       "      <td>0.039441</td>\n",
       "    </tr>\n",
       "    <tr>\n",
       "      <th>2</th>\n",
       "      <td>5.0</td>\n",
       "      <td>0.53</td>\n",
       "      <td>0.414444</td>\n",
       "    </tr>\n",
       "    <tr>\n",
       "      <th>3</th>\n",
       "      <td>2.0</td>\n",
       "      <td>0.28</td>\n",
       "      <td>0.295169</td>\n",
       "    </tr>\n",
       "    <tr>\n",
       "      <th>4</th>\n",
       "      <td>1.0</td>\n",
       "      <td>0.21</td>\n",
       "      <td>0.118125</td>\n",
       "    </tr>\n",
       "    <tr>\n",
       "      <th>5</th>\n",
       "      <td>0.8</td>\n",
       "      <td>0.13</td>\n",
       "      <td>0.132188</td>\n",
       "    </tr>\n",
       "    <tr>\n",
       "      <th>6</th>\n",
       "      <td>0.5</td>\n",
       "      <td>0.25</td>\n",
       "      <td>0.154626</td>\n",
       "    </tr>\n",
       "  </tbody>\n",
       "</table>\n",
       "</div>"
      ]
     },
     "metadata": {},
     "output_type": "display_data"
    }
   ],
   "execution_count": 12
  },
  {
   "metadata": {},
   "cell_type": "code",
   "source": [
    "# Save results if needed\n",
    "# # results_df.to_csv('dp_sentiment_analysis_results.csv', index=False)"
   ],
   "id": "afc084b060c1b8fc",
   "outputs": [],
   "execution_count": 13
  },
  {
   "metadata": {},
   "cell_type": "code",
   "source": "",
   "id": "d3bba1f43acf8475",
   "outputs": [],
   "execution_count": 13
  }
 ],
 "metadata": {
  "kernelspec": {
   "display_name": "Python 3 (ipykernel)",
   "language": "python",
   "name": "python3"
  },
  "language_info": {
   "codemirror_mode": {
    "name": "ipython",
    "version": 2
   },
   "file_extension": ".py",
   "mimetype": "text/x-python",
   "name": "python",
   "nbconvert_exporter": "python",
   "pygments_lexer": "ipython2",
   "version": "2.7.6"
  }
 },
 "nbformat": 4,
 "nbformat_minor": 5
}
